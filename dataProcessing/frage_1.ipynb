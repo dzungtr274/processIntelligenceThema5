{
 "cells": [
  {
   "cell_type": "code",
   "execution_count": null,
   "id": "initial_id",
   "metadata": {
    "collapsed": true
   },
   "outputs": [],
   "source": [
    "import pm4py\n",
    "import pandas as pd\n",
    "ocel =pm4py.read_ocel_json('../global/itam_ocel.jsonl')\n",
    "xes = pm4py.read_xes(\"itam_ocel_xes.xes\")\n",
    "print(ocel)"
   ]
  },
  {
   "cell_type": "code",
   "outputs": [],
   "source": [
    "dfg, start_activities, end_activities = pm4py.discover_dfg(xes, \n",
    "                                                           case_id_key='case:concept:name',\n",
    "                                                           activity_key='concept:name',\n",
    "                                                           timestamp_key='time:timestamp'\n",
    "                                                           )\n",
    "pm4py.vis.view_dfg(dfg, start_activities, end_activities)"
   ],
   "metadata": {
    "collapsed": false
   },
   "id": "959f36342b51774b",
   "execution_count": null
  },
  {
   "cell_type": "code",
   "outputs": [],
   "source": [
    "bpmn = pm4py.discover_bpmn_inductive(xes)\n",
    "pm4py.vis.view_bpmn(bpmn)"
   ],
   "metadata": {
    "collapsed": false
   },
   "id": "47cf3036af25dfd3",
   "execution_count": null
  },
  {
   "cell_type": "code",
   "outputs": [],
   "source": [
    "heuristics_net = pm4py.discover_heuristics_net(xes)\n",
    "pm4py.vis.view_heuristics_net(heuristics_net)"
   ],
   "metadata": {
    "collapsed": false
   },
   "id": "3f3977518c86b4d6",
   "execution_count": null
  },
  {
   "cell_type": "code",
   "outputs": [],
   "source": [
    "count = 1\n",
    "for variant, subdf in pm4py.split_by_process_variant(xes):\n",
    "    print(f\"Variante: {count}\")\n",
    "    print(variant)\n",
    "    count += 1;"
   ],
   "metadata": {
    "collapsed": false
   },
   "id": "3642fa07eea1c21c",
   "execution_count": null
  },
  {
   "cell_type": "code",
   "outputs": [],
   "source": [
    "print(f\"Anzahl der Variante: {count - 1}\")"
   ],
   "metadata": {
    "collapsed": false
   },
   "id": "baac2690a9d1e47",
   "execution_count": null
  }
 ],
 "metadata": {
  "kernelspec": {
   "display_name": "Python 3",
   "language": "python",
   "name": "python3"
  },
  "language_info": {
   "codemirror_mode": {
    "name": "ipython",
    "version": 2
   },
   "file_extension": ".py",
   "mimetype": "text/x-python",
   "name": "python",
   "nbconvert_exporter": "python",
   "pygments_lexer": "ipython2",
   "version": "2.7.6"
  }
 },
 "nbformat": 4,
 "nbformat_minor": 5
}
