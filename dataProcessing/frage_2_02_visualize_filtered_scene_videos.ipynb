{
 "cells": [
  {
   "cell_type": "code",
   "execution_count": null,
   "id": "5e90a3de49f75848",
   "metadata": {
    "ExecuteTime": {
     "end_time": "2024-12-11T14:17:03.516983Z",
     "start_time": "2024-12-11T14:17:03.512192Z"
    },
    "collapsed": false
   },
   "outputs": [],
   "source": [
    "import pm4py\n",
    "\n",
    "### THIS FUNCTION SERVES THE FILTER OF SCENE VIDEOS FILES\n",
    "### WRITE METHODS WERE EXCLUDED AFTER FIRST FILTER AND MANUAL ADJUSTMENT\n",
    "\n",
    "### FILTERED BY OBJECTS AND EVENTUALLY ACTIVITIES\n",
    "def vis_write_ocel(scene:str, filter:bool, event_filter:bool, process_instance:str, objects:list, events:list):\n",
    "    ## scene: scene number\n",
    "    ## filter: check if scene should be split in smaller cases\n",
    "    ## process_instance: nai - New asset inventory / adtc - Asset disbursement to clients / ssaco - self-service asset check-out\n",
    "    ## objects: objects which should be excluded to filter\n",
    "    \n",
    "    video_log_ocel = pm4py.read_ocel_json(f'../scene{scene}/scene{scene}_video_ocel.json')\n",
    "\n",
    "    if filter == False:\n",
    "        ### OCEL\n",
    "        # Visualize\n",
    "        ocel_vis = pm4py.ocel.discover_ocdfg(video_log_ocel)\n",
    "        pm4py.vis.view_ocdfg(ocel_vis)\n",
    "        \n",
    "        print(video_log_ocel)\n",
    "\n",
    "        \n",
    "        # Write\n",
    "        # ocel_path = f'../dataProcessing/filteredSceneVideoOCEL/filtered_scene{scene}_video_ocel_{process_instance}'\n",
    "        # pm4py.write_ocel_json(video_log_ocel, ocel_path)\n",
    "    \n",
    "    else:\n",
    "        ### OCEL\n",
    "        # Visualize\n",
    "        \n",
    "        # First filter: filtered by objects\n",
    "        filtered_ocel = pm4py.filtering.filter_ocel_objects(video_log_ocel, object_identifiers=objects, positive=False, level=2)\n",
    "        \n",
    "        # Second filter (if necessary for more detailed filter): filtered by activities\n",
    "        if event_filter == True:\n",
    "            filtered_ocel_event = pm4py.filtering.filter_ocel_event_attribute(filtered_ocel,attribute_key='ocel:activity',attribute_values=events,positive=False)\n",
    "            ocel_vis = pm4py.ocel.discover_ocdfg(filtered_ocel_event)\n",
    "            pm4py.vis.view_ocdfg(ocel_vis)\n",
    "            \n",
    "            print(filtered_ocel_event)\n",
    "\n",
    "            # Write\n",
    "            # ocel_path = f'../dataProcessing/filteredSceneVideoOCEL/filtered_scene{scene}_video_ocel_{process_instance}'\n",
    "            # pm4py.write_ocel_json(filtered_ocel_event,ocel_path)\n",
    "        else:\n",
    "            ocel_vis = pm4py.ocel.discover_ocdfg(filtered_ocel)\n",
    "            pm4py.vis.view_ocdfg(ocel_vis)\n",
    "        \n",
    "            print(filtered_ocel)\n",
    "\n",
    "            # Write\n",
    "            # ocel_path = f'../dataProcessing/filteredSceneVideoOCEL/filtered_scene{scene}_video_ocel_{process_instance}'\n",
    "            # pm4py.write_ocel_json(filtered_ocel,ocel_path)"
   ]
  },
  {
   "cell_type": "code",
   "execution_count": null,
   "id": "c44ad5afc0a2435d",
   "metadata": {
    "ExecuteTime": {
     "end_time": "2024-12-11T14:17:04.161877Z",
     "start_time": "2024-12-11T14:17:03.518127Z"
    },
    "collapsed": false
   },
   "outputs": [],
   "source": [
    "vis_write_ocel('01', False, False, 'adtc', [], [])"
   ]
  },
  {
   "cell_type": "code",
   "execution_count": null,
   "id": "2416e471ff2d2559",
   "metadata": {
    "ExecuteTime": {
     "end_time": "2024-12-11T14:17:04.841742Z",
     "start_time": "2024-12-11T14:17:04.161877Z"
    },
    "collapsed": false
   },
   "outputs": [],
   "source": [
    "vis_write_ocel('02',False, False, 'nai', [], [])"
   ]
  },
  {
   "cell_type": "code",
   "execution_count": null,
   "id": "ab0cd9ce30e89e84",
   "metadata": {
    "ExecuteTime": {
     "end_time": "2024-12-11T14:30:51.397230Z",
     "start_time": "2024-12-11T14:30:49.591535Z"
    },
    "collapsed": false
   },
   "outputs": [],
   "source": [
    "vis_write_ocel('03',True,False,'nai',['L1','L3','C1','C5','K1','C6','H4'],[])\n",
    "# some of relevant objects like admin_user or repair_desk were excluded after the filter\n",
    "# -> manually add these into the jsonocel file and visualize using non-function\n",
    "\n",
    "read_ocel = pm4py.read_ocel_json('../dataProcessing/filteredSceneVideoOCEL/filtered_scene03_video_ocel_nai.jsonocel')\n",
    "discover_ocel  = pm4py.ocel.discover_ocdfg(read_ocel)\n",
    "vis_ocel = pm4py.vis.view_ocdfg(discover_ocel)"
   ]
  },
  {
   "cell_type": "code",
   "execution_count": null,
   "id": "e70537667a396484",
   "metadata": {
    "ExecuteTime": {
     "end_time": "2024-12-11T14:17:06.105506Z",
     "start_time": "2024-12-11T14:17:05.402137Z"
    },
    "collapsed": false
   },
   "outputs": [],
   "source": [
    "vis_write_ocel('03',True,False,'ssaco',['L1','L3','C1','A1','L5'],[])"
   ]
  },
  {
   "cell_type": "code",
   "execution_count": null,
   "id": "71b31deab11716d7",
   "metadata": {
    "ExecuteTime": {
     "end_time": "2024-12-11T14:43:27.615776Z",
     "start_time": "2024-12-11T14:43:25.922013Z"
    },
    "collapsed": false
   },
   "outputs": [],
   "source": [
    "vis_write_ocel('04',True,False,'nai',['M1','C2'],[])\n",
    "# here also admin_user and it_working_desk went lost after the filter\n",
    "\n",
    "read_ocel = pm4py.read_ocel_json('../dataProcessing/filteredSceneVideoOCEL/filtered_scene04_video_ocel_nai.jsonocel')\n",
    "discover_ocel  = pm4py.ocel.discover_ocdfg(read_ocel)\n",
    "vis_ocel = pm4py.vis.view_ocdfg(discover_ocel)"
   ]
  },
  {
   "cell_type": "code",
   "execution_count": null,
   "id": "cce820d9eb72b8a5",
   "metadata": {
    "ExecuteTime": {
     "end_time": "2024-12-11T14:17:07.410134Z",
     "start_time": "2024-12-11T14:17:06.714976Z"
    },
    "collapsed": false
   },
   "outputs": [],
   "source": [
    "vis_write_ocel('05',True,True,'ssaco',['L1'],['Open window','other, see notes'])"
   ]
  },
  {
   "cell_type": "code",
   "execution_count": null,
   "id": "dedd78a2390d040c",
   "metadata": {
    "ExecuteTime": {
     "end_time": "2024-12-11T14:49:16.857624Z",
     "start_time": "2024-12-11T14:49:15.439974Z"
    },
    "collapsed": false
   },
   "outputs": [],
   "source": [
    "vis_write_ocel('06',True,False,'nai',['C1', 'L3', 'P2','C10', 'H11','C9','K4'],[])\n",
    "# here laptop_shelf, admin_user and it_working_desk were missed\n",
    "\n",
    "read_ocel = pm4py.read_ocel_json('../dataProcessing/filteredSceneVideoOCEL/filtered_scene06_video_ocel_nai.jsonocel')\n",
    "discover_ocel  = pm4py.ocel.discover_ocdfg(read_ocel)\n",
    "vis_ocel = pm4py.vis.view_ocdfg(discover_ocel)"
   ]
  },
  {
   "cell_type": "code",
   "execution_count": null,
   "id": "4cd7eae061537885",
   "metadata": {
    "ExecuteTime": {
     "end_time": "2024-12-11T14:52:15.025284Z",
     "start_time": "2024-12-11T14:52:13.801859Z"
    },
    "collapsed": false
   },
   "outputs": [],
   "source": [
    "vis_write_ocel('06',True,False,'ssaco',['C1', 'L3', 'P2', 'A1', 'L6'],[])\n",
    "# door was missed\n",
    "\n",
    "read_ocel = pm4py.read_ocel_json('../dataProcessing/filteredSceneVideoOCEL/filtered_scene06_video_ocel_ssaco.jsonocel')\n",
    "discover_ocel  = pm4py.ocel.discover_ocdfg(read_ocel)\n",
    "vis_ocel = pm4py.vis.view_ocdfg(discover_ocel)"
   ]
  },
  {
   "cell_type": "code",
   "execution_count": null,
   "id": "c37d36cc6b4e221",
   "metadata": {
    "ExecuteTime": {
     "end_time": "2024-12-11T15:01:14.381737Z",
     "start_time": "2024-12-11T15:01:12.831780Z"
    },
    "collapsed": false
   },
   "outputs": [],
   "source": [
    "vis_write_ocel('07',True,True,'nai',['L5'],['Enter room','Leave room'])\n",
    "# admin_user and it_working_desk missed\n",
    "\n",
    "read_ocel = pm4py.read_ocel_json('../dataProcessing/filteredSceneVideoOCEL/filtered_scene07_video_ocel_nai.jsonocel')\n",
    "discover_ocel  = pm4py.ocel.discover_ocdfg(read_ocel)\n",
    "vis_ocel = pm4py.vis.view_ocdfg(discover_ocel)"
   ]
  },
  {
   "cell_type": "code",
   "execution_count": null,
   "id": "809cf806e8c6e27d",
   "metadata": {
    "ExecuteTime": {
     "end_time": "2024-12-11T15:05:49.251624Z",
     "start_time": "2024-12-11T15:05:48.032952Z"
    },
    "collapsed": false
   },
   "outputs": [],
   "source": [
    "vis_write_ocel('07',True,False,'adtc',['K2', 'H3'],[])\n",
    "# admin_user and it_working_desk missed\n",
    "\n",
    "read_ocel = pm4py.read_ocel_json('../dataProcessing/filteredSceneVideoOCEL/filtered_scene07_video_ocel_adtc.jsonocel')\n",
    "discover_ocel  = pm4py.ocel.discover_ocdfg(read_ocel)\n",
    "vis_ocel = pm4py.vis.view_ocdfg(discover_ocel)"
   ]
  },
  {
   "cell_type": "markdown",
   "id": "8c9850322661be0e",
   "metadata": {
    "collapsed": false
   },
   "source": [
    "#### Exclude scene 8, because in which the process instances are not relevant to Thema 5\n"
   ]
  },
  {
   "cell_type": "code",
   "execution_count": null,
   "id": "7457526911755938",
   "metadata": {
    "ExecuteTime": {
     "end_time": "2024-12-11T14:17:10.612374Z",
     "start_time": "2024-12-11T14:17:09.771938Z"
    },
    "collapsed": false
   },
   "outputs": [],
   "source": [
    "vis_write_ocel('09',False,False,'adtc',[],[])"
   ]
  },
  {
   "cell_type": "code",
   "execution_count": null,
   "id": "7785e596e8bcdbc6",
   "metadata": {
    "ExecuteTime": {
     "end_time": "2024-12-11T15:21:12.088526Z",
     "start_time": "2024-12-11T15:21:10.337572Z"
    },
    "collapsed": false
   },
   "outputs": [],
   "source": [
    "vis_write_ocel('10',True,False,'nai',['K1'],[])\n",
    "# admin_user, self_service_storage, repair_desk, it_working_desk\n",
    "\n",
    "read_ocel = pm4py.read_ocel_json('../dataProcessing/filteredSceneVideoOCEL/filtered_scene10_video_ocel_nai.jsonocel')\n",
    "discover_ocel  = pm4py.ocel.discover_ocdfg(read_ocel)\n",
    "vis_ocel = pm4py.vis.view_ocdfg(discover_ocel)"
   ]
  },
  {
   "cell_type": "code",
   "execution_count": null,
   "id": "f1604573c6a96962",
   "metadata": {
    "ExecuteTime": {
     "end_time": "2024-12-11T15:25:11.878803Z",
     "start_time": "2024-12-11T15:25:10.464803Z"
    },
    "collapsed": false
   },
   "outputs": [],
   "source": [
    "vis_write_ocel('11',True,False,'ssaco',['L1', 'L4'],[])\n",
    "# door missed\n",
    "\n",
    "\n",
    "read_ocel = pm4py.read_ocel_json('../dataProcessing/filteredSceneVideoOCEL/filtered_scene11_video_ocel_ssaco.jsonocel')\n",
    "discover_ocel  = pm4py.ocel.discover_ocdfg(read_ocel)\n",
    "vis_ocel = pm4py.vis.view_ocdfg(discover_ocel)"
   ]
  },
  {
   "cell_type": "code",
   "execution_count": null,
   "id": "485c60f28de2df38",
   "metadata": {
    "ExecuteTime": {
     "end_time": "2024-12-11T15:33:45.289023Z",
     "start_time": "2024-12-11T15:33:43.742829Z"
    },
    "collapsed": false
   },
   "outputs": [],
   "source": [
    "vis_write_ocel('12',True,False,'adtc',['H5','H7','C3','C9'],[])\n",
    "# door and it_working_desk missed\n",
    "\n",
    "\n",
    "read_ocel = pm4py.read_ocel_json('../dataProcessing/filteredSceneVideoOCEL/filtered_scene12_video_ocel_adtc.jsonocel')\n",
    "discover_ocel  = pm4py.ocel.discover_ocdfg(read_ocel)\n",
    "vis_ocel = pm4py.vis.view_ocdfg(discover_ocel)"
   ]
  },
  {
   "cell_type": "code",
   "execution_count": null,
   "id": "f0ba8582ede90681",
   "metadata": {
    "ExecuteTime": {
     "end_time": "2024-12-11T15:41:46.533767Z",
     "start_time": "2024-12-11T15:41:45.251634Z"
    },
    "collapsed": false
   },
   "outputs": [],
   "source": [
    "vis_write_ocel('13',True,False,'adtc',['L1', 'L3'],[])\n",
    "# it_working_desk, door, laptop_shelf missed\n",
    "\n",
    "read_ocel = pm4py.read_ocel_json('../dataProcessing/filteredSceneVideoOCEL/filtered_scene13_video_ocel_adtc.jsonocel')\n",
    "discover_ocel  = pm4py.ocel.discover_ocdfg(read_ocel)\n",
    "vis_ocel = pm4py.vis.view_ocdfg(discover_ocel)"
   ]
  },
  {
   "cell_type": "code",
   "execution_count": null,
   "id": "497b359efa34cde0",
   "metadata": {
    "ExecuteTime": {
     "end_time": "2024-12-11T15:44:34.892795Z",
     "start_time": "2024-12-11T15:44:33.817269Z"
    },
    "collapsed": false
   },
   "outputs": [],
   "source": [
    "vis_write_ocel('14',True,False,'ssaco',['P1', 'P9', 'L3'],[])\n",
    "# door missed\n",
    "# one chat activity is assigned to another process -> exclude\n",
    "\n",
    "read_ocel = pm4py.read_ocel_json('../dataProcessing/filteredSceneVideoOCEL/filtered_scene14_video_ocel_ssaco.jsonocel')\n",
    "discover_ocel  = pm4py.ocel.discover_ocdfg(read_ocel)\n",
    "vis_ocel = pm4py.vis.view_ocdfg(discover_ocel)"
   ]
  },
  {
   "cell_type": "code",
   "execution_count": null,
   "id": "2ae25fa693383299",
   "metadata": {
    "ExecuteTime": {
     "end_time": "2024-12-11T15:50:06.944089Z",
     "start_time": "2024-12-11T15:50:05.482112Z"
    },
    "collapsed": false
   },
   "outputs": [],
   "source": [
    "vis_write_ocel('15',True,False,'adtc',['P1', 'L6', 'C7'],[])\n",
    "# door, it_working_desk missed\n",
    "\n",
    "read_ocel = pm4py.read_ocel_json('../dataProcessing/filteredSceneVideoOCEL/filtered_scene15_video_ocel_adtc.jsonocel')\n",
    "discover_ocel  = pm4py.ocel.discover_ocdfg(read_ocel)\n",
    "vis_ocel = pm4py.vis.view_ocdfg(discover_ocel)"
   ]
  }
 ],
 "metadata": {
  "kernelspec": {
   "display_name": "Python 3",
   "language": "python",
   "name": "python3"
  },
  "language_info": {
   "codemirror_mode": {
    "name": "ipython",
    "version": 3
   },
   "file_extension": ".py",
   "mimetype": "text/x-python",
   "name": "python",
   "nbconvert_exporter": "python",
   "pygments_lexer": "ipython3",
   "version": "3.8.5"
  }
 },
 "nbformat": 4,
 "nbformat_minor": 5
}
