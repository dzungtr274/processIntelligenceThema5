{
 "cells": [
  {
   "cell_type": "code",
   "outputs": [],
   "source": [
    "import json\n",
    "from pathlib import Path\n",
    "import os\n",
    "import pm4py\n",
    "\n",
    "# COMBINE ITAM WITH SCENE VIDEOS - CATEGORIZED BY PROCESS INSTANCE\n",
    "\n",
    "def merge_ocel_files(input_folder, additional_file, output_file, scenes, instance):\n",
    "\n",
    "    # Initiate structure of combined ocel\n",
    "    merged_ocel = {\n",
    "        \"ocel:global-event\": {},\n",
    "        \"ocel:global-object\": {},\n",
    "        \"ocel:global-log\": {\n",
    "            \"ocel:attribute-names\": set(),\n",
    "            \"ocel:object-types\": set(),\n",
    "            \"ocel:version\": None,\n",
    "            \"ocel:ordering\": None,\n",
    "        },\n",
    "        \"ocel:events\": {},\n",
    "        \"ocel:objects\": {},\n",
    "    }\n",
    "    \n",
    "    additional_file_path = Path(additional_file)\n",
    "    if additional_file_path.exists():\n",
    "        with open(additional_file_path, 'r') as f:\n",
    "            additional_ocel = json.load(f)\n",
    "        \n",
    "         # combine `ocel:global-log`\n",
    "        merged_ocel[\"ocel:global-log\"][\"ocel:attribute-names\"].update(\n",
    "            additional_ocel[\"ocel:global-log\"].get(\"ocel:attribute-names\", [])\n",
    "        )\n",
    "        merged_ocel[\"ocel:global-log\"][\"ocel:object-types\"].update(\n",
    "            additional_ocel[\"ocel:global-log\"].get(\"ocel:object-types\", [])\n",
    "        )\n",
    "        if merged_ocel[\"ocel:global-log\"][\"ocel:version\"] is None:\n",
    "            merged_ocel[\"ocel:global-log\"][\"ocel:version\"] = additional_ocel[\"ocel:global-log\"].get(\"ocel:version\")\n",
    "        if merged_ocel[\"ocel:global-log\"][\"ocel:ordering\"] is None:\n",
    "            merged_ocel[\"ocel:global-log\"][\"ocel:ordering\"] = additional_ocel[\"ocel:global-log\"].get(\"ocel:ordering\")\n",
    "        \n",
    "        # combine events and objects\n",
    "        merged_ocel[\"ocel:events\"].update(additional_ocel.get(\"ocel:events\", {}))\n",
    "        merged_ocel[\"ocel:objects\"].update(additional_ocel.get(\"ocel:objects\", {}))\n",
    "\n",
    "    # Iteration of specified scenes\n",
    "    for scene in scenes:\n",
    "        # set the customized scene number as well as process instance\n",
    "        file_path = Path(input_folder) / f\"filtered_scene{scene}_video_ocel_{instance}.jsonocel\"\n",
    "        \n",
    "        if not file_path.exists():\n",
    "            print(f\"Warnung: Datei {file_path} wurde nicht gefunden.\")\n",
    "            continue\n",
    "        \n",
    "        with open(file_path, \"r\") as f:\n",
    "            ocel_data = json.load(f)\n",
    "        \n",
    "        # combine `ocel:global-log`\n",
    "        merged_ocel[\"ocel:global-log\"][\"ocel:attribute-names\"].update(\n",
    "            ocel_data[\"ocel:global-log\"].get(\"ocel:attribute-names\", [])\n",
    "        )\n",
    "        merged_ocel[\"ocel:global-log\"][\"ocel:object-types\"].update(\n",
    "            ocel_data[\"ocel:global-log\"].get(\"ocel:object-types\", [])\n",
    "        )\n",
    "        if merged_ocel[\"ocel:global-log\"][\"ocel:version\"] is None:\n",
    "            merged_ocel[\"ocel:global-log\"][\"ocel:version\"] = ocel_data[\"ocel:global-log\"].get(\"ocel:version\")\n",
    "        if merged_ocel[\"ocel:global-log\"][\"ocel:ordering\"] is None:\n",
    "            merged_ocel[\"ocel:global-log\"][\"ocel:ordering\"] = ocel_data[\"ocel:global-log\"].get(\"ocel:ordering\")\n",
    "        \n",
    "        # combine events and objects\n",
    "        merged_ocel[\"ocel:events\"].update(ocel_data.get(\"ocel:events\", {}))\n",
    "        merged_ocel[\"ocel:objects\"].update(ocel_data.get(\"ocel:objects\", {}))\n",
    "    \n",
    "    # sort events by ocel:timestamp\n",
    "    sorted_events = dict(\n",
    "        sorted(\n",
    "            # use items to get key-value-relation\n",
    "            merged_ocel[\"ocel:events\"].items(),\n",
    "            # [1] stands for the value\n",
    "            key=lambda item: item[1].get(\"ocel:timestamp\")\n",
    "        )\n",
    "    )\n",
    "    \n",
    "    merged_ocel[\"ocel:events\"]=sorted_events\n",
    "    \n",
    "    # convert sets back to lists\n",
    "    merged_ocel[\"ocel:global-log\"][\"ocel:attribute-names\"] = list(merged_ocel[\"ocel:global-log\"][\"ocel:attribute-names\"])\n",
    "    merged_ocel[\"ocel:global-log\"][\"ocel:object-types\"] = list(merged_ocel[\"ocel:global-log\"][\"ocel:object-types\"])\n",
    "    \n",
    "    # save the combined ocel\n",
    "    with open(output_file, \"w\") as output_f:\n",
    "        json.dump(merged_ocel, output_f, indent=4)\n",
    "\n",
    "    print(f\"Kombinierte OCEL-Datei wurde gespeichert: {output_file}\")"
   ],
   "metadata": {
    "collapsed": false,
    "ExecuteTime": {
     "end_time": "2024-12-04T10:07:48.270636Z",
     "start_time": "2024-12-04T10:07:48.255595Z"
    }
   },
   "id": "999b86d0e7a10f76",
   "execution_count": 13
  },
  {
   "cell_type": "code",
   "outputs": [
    {
     "name": "stdout",
     "output_type": "stream",
     "text": [
      "Kombinierte OCEL-Datei wurde gespeichert: ../dataProcessing/itamSceneCombinedOCEL/itam_scene_combined_ssaco.jsonocel\n"
     ]
    }
   ],
   "source": [
    "input_folder_path = \"../dataProcessing/filteredSceneVideoOCEL/\"\n",
    "additional_file_path = \"../dataProcessing/filtered_itam_ocel.jsonocel\"\n",
    "instance = \"ssaco\"\n",
    "output_file_path = f\"../dataProcessing/itamSceneCombinedOCEL/itam_scene_combined_{instance}.jsonocel\"\n",
    "scenes = ['03', '05', '06', '11', '14']\n",
    "\n",
    "merge_ocel_files(input_folder_path,additional_file_path, output_file_path, scenes, instance)"
   ],
   "metadata": {
    "collapsed": false,
    "ExecuteTime": {
     "end_time": "2024-12-04T10:28:45.839311Z",
     "start_time": "2024-12-04T10:28:45.788182Z"
    }
   },
   "id": "d4380a206f7e1429",
   "execution_count": 17
  },
  {
   "cell_type": "code",
   "outputs": [
    {
     "data": {
      "text/plain": "0                    A1\n1                    L1\n2                    C1\n3                    P2\n4                    M1\n5                    C2\n6                    P3\n7                    C6\n8                    L2\n9                    P1\n11                   L5\n12                   L3\n13                   C5\n14          Headset USB\n15                   C4\n17                   L6\n18                   A2\n19                   C3\n20                   T1\n23                   M2\n24                   C7\n25                   T3\n26                   M3\n27                   C8\n29                   M4\n30                   M6\n31                 door\n32      it_working_desk\n33         laptop_shelf\n34       mouse_cupboard\n35      monitor_storage\n36    keyboard_cupboard\n37                  L16\n38                   T2\nName: ocel:oid, dtype: string"
     },
     "execution_count": 19,
     "metadata": {},
     "output_type": "execute_result"
    }
   ],
   "source": [
    "read_ocel =pm4py.read_ocel_json('../dataProcessing/itamSceneCombinedOCEL/itam_scene_combined_adtc.jsonocel')\n",
    "read_ocel.objects['ocel:oid']"
   ],
   "metadata": {
    "collapsed": false,
    "ExecuteTime": {
     "end_time": "2024-12-04T15:04:38.087011Z",
     "start_time": "2024-12-04T15:04:38.038700Z"
    }
   },
   "id": "324e657338c486c",
   "execution_count": 19
  }
 ],
 "metadata": {
  "kernelspec": {
   "display_name": "Python 3",
   "language": "python",
   "name": "python3"
  },
  "language_info": {
   "codemirror_mode": {
    "name": "ipython",
    "version": 2
   },
   "file_extension": ".py",
   "mimetype": "text/x-python",
   "name": "python",
   "nbconvert_exporter": "python",
   "pygments_lexer": "ipython2",
   "version": "2.7.6"
  }
 },
 "nbformat": 4,
 "nbformat_minor": 5
}
