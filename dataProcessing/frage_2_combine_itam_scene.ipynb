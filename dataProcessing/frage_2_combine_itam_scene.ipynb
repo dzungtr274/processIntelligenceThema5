{
 "cells": [
  {
   "cell_type": "code",
   "outputs": [
    {
     "data": {
      "text/plain": "parsing log, completed traces ::   0%|          | 0/37 [00:00<?, ?it/s]",
      "application/vnd.jupyter.widget-view+json": {
       "version_major": 2,
       "version_minor": 0,
       "model_id": "1f03f7d485244b17aa9e40f6c917d212"
      }
     },
     "metadata": {},
     "output_type": "display_data"
    }
   ],
   "source": [
    "## MERGING categorized by process instances\n",
    "\n",
    "import pm4py\n",
    "import pandas as pd\n",
    "\n",
    "# Read itam_xes file\n",
    "itam_xes_path = \"itam_ocel_xes.xes\"\n",
    "itam_xes = pm4py.read_xes(itam_xes_path)\n",
    "\n",
    "# Read scene_xes file\n",
    "def read_scene_xes(count:str, instance:str):\n",
    "    path = f\"../dataProcessing/filteredSceneVideoXES/filtered_scene{count}_video_{instance}.xes\"  \n",
    "    read = pm4py.read_xes(path)\n",
    "    return read\n",
    "\n",
    "def combine_itam_scene(scene_counts:list, instance:str):\n",
    "    for count in scene_counts:\n",
    "        scene_df = read_scene_xes(count, instance)\n",
    "        combined_df = pd.concat([itam_xes, scene_df], ignore_index=True)\n",
    "    combined_df.sort_values(by='time:timestamp', inplace=True)\n",
    "    return combined_df\n",
    "\n",
    "def write_combined_xes(scene_counts:list, instance:str):\n",
    "    combined_log = combine_itam_scene(scene_counts, instance)\n",
    "    itam_scene_path = f\"../dataProcessing/itamSceneCombinedXES/itam_scene_combined_{instance}.xes\"\n",
    "    write = pm4py.write_xes(combined_log, itam_scene_path)\n",
    "    print(f\"XES Datei gespeichert unter: {itam_scene_path}\")\n",
    "    return write"
   ],
   "metadata": {
    "collapsed": false,
    "ExecuteTime": {
     "end_time": "2024-11-23T23:11:22.608252Z",
     "start_time": "2024-11-23T23:11:22.570214Z"
    }
   },
   "id": "57ca2561767200b6",
   "execution_count": 21
  },
  {
   "cell_type": "code",
   "outputs": [
    {
     "data": {
      "text/plain": "parsing log, completed traces ::   0%|          | 0/5 [00:00<?, ?it/s]",
      "application/vnd.jupyter.widget-view+json": {
       "version_major": 2,
       "version_minor": 0,
       "model_id": "f3bf1b51107f4011815f5f70de426845"
      }
     },
     "metadata": {},
     "output_type": "display_data"
    },
    {
     "data": {
      "text/plain": "parsing log, completed traces ::   0%|          | 0/1 [00:00<?, ?it/s]",
      "application/vnd.jupyter.widget-view+json": {
       "version_major": 2,
       "version_minor": 0,
       "model_id": "9978c791262142b79cb8bfab43f6a1d8"
      }
     },
     "metadata": {},
     "output_type": "display_data"
    },
    {
     "data": {
      "text/plain": "parsing log, completed traces ::   0%|          | 0/5 [00:00<?, ?it/s]",
      "application/vnd.jupyter.widget-view+json": {
       "version_major": 2,
       "version_minor": 0,
       "model_id": "d169ba4387f0409dbd93568acdb00131"
      }
     },
     "metadata": {},
     "output_type": "display_data"
    },
    {
     "data": {
      "text/plain": "parsing log, completed traces ::   0%|          | 0/2 [00:00<?, ?it/s]",
      "application/vnd.jupyter.widget-view+json": {
       "version_major": 2,
       "version_minor": 0,
       "model_id": "915a6313fef4489da48b24f3aca0b99c"
      }
     },
     "metadata": {},
     "output_type": "display_data"
    },
    {
     "data": {
      "text/plain": "parsing log, completed traces ::   0%|          | 0/5 [00:00<?, ?it/s]",
      "application/vnd.jupyter.widget-view+json": {
       "version_major": 2,
       "version_minor": 0,
       "model_id": "83171fd4fb2449f399b9cd0c926c760b"
      }
     },
     "metadata": {},
     "output_type": "display_data"
    },
    {
     "data": {
      "text/plain": "parsing log, completed traces ::   0%|          | 0/4 [00:00<?, ?it/s]",
      "application/vnd.jupyter.widget-view+json": {
       "version_major": 2,
       "version_minor": 0,
       "model_id": "298e9856f66a49b0a1c89ab8cbcdaa5b"
      }
     },
     "metadata": {},
     "output_type": "display_data"
    },
    {
     "data": {
      "text/plain": "exporting log, completed traces ::   0%|          | 0/37 [00:00<?, ?it/s]",
      "application/vnd.jupyter.widget-view+json": {
       "version_major": 2,
       "version_minor": 0,
       "model_id": "5928308f329f42f48ed504cafe7ab261"
      }
     },
     "metadata": {},
     "output_type": "display_data"
    },
    {
     "name": "stdout",
     "output_type": "stream",
     "text": [
      "XES Datei gespeichert unter: ../dataProcessing/itamSceneCombinedXES/itam_scene_combined_adtc.xes\n"
     ]
    },
    {
     "data": {
      "text/plain": "parsing log, completed traces ::   0%|          | 0/2 [00:00<?, ?it/s]",
      "application/vnd.jupyter.widget-view+json": {
       "version_major": 2,
       "version_minor": 0,
       "model_id": "7c4df47dd6e649b48314407ea4dfbd56"
      }
     },
     "metadata": {},
     "output_type": "display_data"
    },
    {
     "data": {
      "text/plain": "parsing log, completed traces ::   0%|          | 0/1 [00:00<?, ?it/s]",
      "application/vnd.jupyter.widget-view+json": {
       "version_major": 2,
       "version_minor": 0,
       "model_id": "485e0550ca2245f1bd276d8816d823b5"
      }
     },
     "metadata": {},
     "output_type": "display_data"
    },
    {
     "data": {
      "text/plain": "parsing log, completed traces ::   0%|          | 0/2 [00:00<?, ?it/s]",
      "application/vnd.jupyter.widget-view+json": {
       "version_major": 2,
       "version_minor": 0,
       "model_id": "dca2d6705c024e54abb1abf08f3b1ede"
      }
     },
     "metadata": {},
     "output_type": "display_data"
    },
    {
     "data": {
      "text/plain": "parsing log, completed traces ::   0%|          | 0/1 [00:00<?, ?it/s]",
      "application/vnd.jupyter.widget-view+json": {
       "version_major": 2,
       "version_minor": 0,
       "model_id": "6166467de108467ab8a6bcdd264afed9"
      }
     },
     "metadata": {},
     "output_type": "display_data"
    },
    {
     "data": {
      "text/plain": "parsing log, completed traces ::   0%|          | 0/2 [00:00<?, ?it/s]",
      "application/vnd.jupyter.widget-view+json": {
       "version_major": 2,
       "version_minor": 0,
       "model_id": "6c337edf10e149f39c7d7da9071d8832"
      }
     },
     "metadata": {},
     "output_type": "display_data"
    },
    {
     "data": {
      "text/plain": "parsing log, completed traces ::   0%|          | 0/2 [00:00<?, ?it/s]",
      "application/vnd.jupyter.widget-view+json": {
       "version_major": 2,
       "version_minor": 0,
       "model_id": "9ad186e30997472aa9672e4ea3c3cadc"
      }
     },
     "metadata": {},
     "output_type": "display_data"
    },
    {
     "data": {
      "text/plain": "exporting log, completed traces ::   0%|          | 0/39 [00:00<?, ?it/s]",
      "application/vnd.jupyter.widget-view+json": {
       "version_major": 2,
       "version_minor": 0,
       "model_id": "1cfac3698581436d80f5b9ce1a0fd46b"
      }
     },
     "metadata": {},
     "output_type": "display_data"
    },
    {
     "name": "stdout",
     "output_type": "stream",
     "text": [
      "XES Datei gespeichert unter: ../dataProcessing/itamSceneCombinedXES/itam_scene_combined_nai.xes\n"
     ]
    },
    {
     "data": {
      "text/plain": "parsing log, completed traces ::   0%|          | 0/2 [00:00<?, ?it/s]",
      "application/vnd.jupyter.widget-view+json": {
       "version_major": 2,
       "version_minor": 0,
       "model_id": "0b25a90510a94732b477008a679d6f92"
      }
     },
     "metadata": {},
     "output_type": "display_data"
    },
    {
     "data": {
      "text/plain": "parsing log, completed traces ::   0%|          | 0/1 [00:00<?, ?it/s]",
      "application/vnd.jupyter.widget-view+json": {
       "version_major": 2,
       "version_minor": 0,
       "model_id": "1eae749c974844059f748356f40e76fc"
      }
     },
     "metadata": {},
     "output_type": "display_data"
    },
    {
     "data": {
      "text/plain": "parsing log, completed traces ::   0%|          | 0/1 [00:00<?, ?it/s]",
      "application/vnd.jupyter.widget-view+json": {
       "version_major": 2,
       "version_minor": 0,
       "model_id": "07a294e5e54c4226a9aa1ac5802d85e4"
      }
     },
     "metadata": {},
     "output_type": "display_data"
    },
    {
     "data": {
      "text/plain": "parsing log, completed traces ::   0%|          | 0/2 [00:00<?, ?it/s]",
      "application/vnd.jupyter.widget-view+json": {
       "version_major": 2,
       "version_minor": 0,
       "model_id": "787035c00d26409eaec0f79cb2c89c2d"
      }
     },
     "metadata": {},
     "output_type": "display_data"
    },
    {
     "data": {
      "text/plain": "parsing log, completed traces ::   0%|          | 0/1 [00:00<?, ?it/s]",
      "application/vnd.jupyter.widget-view+json": {
       "version_major": 2,
       "version_minor": 0,
       "model_id": "18bdc6d199264672a9837bb70d3b5b2d"
      }
     },
     "metadata": {},
     "output_type": "display_data"
    },
    {
     "data": {
      "text/plain": "exporting log, completed traces ::   0%|          | 0/38 [00:00<?, ?it/s]",
      "application/vnd.jupyter.widget-view+json": {
       "version_major": 2,
       "version_minor": 0,
       "model_id": "0d44a4590c8d467886309f35608fdb80"
      }
     },
     "metadata": {},
     "output_type": "display_data"
    },
    {
     "name": "stdout",
     "output_type": "stream",
     "text": [
      "XES Datei gespeichert unter: ../dataProcessing/itamSceneCombinedXES/itam_scene_combined_ssaco.xes\n"
     ]
    }
   ],
   "source": [
    "# Write combined file\n",
    "\n",
    "# Asset disbursement to client\n",
    "write_combined_xes(['01','07','09','12','13','15'], 'adtc')\n",
    "\n",
    "# New inventory asset\n",
    "write_combined_xes(['02','03','04','06','07','10'], 'nai')\n",
    "\n",
    "# Self-service asset check-out\n",
    "write_combined_xes(['03','05','06','11','14'], 'ssaco')"
   ],
   "metadata": {
    "collapsed": false,
    "ExecuteTime": {
     "end_time": "2024-11-23T23:11:25.242951Z",
     "start_time": "2024-11-23T23:11:24.905294Z"
    }
   },
   "id": "878d34fed62ea537",
   "execution_count": 22
  },
  {
   "cell_type": "code",
   "outputs": [],
   "source": [],
   "metadata": {
    "collapsed": false
   },
   "id": "131340dc86aec988"
  }
 ],
 "metadata": {
  "kernelspec": {
   "display_name": "Python 3",
   "language": "python",
   "name": "python3"
  },
  "language_info": {
   "codemirror_mode": {
    "name": "ipython",
    "version": 2
   },
   "file_extension": ".py",
   "mimetype": "text/x-python",
   "name": "python",
   "nbconvert_exporter": "python",
   "pygments_lexer": "ipython2",
   "version": "2.7.6"
  }
 },
 "nbformat": 4,
 "nbformat_minor": 5
}
