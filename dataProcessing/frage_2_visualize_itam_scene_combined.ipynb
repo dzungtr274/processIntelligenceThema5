{
 "cells": [
  {
   "cell_type": "code",
   "execution_count": null,
   "id": "initial_id",
   "metadata": {
    "collapsed": true
   },
   "outputs": [],
   "source": [
    "import pm4py\n",
    "import pandas as pd\n",
    "\n",
    "itam_scene01 = pm4py.read_xes(\"../dataProcessing/itamSceneCombinedXES/itam_scene01_combined.xes\")\n",
    "\n",
    "dfg, start_activities, end_activities = pm4py.discover_dfg(itam_scene01, \n",
    "                                                           case_id_key='case:concept:name',\n",
    "                                                           activity_key='concept:name',\n",
    "                                                           timestamp_key='time:timestamp'\n",
    "                                                           )\n",
    "pm4py.vis.view_dfg(dfg, start_activities, end_activities)\n",
    "\n",
    "bpmn = pm4py.discovery.discover_bpmn_inductive(itam_scene01)\n",
    "pm4py.vis.view_bpmn(bpmn)"
   ]
  },
  {
   "cell_type": "code",
   "outputs": [],
   "source": [
    "itam_scene02 = pm4py.read_xes(\"../dataProcessing/itamSceneCombinedXES/itam_scene02_combined.xes\")\n",
    "\n",
    "dfg, start_activities, end_activities = pm4py.discover_dfg(itam_scene02, \n",
    "                                                           case_id_key='case:concept:name',\n",
    "                                                           activity_key='concept:name',\n",
    "                                                           timestamp_key='time:timestamp'\n",
    "                                                           )\n",
    "pm4py.vis.view_dfg(dfg, start_activities, end_activities)\n",
    "\n",
    "bpmn = pm4py.discovery.discover_bpmn_inductive(itam_scene02)\n",
    "pm4py.vis.view_bpmn(bpmn)"
   ],
   "metadata": {
    "collapsed": false
   },
   "id": "c52ae99e68f0eefb",
   "execution_count": null
  },
  {
   "cell_type": "code",
   "outputs": [],
   "source": [
    "itam_scene03 = pm4py.read_xes(\"../dataProcessing/itamSceneCombinedXES/itam_scene03_combined.xes\")\n",
    "\n",
    "dfg, start_activities, end_activities = pm4py.discover_dfg(itam_scene03, \n",
    "                                                           case_id_key='case:concept:name',\n",
    "                                                           activity_key='concept:name',\n",
    "                                                           timestamp_key='time:timestamp'\n",
    "                                                           )\n",
    "pm4py.vis.view_dfg(dfg, start_activities, end_activities)\n",
    "\n",
    "bpmn = pm4py.discovery.discover_bpmn_inductive(itam_scene03)\n",
    "pm4py.vis.view_bpmn(bpmn)"
   ],
   "metadata": {
    "collapsed": false
   },
   "id": "8966627cde77c98",
   "execution_count": null
  },
  {
   "cell_type": "code",
   "outputs": [],
   "source": [
    "itam_scene04 = pm4py.read_xes(\"../dataProcessing/itamSceneCombinedXES/itam_scene04_combined.xes\")\n",
    "\n",
    "dfg, start_activities, end_activities = pm4py.discover_dfg(itam_scene04, \n",
    "                                                           case_id_key='case:concept:name',\n",
    "                                                           activity_key='concept:name',\n",
    "                                                           timestamp_key='time:timestamp'\n",
    "                                                           )\n",
    "pm4py.vis.view_dfg(dfg, start_activities, end_activities)\n",
    "\n",
    "bpmn = pm4py.discovery.discover_bpmn_inductive(itam_scene04)\n",
    "pm4py.vis.view_bpmn(bpmn)"
   ],
   "metadata": {
    "collapsed": false
   },
   "id": "5288604118d926dc",
   "execution_count": null
  },
  {
   "cell_type": "code",
   "outputs": [],
   "source": [
    "itam_scene05 = pm4py.read_xes(\"../dataProcessing/itamSceneCombinedXES/itam_scene05_combined.xes\")\n",
    "\n",
    "dfg, start_activities, end_activities = pm4py.discover_dfg(itam_scene05, \n",
    "                                                           case_id_key='case:concept:name',\n",
    "                                                           activity_key='concept:name',\n",
    "                                                           timestamp_key='time:timestamp'\n",
    "                                                           )\n",
    "pm4py.vis.view_dfg(dfg, start_activities, end_activities)\n",
    "\n",
    "bpmn = pm4py.discovery.discover_bpmn_inductive(itam_scene05)\n",
    "pm4py.vis.view_bpmn(bpmn)"
   ],
   "metadata": {
    "collapsed": false
   },
   "id": "fcd3b8fccd392054",
   "execution_count": null
  },
  {
   "cell_type": "code",
   "outputs": [],
   "source": [
    "itam_scene06 = pm4py.read_xes(\"../dataProcessing/itamSceneCombinedXES/itam_scene06_combined.xes\")\n",
    "\n",
    "dfg, start_activities, end_activities = pm4py.discover_dfg(itam_scene06, \n",
    "                                                           case_id_key='case:concept:name',\n",
    "                                                           activity_key='concept:name',\n",
    "                                                           timestamp_key='time:timestamp'\n",
    "                                                           )\n",
    "pm4py.vis.view_dfg(dfg, start_activities, end_activities)\n",
    "\n",
    "bpmn = pm4py.discovery.discover_bpmn_inductive(itam_scene06)\n",
    "pm4py.vis.view_bpmn(bpmn)"
   ],
   "metadata": {
    "collapsed": false
   },
   "id": "2072d84cf1e3357f",
   "execution_count": null
  },
  {
   "cell_type": "code",
   "outputs": [],
   "source": [
    "itam_scene07 = pm4py.read_xes(\"../dataProcessing/itamSceneCombinedXES/itam_scene07_combined.xes\")\n",
    "\n",
    "dfg, start_activities, end_activities = pm4py.discover_dfg(itam_scene07, \n",
    "                                                           case_id_key='case:concept:name',\n",
    "                                                           activity_key='concept:name',\n",
    "                                                           timestamp_key='time:timestamp'\n",
    "                                                           )\n",
    "pm4py.vis.view_dfg(dfg, start_activities, end_activities)\n",
    "\n",
    "bpmn = pm4py.discovery.discover_bpmn_inductive(itam_scene07)\n",
    "pm4py.vis.view_bpmn(bpmn)"
   ],
   "metadata": {
    "collapsed": false
   },
   "id": "3d3d6979444c51b2",
   "execution_count": null
  },
  {
   "cell_type": "code",
   "outputs": [],
   "source": [
    "itam_scene08 = pm4py.read_xes(\"../dataProcessing/itamSceneCombinedXES/itam_scene08_combined.xes\")\n",
    "\n",
    "dfg, start_activities, end_activities = pm4py.discover_dfg(itam_scene08, \n",
    "                                                           case_id_key='case:concept:name',\n",
    "                                                           activity_key='concept:name',\n",
    "                                                           timestamp_key='time:timestamp'\n",
    "                                                           )\n",
    "pm4py.vis.view_dfg(dfg, start_activities, end_activities)\n",
    "\n",
    "bpmn = pm4py.discovery.discover_bpmn_inductive(itam_scene08)\n",
    "pm4py.vis.view_bpmn(bpmn)"
   ],
   "metadata": {
    "collapsed": false
   },
   "id": "b97c36c5c9facb44",
   "execution_count": null
  },
  {
   "cell_type": "code",
   "outputs": [],
   "source": [
    "itam_scene09 = pm4py.read_xes(\"../dataProcessing/itamSceneCombinedXES/itam_scene09_combined.xes\")\n",
    "\n",
    "dfg, start_activities, end_activities = pm4py.discover_dfg(itam_scene09, \n",
    "                                                           case_id_key='case:concept:name',\n",
    "                                                           activity_key='concept:name',\n",
    "                                                           timestamp_key='time:timestamp'\n",
    "                                                           )\n",
    "pm4py.vis.view_dfg(dfg, start_activities, end_activities)\n",
    "\n",
    "bpmn = pm4py.discovery.discover_bpmn_inductive(itam_scene09)\n",
    "pm4py.vis.view_bpmn(bpmn)"
   ],
   "metadata": {
    "collapsed": false
   },
   "id": "5aa561ec9e016147",
   "execution_count": null
  },
  {
   "cell_type": "code",
   "outputs": [],
   "source": [
    "itam_scene10 = pm4py.read_xes(\"../dataProcessing/itamSceneCombinedXES/itam_scene10_combined.xes\")\n",
    "\n",
    "dfg, start_activities, end_activities = pm4py.discover_dfg(itam_scene10, \n",
    "                                                           case_id_key='case:concept:name',\n",
    "                                                           activity_key='concept:name',\n",
    "                                                           timestamp_key='time:timestamp'\n",
    "                                                           )\n",
    "pm4py.vis.view_dfg(dfg, start_activities, end_activities)\n",
    "\n",
    "bpmn = pm4py.discovery.discover_bpmn_inductive(itam_scene10)\n",
    "pm4py.vis.view_bpmn(bpmn)"
   ],
   "metadata": {
    "collapsed": false
   },
   "id": "1b8ac8b6f09475de",
   "execution_count": null
  },
  {
   "cell_type": "code",
   "outputs": [],
   "source": [
    "itam_scene11 = pm4py.read_xes(\"../dataProcessing/itamSceneCombinedXES/itam_scene11_combined.xes\")\n",
    "\n",
    "dfg, start_activities, end_activities = pm4py.discover_dfg(itam_scene11, \n",
    "                                                           case_id_key='case:concept:name',\n",
    "                                                           activity_key='concept:name',\n",
    "                                                           timestamp_key='time:timestamp'\n",
    "                                                           )\n",
    "pm4py.vis.view_dfg(dfg, start_activities, end_activities)\n",
    "\n",
    "bpmn = pm4py.discovery.discover_bpmn_inductive(itam_scene11)\n",
    "pm4py.vis.view_bpmn(bpmn)"
   ],
   "metadata": {
    "collapsed": false
   },
   "id": "301744e905621a73",
   "execution_count": null
  },
  {
   "cell_type": "code",
   "outputs": [],
   "source": [
    "itam_scene12 = pm4py.read_xes(\"../dataProcessing/itamSceneCombinedXES/itam_scene12_combined.xes\")\n",
    "\n",
    "dfg, start_activities, end_activities = pm4py.discover_dfg(itam_scene12, \n",
    "                                                           case_id_key='case:concept:name',\n",
    "                                                           activity_key='concept:name',\n",
    "                                                           timestamp_key='time:timestamp'\n",
    "                                                           )\n",
    "pm4py.vis.view_dfg(dfg, start_activities, end_activities)\n",
    "\n",
    "bpmn = pm4py.discovery.discover_bpmn_inductive(itam_scene12)\n",
    "pm4py.vis.view_bpmn(bpmn)"
   ],
   "metadata": {
    "collapsed": false
   },
   "id": "2eaa2a6f86574475",
   "execution_count": null
  },
  {
   "cell_type": "code",
   "outputs": [],
   "source": [
    "itam_scene13 = pm4py.read_xes(\"../dataProcessing/itamSceneCombinedXES/itam_scene13_combined.xes\")\n",
    "\n",
    "dfg, start_activities, end_activities = pm4py.discover_dfg(itam_scene13, \n",
    "                                                           case_id_key='case:concept:name',\n",
    "                                                           activity_key='concept:name',\n",
    "                                                           timestamp_key='time:timestamp'\n",
    "                                                           )\n",
    "pm4py.vis.view_dfg(dfg, start_activities, end_activities)\n",
    "\n",
    "bpmn = pm4py.discovery.discover_bpmn_inductive(itam_scene13)\n",
    "pm4py.vis.view_bpmn(bpmn)"
   ],
   "metadata": {
    "collapsed": false
   },
   "id": "ba071f0e8181312a",
   "execution_count": null
  },
  {
   "cell_type": "code",
   "outputs": [],
   "source": [
    "itam_scene14 = pm4py.read_xes(\"../dataProcessing/itamSceneCombinedXES/itam_scene14_combined.xes\")\n",
    "\n",
    "dfg, start_activities, end_activities = pm4py.discover_dfg(itam_scene14, \n",
    "                                                           case_id_key='case:concept:name',\n",
    "                                                           activity_key='concept:name',\n",
    "                                                           timestamp_key='time:timestamp'\n",
    "                                                           )\n",
    "pm4py.vis.view_dfg(dfg, start_activities, end_activities)\n",
    "\n",
    "bpmn = pm4py.discovery.discover_bpmn_inductive(itam_scene14)\n",
    "pm4py.vis.view_bpmn(bpmn)"
   ],
   "metadata": {
    "collapsed": false
   },
   "id": "8fd17b16a32e0a85",
   "execution_count": null
  },
  {
   "cell_type": "code",
   "outputs": [],
   "source": [
    "itam_scene15 = pm4py.read_xes(\"../dataProcessing/itamSceneCombinedXES/itam_scene15_combined.xes\")\n",
    "\n",
    "dfg, start_activities, end_activities = pm4py.discover_dfg(itam_scene15, \n",
    "                                                           case_id_key='case:concept:name',\n",
    "                                                           activity_key='concept:name',\n",
    "                                                           timestamp_key='time:timestamp'\n",
    "                                                           )\n",
    "pm4py.vis.view_dfg(dfg, start_activities, end_activities)\n",
    "\n",
    "bpmn = pm4py.discovery.discover_bpmn_inductive(itam_scene15)\n",
    "pm4py.vis.view_bpmn(bpmn)"
   ],
   "metadata": {
    "collapsed": false
   },
   "id": "5b742b54978e02ec",
   "execution_count": null
  }
 ],
 "metadata": {
  "kernelspec": {
   "display_name": "Python 3",
   "language": "python",
   "name": "python3"
  },
  "language_info": {
   "codemirror_mode": {
    "name": "ipython",
    "version": 2
   },
   "file_extension": ".py",
   "mimetype": "text/x-python",
   "name": "python",
   "nbconvert_exporter": "python",
   "pygments_lexer": "ipython2",
   "version": "2.7.6"
  }
 },
 "nbformat": 4,
 "nbformat_minor": 5
}
