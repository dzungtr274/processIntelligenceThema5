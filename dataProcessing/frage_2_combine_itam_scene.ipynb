{
 "cells": [
  {
   "cell_type": "code",
   "outputs": [
    {
     "data": {
      "text/plain": "parsing log, completed traces ::   0%|          | 0/17 [00:00<?, ?it/s]",
      "application/vnd.jupyter.widget-view+json": {
       "version_major": 2,
       "version_minor": 0,
       "model_id": "aa22e4c6d5844e0f9d52584a99c37242"
      }
     },
     "metadata": {},
     "output_type": "display_data"
    }
   ],
   "source": [
    "import pm4py\n",
    "import pandas as pd\n",
    "\n",
    "# Read ITAM XES file\n",
    "itam_xes_path = \"filtered_itam_xes.xes\"\n",
    "itam_xes = pm4py.read_xes(itam_xes_path)\n",
    "\n",
    "def read_scene_xes(count: str, instance: str):\n",
    "    \"\"\"Liest eine einzelne Szenen-XES-Datei basierend auf der Nummer.\"\"\"\n",
    "    path = f\"../dataProcessing/filteredSceneVideoXES/filtered_scene{count}_video_{instance}.xes\"  \n",
    "    return pm4py.read_xes(path)\n",
    "\n",
    "def combine_itam_scenes(scene_counts: list, instance: str):\n",
    "    combined_df = pd.DataFrame(itam_xes)\n",
    "    for count in scene_counts:\n",
    "        # Szenen-XES-Datei lesen und hinzufügen\n",
    "        scene_df = pd.DataFrame(read_scene_xes(count, instance))\n",
    "        combined_df = pd.concat([combined_df, scene_df], ignore_index=True)\n",
    "    # Nach Zeitstempel sortieren\n",
    "    combined_df.sort_values(by='time:timestamp', inplace=True)\n",
    "    return combined_df\n",
    "\n",
    "def write_combined_xes(scene_counts: list, instance: str):\n",
    "    combined_log = combine_itam_scenes(scene_counts, instance)\n",
    "    output_path = f\"../dataProcessing/itamSceneCombinedXES/itam_scene_combined_{instance}.xes\"\n",
    "    pm4py.write_xes(combined_log, output_path)\n",
    "    print(f\"Kombinierte XES-Datei gespeichert unter: {output_path}\")\n"
   ],
   "metadata": {
    "collapsed": false,
    "ExecuteTime": {
     "end_time": "2024-11-24T11:27:09.650591Z",
     "start_time": "2024-11-24T11:27:09.626147Z"
    }
   },
   "id": "72d2382224f5a359",
   "execution_count": 17
  },
  {
   "cell_type": "code",
   "outputs": [
    {
     "data": {
      "text/plain": "parsing log, completed traces ::   0%|          | 0/5 [00:00<?, ?it/s]",
      "application/vnd.jupyter.widget-view+json": {
       "version_major": 2,
       "version_minor": 0,
       "model_id": "30479d245cdd49718c2c93eb6509796f"
      }
     },
     "metadata": {},
     "output_type": "display_data"
    },
    {
     "data": {
      "text/plain": "parsing log, completed traces ::   0%|          | 0/1 [00:00<?, ?it/s]",
      "application/vnd.jupyter.widget-view+json": {
       "version_major": 2,
       "version_minor": 0,
       "model_id": "b69dd33615bf45d08537f55a289dfa61"
      }
     },
     "metadata": {},
     "output_type": "display_data"
    },
    {
     "data": {
      "text/plain": "parsing log, completed traces ::   0%|          | 0/5 [00:00<?, ?it/s]",
      "application/vnd.jupyter.widget-view+json": {
       "version_major": 2,
       "version_minor": 0,
       "model_id": "8e80b095cd2a4e1e8479fb5fffbc4ae6"
      }
     },
     "metadata": {},
     "output_type": "display_data"
    },
    {
     "data": {
      "text/plain": "parsing log, completed traces ::   0%|          | 0/2 [00:00<?, ?it/s]",
      "application/vnd.jupyter.widget-view+json": {
       "version_major": 2,
       "version_minor": 0,
       "model_id": "a05d39716e0c49e8910d7735530e1e5f"
      }
     },
     "metadata": {},
     "output_type": "display_data"
    },
    {
     "data": {
      "text/plain": "parsing log, completed traces ::   0%|          | 0/5 [00:00<?, ?it/s]",
      "application/vnd.jupyter.widget-view+json": {
       "version_major": 2,
       "version_minor": 0,
       "model_id": "2c5361e65817404996e82ae4dbaf0303"
      }
     },
     "metadata": {},
     "output_type": "display_data"
    },
    {
     "data": {
      "text/plain": "parsing log, completed traces ::   0%|          | 0/3 [00:00<?, ?it/s]",
      "application/vnd.jupyter.widget-view+json": {
       "version_major": 2,
       "version_minor": 0,
       "model_id": "9fc38e6e989d49148bddcdf024b79e73"
      }
     },
     "metadata": {},
     "output_type": "display_data"
    },
    {
     "data": {
      "text/plain": "exporting log, completed traces ::   0%|          | 0/19 [00:00<?, ?it/s]",
      "application/vnd.jupyter.widget-view+json": {
       "version_major": 2,
       "version_minor": 0,
       "model_id": "6a74ff8d818c414fa3b92aaf785656ef"
      }
     },
     "metadata": {},
     "output_type": "display_data"
    },
    {
     "name": "stdout",
     "output_type": "stream",
     "text": [
      "Kombinierte XES-Datei gespeichert unter: ../dataProcessing/itamSceneCombinedXES/itam_scene_combined_adtc.xes\n"
     ]
    },
    {
     "data": {
      "text/plain": "parsing log, completed traces ::   0%|          | 0/2 [00:00<?, ?it/s]",
      "application/vnd.jupyter.widget-view+json": {
       "version_major": 2,
       "version_minor": 0,
       "model_id": "a1ec2719bffc40dca2b5030232fefac1"
      }
     },
     "metadata": {},
     "output_type": "display_data"
    },
    {
     "data": {
      "text/plain": "parsing log, completed traces ::   0%|          | 0/1 [00:00<?, ?it/s]",
      "application/vnd.jupyter.widget-view+json": {
       "version_major": 2,
       "version_minor": 0,
       "model_id": "32dc0530a3fe49cd9fdfeab5a2b2005a"
      }
     },
     "metadata": {},
     "output_type": "display_data"
    },
    {
     "data": {
      "text/plain": "parsing log, completed traces ::   0%|          | 0/2 [00:00<?, ?it/s]",
      "application/vnd.jupyter.widget-view+json": {
       "version_major": 2,
       "version_minor": 0,
       "model_id": "936111bb4012406e9a31aac807d13a0f"
      }
     },
     "metadata": {},
     "output_type": "display_data"
    },
    {
     "data": {
      "text/plain": "parsing log, completed traces ::   0%|          | 0/1 [00:00<?, ?it/s]",
      "application/vnd.jupyter.widget-view+json": {
       "version_major": 2,
       "version_minor": 0,
       "model_id": "65dbc061b1534164b37216de1ef26fe8"
      }
     },
     "metadata": {},
     "output_type": "display_data"
    },
    {
     "data": {
      "text/plain": "parsing log, completed traces ::   0%|          | 0/2 [00:00<?, ?it/s]",
      "application/vnd.jupyter.widget-view+json": {
       "version_major": 2,
       "version_minor": 0,
       "model_id": "c7e49ddfc51e4b748a3f51e00708e565"
      }
     },
     "metadata": {},
     "output_type": "display_data"
    },
    {
     "data": {
      "text/plain": "parsing log, completed traces ::   0%|          | 0/2 [00:00<?, ?it/s]",
      "application/vnd.jupyter.widget-view+json": {
       "version_major": 2,
       "version_minor": 0,
       "model_id": "439b2fae584b418b99f1ce67a4881972"
      }
     },
     "metadata": {},
     "output_type": "display_data"
    },
    {
     "data": {
      "text/plain": "exporting log, completed traces ::   0%|          | 0/24 [00:00<?, ?it/s]",
      "application/vnd.jupyter.widget-view+json": {
       "version_major": 2,
       "version_minor": 0,
       "model_id": "c154f25ae7a24c15a0fbd3a41e7b1115"
      }
     },
     "metadata": {},
     "output_type": "display_data"
    },
    {
     "name": "stdout",
     "output_type": "stream",
     "text": [
      "Kombinierte XES-Datei gespeichert unter: ../dataProcessing/itamSceneCombinedXES/itam_scene_combined_nai.xes\n"
     ]
    },
    {
     "data": {
      "text/plain": "parsing log, completed traces ::   0%|          | 0/2 [00:00<?, ?it/s]",
      "application/vnd.jupyter.widget-view+json": {
       "version_major": 2,
       "version_minor": 0,
       "model_id": "510e50ab8f914b8688eab73bac9b9bb4"
      }
     },
     "metadata": {},
     "output_type": "display_data"
    },
    {
     "data": {
      "text/plain": "parsing log, completed traces ::   0%|          | 0/1 [00:00<?, ?it/s]",
      "application/vnd.jupyter.widget-view+json": {
       "version_major": 2,
       "version_minor": 0,
       "model_id": "d06bcbfa76c848ffbdb1334e8124b764"
      }
     },
     "metadata": {},
     "output_type": "display_data"
    },
    {
     "data": {
      "text/plain": "parsing log, completed traces ::   0%|          | 0/1 [00:00<?, ?it/s]",
      "application/vnd.jupyter.widget-view+json": {
       "version_major": 2,
       "version_minor": 0,
       "model_id": "80f3447fc467422b800d03152ae273b4"
      }
     },
     "metadata": {},
     "output_type": "display_data"
    },
    {
     "data": {
      "text/plain": "parsing log, completed traces ::   0%|          | 0/2 [00:00<?, ?it/s]",
      "application/vnd.jupyter.widget-view+json": {
       "version_major": 2,
       "version_minor": 0,
       "model_id": "988be5241a8c45eca8aa29059617c88c"
      }
     },
     "metadata": {},
     "output_type": "display_data"
    },
    {
     "data": {
      "text/plain": "parsing log, completed traces ::   0%|          | 0/1 [00:00<?, ?it/s]",
      "application/vnd.jupyter.widget-view+json": {
       "version_major": 2,
       "version_minor": 0,
       "model_id": "504669342ecf4b5fa7d8c156e2b0dd6b"
      }
     },
     "metadata": {},
     "output_type": "display_data"
    },
    {
     "data": {
      "text/plain": "exporting log, completed traces ::   0%|          | 0/22 [00:00<?, ?it/s]",
      "application/vnd.jupyter.widget-view+json": {
       "version_major": 2,
       "version_minor": 0,
       "model_id": "97af8256b45e4cc48786f9887e484ec0"
      }
     },
     "metadata": {},
     "output_type": "display_data"
    },
    {
     "name": "stdout",
     "output_type": "stream",
     "text": [
      "Kombinierte XES-Datei gespeichert unter: ../dataProcessing/itamSceneCombinedXES/itam_scene_combined_ssaco.xes\n"
     ]
    }
   ],
   "source": [
    "# Write combined file\n",
    "\n",
    "# Asset disbursement to client\n",
    "write_combined_xes(['01','07','09','12','13','15'], 'adtc')\n",
    "\n",
    "# New inventory asset\n",
    "write_combined_xes(['02','03','04','06','07','10'], 'nai')\n",
    "\n",
    "# Self-service asset check-out\n",
    "write_combined_xes(['03','05','06','11','14'], 'ssaco')"
   ],
   "metadata": {
    "collapsed": false,
    "ExecuteTime": {
     "end_time": "2024-11-24T11:27:11.288532Z",
     "start_time": "2024-11-24T11:27:10.982987Z"
    }
   },
   "id": "8e067123a4a642b7",
   "execution_count": 18
  }
 ],
 "metadata": {
  "kernelspec": {
   "display_name": "Python 3",
   "language": "python",
   "name": "python3"
  },
  "language_info": {
   "codemirror_mode": {
    "name": "ipython",
    "version": 2
   },
   "file_extension": ".py",
   "mimetype": "text/x-python",
   "name": "python",
   "nbconvert_exporter": "python",
   "pygments_lexer": "ipython2",
   "version": "2.7.6"
  }
 },
 "nbformat": 4,
 "nbformat_minor": 5
}
