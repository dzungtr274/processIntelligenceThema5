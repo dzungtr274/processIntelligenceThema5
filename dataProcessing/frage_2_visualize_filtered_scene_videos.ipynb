{
 "cells": [
  {
   "cell_type": "code",
   "outputs": [],
   "source": [
    "import pm4py\n",
    "\n",
    "def vis_write_ocel(scene:str, filter:bool, process_instance:str, objects:list):\n",
    "    ## scene: scene number\n",
    "    ## filter: check if scene should be split in smaller cases\n",
    "    ## process_instance: nai - New asset inventory / adtc - Asset disbursement to clients / ssaco - self-service asset check-out\n",
    "    ## objects: objects which should be excluded to filter\n",
    "    \n",
    "    video_log_ocel = pm4py.read_ocel_json(f'../scene{scene}/scene{scene}_video_ocel.json')\n",
    "    print(video_log_ocel)\n",
    "    video_log_xes = pm4py.read_xes(f'../dataProcessing/sceneVideoXES/scene{scene}_video_xes.xes')\n",
    "\n",
    "    if filter == False:\n",
    "        ### OCEL\n",
    "        # Visualize\n",
    "        ocel_vis = pm4py.ocel.discover_ocdfg(video_log_ocel)\n",
    "        pm4py.vis.view_ocdfg(ocel_vis)\n",
    "        \n",
    "        # Write\n",
    "        ocel_path = f'../dataProcessing/filteredSceneVideoOCEL/filtered_scene{scene}_video_ocel_{process_instance}'\n",
    "        pm4py.write_ocel_json(video_log_ocel, ocel_path)\n",
    "        \n",
    "        ### XES\n",
    "        # Visualize\n",
    "        dfg, start_activities, end_activities = pm4py.discover_dfg(video_log_xes, \n",
    "                                                           case_id_key='case:concept:name',\n",
    "                                                           activity_key='concept:name',\n",
    "                                                           timestamp_key='time:timestamp'\n",
    "                                                           )\n",
    "        pm4py.vis.view_dfg(dfg, start_activities, end_activities)\n",
    "        \n",
    "        # Write\n",
    "        xes_path = f'../dataProcessing/filteredSceneVideoXES/filtered_scene{scene}_video_{process_instance}'\n",
    "        pm4py.write_xes(video_log_xes, xes_path)\n",
    "    \n",
    "    else:\n",
    "        ### OCEL\n",
    "        # Visualize\n",
    "        filtered_ocel = pm4py.filtering.filter_ocel_objects(video_log_ocel, object_identifiers=objects, positive=False, level=2)\n",
    "        ocel_vis = pm4py.ocel.discover_ocdfg(filtered_ocel)\n",
    "        pm4py.vis.view_ocdfg(ocel_vis)\n",
    "        \n",
    "        # Write\n",
    "        ocel_path = f'../dataProcessing/filteredSceneVideoOCEL/filtered_scene{scene}_video_ocel_{process_instance}'\n",
    "        pm4py.write_ocel_json(filtered_ocel,ocel_path)\n",
    "        \n",
    "        ### XES\n",
    "        # Visualize\n",
    "        filtered_xes = pm4py.filtering.filter_trace_attribute_values(log=video_log_xes, attribute_key='case:concept:name', values=objects, retain=False)\n",
    "        dfg, start_activities, end_activities = pm4py.discover_dfg(filtered_xes, \n",
    "                                                           case_id_key='case:concept:name',\n",
    "                                                           activity_key='concept:name',\n",
    "                                                           timestamp_key='time:timestamp'\n",
    "                                                           )\n",
    "        pm4py.vis.view_dfg(dfg, start_activities, end_activities)\n",
    "\n",
    "        xes_path = f'../dataProcessing/filteredSceneVideoXES/filtered_scene{scene}_video_{process_instance}'\n",
    "        pm4py.write_xes(filtered_xes,xes_path)"
   ],
   "metadata": {
    "collapsed": false
   },
   "id": "5e90a3de49f75848",
   "execution_count": null
  },
  {
   "cell_type": "code",
   "outputs": [],
   "source": [
    "vis_write_ocel('01', False, 'adtc', [])"
   ],
   "metadata": {
    "collapsed": false
   },
   "id": "c44ad5afc0a2435d",
   "execution_count": null
  },
  {
   "cell_type": "code",
   "outputs": [],
   "source": [
    "vis_write_ocel('02',False, 'nai', [])"
   ],
   "metadata": {
    "collapsed": false
   },
   "id": "2416e471ff2d2559",
   "execution_count": null
  },
  {
   "cell_type": "code",
   "outputs": [],
   "source": [
    "vis_write_ocel('03',True,'nai',['L1','L3','C1','C5', 'K1','C6','H4'])\n",
    "vis_write_ocel('03',True,'ssaco',['L1','L3','C1','A1','L5'])"
   ],
   "metadata": {
    "collapsed": false
   },
   "id": "ab0cd9ce30e89e84",
   "execution_count": null
  },
  {
   "cell_type": "code",
   "outputs": [],
   "source": [
    "vis_write_ocel('04',True,'nai',['M1','C2'])"
   ],
   "metadata": {
    "collapsed": false
   },
   "id": "71b31deab11716d7",
   "execution_count": null
  },
  {
   "cell_type": "code",
   "outputs": [],
   "source": [
    "vis_write_ocel('05',True,'ssaco',['L1'])"
   ],
   "metadata": {
    "collapsed": false
   },
   "id": "cce820d9eb72b8a5",
   "execution_count": null
  },
  {
   "cell_type": "code",
   "outputs": [],
   "source": [
    "vis_write_ocel('06',True,'nai',['C1', 'L3', 'P2','C10', 'H11','C9','K4'])\n",
    "vis_write_ocel('06',True,'ssaco',['C1', 'L3', 'P2', 'A1', 'L6'])"
   ],
   "metadata": {
    "collapsed": false
   },
   "id": "dedd78a2390d040c",
   "execution_count": null
  },
  {
   "cell_type": "code",
   "outputs": [],
   "source": [
    "vis_write_ocel('07',True,'nai',['L5', 'C8'])\n",
    "vis_write_ocel('07',True,'adtc',['K2', 'H3'])"
   ],
   "metadata": {
    "collapsed": false
   },
   "id": "c37d36cc6b4e221",
   "execution_count": null
  },
  {
   "cell_type": "markdown",
   "source": [
    "#### Exclude scene 8, because in which the process instances are not relevant to Thema 5"
   ],
   "metadata": {
    "collapsed": false
   },
   "id": "8c9850322661be0e"
  },
  {
   "cell_type": "code",
   "outputs": [],
   "source": [
    "vis_write_ocel('09',False,'adtc',[])"
   ],
   "metadata": {
    "collapsed": false
   },
   "id": "7457526911755938",
   "execution_count": null
  },
  {
   "cell_type": "code",
   "outputs": [],
   "source": [
    "vis_write_ocel('10',True,'nai',['K1'])"
   ],
   "metadata": {
    "collapsed": false
   },
   "id": "7785e596e8bcdbc6",
   "execution_count": null
  },
  {
   "cell_type": "code",
   "outputs": [],
   "source": [
    "vis_write_ocel('11',True,'ssaco',['L1', 'L4'])"
   ],
   "metadata": {
    "collapsed": false
   },
   "id": "f1604573c6a96962",
   "execution_count": null
  },
  {
   "cell_type": "code",
   "outputs": [],
   "source": [
    "vis_write_ocel('12',True,'adtc',['H5','H7'])"
   ],
   "metadata": {
    "collapsed": false
   },
   "id": "485c60f28de2df38",
   "execution_count": null
  },
  {
   "cell_type": "code",
   "outputs": [],
   "source": [
    "vis_write_ocel('13',True,'adtc',['L1', 'L3'])"
   ],
   "metadata": {
    "collapsed": false
   },
   "id": "f0ba8582ede90681",
   "execution_count": null
  },
  {
   "cell_type": "code",
   "outputs": [],
   "source": [
    "vis_write_ocel('14',True,'ssaco',['P1', 'P9', 'L3'])"
   ],
   "metadata": {
    "collapsed": false
   },
   "id": "497b359efa34cde0",
   "execution_count": null
  },
  {
   "cell_type": "code",
   "outputs": [],
   "source": [
    "vis_write_ocel('15',True,'adtc',['P1', 'L6', 'C7'])"
   ],
   "metadata": {
    "collapsed": false
   },
   "id": "2ae25fa693383299",
   "execution_count": null
  },
  {
   "cell_type": "code",
   "outputs": [],
   "source": [],
   "metadata": {
    "collapsed": false
   },
   "id": "df00fcdaf7bd9a36"
  }
 ],
 "metadata": {
  "kernelspec": {
   "display_name": "Python 3",
   "language": "python",
   "name": "python3"
  },
  "language_info": {
   "codemirror_mode": {
    "name": "ipython",
    "version": 2
   },
   "file_extension": ".py",
   "mimetype": "text/x-python",
   "name": "python",
   "nbconvert_exporter": "python",
   "pygments_lexer": "ipython2",
   "version": "2.7.6"
  }
 },
 "nbformat": 4,
 "nbformat_minor": 5
}
