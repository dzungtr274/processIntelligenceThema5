{
 "cells": [
  {
   "cell_type": "code",
   "execution_count": 2,
   "id": "4a1c03b37ee6bb6b",
   "metadata": {
    "collapsed": false
   },
   "outputs": [
    {
     "name": "stderr",
     "output_type": "stream",
     "text": [
      "c:\\lites\\Python38\\lib\\site-packages\\pm4py\\util\\dt_parsing\\parser.py:82: UserWarning: ISO8601 strings are not fully supported with strpfromiso for Python versions below 3.11\n",
      "  warnings.warn(\n",
      "c:\\lites\\Python38\\lib\\site-packages\\tqdm\\auto.py:21: TqdmWarning: IProgress not found. Please update jupyter and ipywidgets. See https://ipywidgets.readthedocs.io/en/stable/user_install.html\n",
      "  from .autonotebook import tqdm as notebook_tqdm\n",
      "exporting log, completed traces :: 100%|██████████| 5/5 [00:00<00:00, 4914.82it/s]"
     ]
    },
    {
     "name": "stdout",
     "output_type": "stream",
     "text": [
      "XES Datei gespeichert unter: ../dataProcessing/sceneVideoXES/scene15_video_xes.xes\n"
     ]
    },
    {
     "name": "stderr",
     "output_type": "stream",
     "text": [
      "\n"
     ]
    }
   ],
   "source": [
    "import pm4py\n",
    "\n",
    "# function for converting scene_video\n",
    "def convert_data_type(count:str, object_type:str):\n",
    "    # Load data\n",
    "    ocel_path = f\"../scene{count}/scene{count}_video_ocel.json\" \n",
    "\n",
    "    # Read data\n",
    "    ocel = pm4py.read_ocel_json(ocel_path)\n",
    "\n",
    "    # Convert OCEL-Data to Event Logs \n",
    "    event_log = pm4py.ocel_flattening(ocel,object_type)\n",
    "\n",
    "    # Write XES file\n",
    "    xes_output_path = f\"../dataProcessing/sceneVideoXES/scene{count}_video_xes.xes\"  \n",
    "    pm4py.write_xes(event_log, xes_output_path)\n",
    "    \n",
    "    print(f\"XES Datei gespeichert unter: {xes_output_path}\")\n",
    "\n",
    "convert_data_type(\"15\",\"item_asset\")"
   ]
  },
  {
   "cell_type": "code",
   "execution_count": 1,
   "id": "7668b39dbf1199ea",
   "metadata": {
    "collapsed": false,
    "ExecuteTime": {
     "end_time": "2024-11-23T20:33:46.738709Z",
     "start_time": "2024-11-23T20:33:44.596026Z"
    }
   },
   "outputs": [
    {
     "data": {
      "text/plain": "exporting log, completed traces ::   0%|          | 0/37 [00:00<?, ?it/s]",
      "application/vnd.jupyter.widget-view+json": {
       "version_major": 2,
       "version_minor": 0,
       "model_id": "1014396e3be44119acc799bb67bbe501"
      }
     },
     "metadata": {},
     "output_type": "display_data"
    },
    {
     "name": "stdout",
     "output_type": "stream",
     "text": [
      "XES Datei gespeichert unter: ../dataProcessing/itam_ocel_xes.xes\n"
     ]
    }
   ],
   "source": [
    "## ITAM\n",
    "\n",
    "import pm4py\n",
    "\n",
    "ocel_path = \"../global/itam_ocel.jsonl\"\n",
    "ocel = pm4py.read_ocel_json(ocel_path)\n",
    "\n",
    "# convert itam only\n",
    "def convert(object_type:str):\n",
    "    event_log = pm4py.ocel_flattening(ocel, object_type)\n",
    "    xes_output_path = \"../dataProcessing/itam_ocel_xes.xes\"\n",
    "    pm4py.write_xes(event_log, xes_output_path)\n",
    "    print(f\"XES Datei gespeichert unter: {xes_output_path}\")\n",
    "    \n",
    "convert('item_asset')\n",
    "    "
   ]
  },
  {
   "cell_type": "code",
   "outputs": [],
   "source": [],
   "metadata": {
    "collapsed": false
   },
   "id": "62c2c811b4337826"
  }
 ],
 "metadata": {
  "kernelspec": {
   "display_name": "Python 3",
   "language": "python",
   "name": "python3"
  },
  "language_info": {
   "codemirror_mode": {
    "name": "ipython",
    "version": 3
   },
   "file_extension": ".py",
   "mimetype": "text/x-python",
   "name": "python",
   "nbconvert_exporter": "python",
   "pygments_lexer": "ipython3",
   "version": "3.8.5"
  }
 },
 "nbformat": 4,
 "nbformat_minor": 5
}
