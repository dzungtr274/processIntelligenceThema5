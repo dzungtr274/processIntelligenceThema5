{
 "cells": [
  {
   "cell_type": "code",
   "execution_count": null,
   "id": "initial_id",
   "metadata": {
    "collapsed": true
   },
   "outputs": [],
   "source": [
    "import pm4py\n",
    "\n",
    "video1_log_ocel = pm4py.read_ocel_json('../scene01/scene01_video_ocel.json')\n",
    "video1_log_xes = pm4py.read_xes('../dataProcessing/sceneVideoXES/scene01_video_xes.xes')\n",
    "print(video1_log_ocel)\n",
    "\n",
    "dfg, start_activities, end_activities = pm4py.discover_dfg(video1_log_xes, \n",
    "                                                           case_id_key='case:concept:name',\n",
    "                                                           activity_key='concept:name',\n",
    "                                                           timestamp_key='time:timestamp'\n",
    "                                                           )\n",
    "pm4py.vis.view_dfg(dfg, start_activities, end_activities)\n",
    "\n",
    "bpmn = pm4py.discover_bpmn_inductive(video1_log_xes)\n",
    "pm4py.vis.view_bpmn(bpmn)"
   ]
  },
  {
   "cell_type": "code",
   "outputs": [],
   "source": [
    "video2_log_xes = pm4py.read_xes('../dataProcessing/sceneVideoXES/scene02_video_xes.xes')\n",
    "video2_log_ocel = pm4py.read_ocel_json('../scene02/scene02_video_ocel.json')\n",
    "print(video2_log_ocel)\n",
    "\n",
    "dfg, start_activities, end_activities = pm4py.discover_dfg(video2_log_xes, \n",
    "                                                           case_id_key='case:concept:name',\n",
    "                                                           activity_key='concept:name',\n",
    "                                                           timestamp_key='time:timestamp'\n",
    "                                                           )\n",
    "pm4py.vis.view_dfg(dfg, start_activities, end_activities)\n",
    "\n",
    "bpmn = pm4py.discover_bpmn_inductive(video2_log_xes)\n",
    "pm4py.vis.view_bpmn(bpmn)"
   ],
   "metadata": {
    "collapsed": false
   },
   "id": "73df0d9c40ebd874",
   "execution_count": null
  },
  {
   "cell_type": "code",
   "outputs": [],
   "source": [
    "video3_log_xes = pm4py.read_xes('../dataProcessing/sceneVideoXES/scene03_video_xes.xes')\n",
    "video3_log_ocel = pm4py.read_ocel_json('../scene03/scene03_video_ocel.json')\n",
    "print(video3_log_ocel)\n",
    "\n",
    "dfg, start_activities, end_activities = pm4py.discover_dfg(video3_log_xes, \n",
    "                                                           case_id_key='case:concept:name',\n",
    "                                                           activity_key='concept:name',\n",
    "                                                           timestamp_key='time:timestamp'\n",
    "                                                           )\n",
    "pm4py.vis.view_dfg(dfg, start_activities, end_activities)\n",
    "\n",
    "bpmn = pm4py.discover_bpmn_inductive(video3_log_xes)\n",
    "pm4py.vis.view_bpmn(bpmn)"
   ],
   "metadata": {
    "collapsed": false
   },
   "id": "6ca4b5f5f25abf4c",
   "execution_count": null
  },
  {
   "cell_type": "code",
   "outputs": [],
   "source": [
    "video4_log_xes = pm4py.read_xes('../dataProcessing/sceneVideoXES/scene04_video_xes.xes')\n",
    "video4_log_ocel = pm4py.read_ocel_json('../scene04/scene04_video_ocel.json')\n",
    "print(video4_log_ocel)\n",
    "\n",
    "dfg, start_activities, end_activities = pm4py.discover_dfg(video4_log_xes, \n",
    "                                                           case_id_key='case:concept:name',\n",
    "                                                           activity_key='concept:name',\n",
    "                                                           timestamp_key='time:timestamp'\n",
    "                                                           )\n",
    "pm4py.vis.view_dfg(dfg, start_activities, end_activities)\n",
    "\n",
    "bpmn = pm4py.discover_bpmn_inductive(video4_log_xes)\n",
    "pm4py.vis.view_bpmn(bpmn)\n"
   ],
   "metadata": {
    "collapsed": false
   },
   "id": "225d549b6f6694c2",
   "execution_count": null
  },
  {
   "cell_type": "code",
   "outputs": [],
   "source": [
    "video5_log_xes = pm4py.read_xes('../dataProcessing/sceneVideoXES/scene05_video_xes.xes')\n",
    "video5_log_ocel = pm4py.read_ocel_json('../scene05/scene05_video_ocel.json')\n",
    "print(video5_log_ocel)\n",
    "\n",
    "dfg, start_activities, end_activities = pm4py.discover_dfg(video5_log_xes, \n",
    "                                                           case_id_key='case:concept:name',\n",
    "                                                           activity_key='concept:name',\n",
    "                                                           timestamp_key='time:timestamp'\n",
    "                                                           )\n",
    "pm4py.vis.view_dfg(dfg, start_activities, end_activities)\n",
    "\n",
    "bpmn = pm4py.discover_bpmn_inductive(video5_log_xes)\n",
    "pm4py.vis.view_bpmn(bpmn)"
   ],
   "metadata": {
    "collapsed": false
   },
   "id": "ab2b190d2357a1ba",
   "execution_count": null
  },
  {
   "cell_type": "code",
   "outputs": [],
   "source": [
    "video6_log_xes = pm4py.read_xes('../dataProcessing/sceneVideoXES/scene06_video_xes.xes')\n",
    "video6_log_ocel = pm4py.read_ocel_json('../scene06/scene06_video_ocel.json')\n",
    "print(video6_log_ocel)\n",
    "\n",
    "dfg, start_activities, end_activities = pm4py.discover_dfg(video6_log_xes, \n",
    "                                                           case_id_key='case:concept:name',\n",
    "                                                           activity_key='concept:name',\n",
    "                                                           timestamp_key='time:timestamp'\n",
    "                                                           )\n",
    "pm4py.vis.view_dfg(dfg, start_activities, end_activities)\n",
    "\n",
    "bpmn = pm4py.discover_bpmn_inductive(video6_log_xes)\n",
    "pm4py.vis.view_bpmn(bpmn)"
   ],
   "metadata": {
    "collapsed": false
   },
   "id": "32325e4739747368",
   "execution_count": null
  },
  {
   "cell_type": "code",
   "outputs": [],
   "source": [
    "video7_log_xes = pm4py.read_xes('../dataProcessing/sceneVideoXES/scene07_video_xes.xes')\n",
    "video7_log_ocel = pm4py.read_ocel_json('../scene07/scene07_video_ocel.json')\n",
    "print(video7_log_ocel)\n",
    "\n",
    "dfg, start_activities, end_activities = pm4py.discover_dfg(video7_log_xes, \n",
    "                                                           case_id_key='case:concept:name',\n",
    "                                                           activity_key='concept:name',\n",
    "                                                           timestamp_key='time:timestamp'\n",
    "                                                           )\n",
    "pm4py.vis.view_dfg(dfg, start_activities, end_activities)\n",
    "\n",
    "bpmn = pm4py.discover_bpmn_inductive(video7_log_xes)\n",
    "pm4py.vis.view_bpmn(bpmn)"
   ],
   "metadata": {
    "collapsed": false
   },
   "id": "d010f22c755c7de1",
   "execution_count": null
  },
  {
   "cell_type": "code",
   "outputs": [],
   "source": [
    "video8_log_xes = pm4py.read_xes('../dataProcessing/sceneVideoXES/scene08_video_xes.xes')\n",
    "video8_log_ocel = pm4py.read_ocel_json('../scene08/scene08_video_ocel.json')\n",
    "print(video8_log_ocel)\n",
    "\n",
    "dfg, start_activities, end_activities = pm4py.discover_dfg(video8_log_xes, \n",
    "                                                           case_id_key='case:concept:name',\n",
    "                                                           activity_key='concept:name',\n",
    "                                                           timestamp_key='time:timestamp'\n",
    "                                                           )\n",
    "pm4py.vis.view_dfg(dfg, start_activities, end_activities)\n",
    "\n",
    "bpmn = pm4py.discover_bpmn_inductive(video8_log_xes)\n",
    "pm4py.vis.view_bpmn(bpmn)"
   ],
   "metadata": {
    "collapsed": false
   },
   "id": "5a813f94bf3d6e71",
   "execution_count": null
  },
  {
   "cell_type": "code",
   "outputs": [],
   "source": [
    "video9_log_xes = pm4py.read_xes('../dataProcessing/sceneVideoXES/scene09_video_xes.xes')\n",
    "video9_log_ocel = pm4py.read_ocel_json('../scene09/scene09_video_ocel.json')\n",
    "print(video9_log_ocel)\n",
    "\n",
    "dfg, start_activities, end_activities = pm4py.discover_dfg(video9_log_xes, \n",
    "                                                           case_id_key='case:concept:name',\n",
    "                                                           activity_key='concept:name',\n",
    "                                                           timestamp_key='time:timestamp'\n",
    "                                                           )\n",
    "pm4py.vis.view_dfg(dfg, start_activities, end_activities)\n",
    "\n",
    "bpmn = pm4py.discover_bpmn_inductive(video9_log_xes)\n",
    "pm4py.vis.view_bpmn(bpmn)"
   ],
   "metadata": {
    "collapsed": false
   },
   "id": "39fbba80e74d9448",
   "execution_count": null
  },
  {
   "cell_type": "code",
   "outputs": [],
   "source": [
    "video10_log_xes = pm4py.read_xes('../dataProcessing/sceneVideoXES/scene10_video_xes.xes')\n",
    "video10_log_ocel = pm4py.read_ocel_json('../scene10/scene10_video_ocel.json')\n",
    "print(video10_log_ocel)\n",
    "\n",
    "dfg, start_activities, end_activities = pm4py.discover_dfg(video10_log_xes, \n",
    "                                                           case_id_key='case:concept:name',\n",
    "                                                           activity_key='concept:name',\n",
    "                                                           timestamp_key='time:timestamp'\n",
    "                                                           )\n",
    "pm4py.vis.view_dfg(dfg, start_activities, end_activities)\n",
    "\n",
    "bpmn = pm4py.discover_bpmn_inductive(video10_log_xes)\n",
    "pm4py.vis.view_bpmn(bpmn)"
   ],
   "metadata": {
    "collapsed": false
   },
   "id": "8fdae2dd5e25e817",
   "execution_count": null
  },
  {
   "cell_type": "code",
   "outputs": [],
   "source": [
    "video11_log_xes = pm4py.read_xes('../dataProcessing/sceneVideoXES/scene11_video_xes.xes')\n",
    "video11_log_ocel = pm4py.read_ocel_json('../scene11/scene11_video_ocel.json')\n",
    "print(video11_log_ocel)\n",
    "\n",
    "dfg, start_activities, end_activities = pm4py.discover_dfg(video11_log_xes, \n",
    "                                                           case_id_key='case:concept:name',\n",
    "                                                           activity_key='concept:name',\n",
    "                                                           timestamp_key='time:timestamp'\n",
    "                                                           )\n",
    "pm4py.vis.view_dfg(dfg, start_activities, end_activities)\n",
    "\n",
    "bpmn = pm4py.discover_bpmn_inductive(video11_log_xes)\n",
    "pm4py.vis.view_bpmn(bpmn)"
   ],
   "metadata": {
    "collapsed": false
   },
   "id": "df0001451bfee2c7",
   "execution_count": null
  },
  {
   "cell_type": "code",
   "outputs": [],
   "source": [
    "video12_log_xes = pm4py.read_xes('../dataProcessing/sceneVideoXES/scene12_video_xes.xes')\n",
    "video12_log_ocel = pm4py.read_ocel_json('../scene12/scene12_video_ocel.json')\n",
    "print(video12_log_ocel)\n",
    "\n",
    "dfg, start_activities, end_activities = pm4py.discover_dfg(video12_log_xes, \n",
    "                                                           case_id_key='case:concept:name',\n",
    "                                                           activity_key='concept:name',\n",
    "                                                           timestamp_key='time:timestamp'\n",
    "                                                           )\n",
    "pm4py.vis.view_dfg(dfg, start_activities, end_activities)\n",
    "\n",
    "bpmn = pm4py.discover_bpmn_inductive(video12_log_xes)\n",
    "pm4py.vis.view_bpmn(bpmn)"
   ],
   "metadata": {
    "collapsed": false
   },
   "id": "335192aac869a58d",
   "execution_count": null
  },
  {
   "cell_type": "code",
   "outputs": [],
   "source": [
    "video13_log_xes = pm4py.read_xes('../dataProcessing/sceneVideoXES/scene13_video_xes.xes')\n",
    "video13_log_ocel = pm4py.read_ocel_json('../scene13/scene13_video_ocel.json')\n",
    "print(video13_log_ocel)\n",
    "\n",
    "dfg, start_activities, end_activities = pm4py.discover_dfg(video13_log_xes, \n",
    "                                                           case_id_key='case:concept:name',\n",
    "                                                           activity_key='concept:name',\n",
    "                                                           timestamp_key='time:timestamp'\n",
    "                                                           )\n",
    "pm4py.vis.view_dfg(dfg, start_activities, end_activities)\n",
    "\n",
    "bpmn = pm4py.discover_bpmn_inductive(video13_log_xes)\n",
    "pm4py.vis.view_bpmn(bpmn)"
   ],
   "metadata": {
    "collapsed": false
   },
   "id": "5b06a1903451f312",
   "execution_count": null
  },
  {
   "cell_type": "code",
   "outputs": [],
   "source": [
    "video14_log_xes = pm4py.read_xes('../dataProcessing/sceneVideoXES/scene14_video_xes.xes')\n",
    "video14_log_ocel = pm4py.read_ocel_json('../scene14/scene14_video_ocel.json')\n",
    "print(video14_log_ocel)\n",
    "\n",
    "dfg, start_activities, end_activities = pm4py.discover_dfg(video14_log_xes, \n",
    "                                                           case_id_key='case:concept:name',\n",
    "                                                           activity_key='concept:name',\n",
    "                                                           timestamp_key='time:timestamp'\n",
    "                                                           )\n",
    "pm4py.vis.view_dfg(dfg, start_activities, end_activities)\n",
    "\n",
    "bpmn = pm4py.discover_bpmn_inductive(video14_log_xes)\n",
    "pm4py.vis.view_bpmn(bpmn)"
   ],
   "metadata": {
    "collapsed": false
   },
   "id": "c388f3a1bc553799",
   "execution_count": null
  },
  {
   "cell_type": "code",
   "outputs": [],
   "source": [
    "video15_log_xes = pm4py.read_xes('../dataProcessing/sceneVideoXES/scene15_video_xes.xes')\n",
    "video15_log_ocel = pm4py.read_ocel_json('../scene15/scene15_video_ocel.json')\n",
    "print(video4_log_ocel)\n",
    "\n",
    "dfg, start_activities, end_activities = pm4py.discover_dfg(video15_log_xes, \n",
    "                                                           case_id_key='case:concept:name',\n",
    "                                                           activity_key='concept:name',\n",
    "                                                           timestamp_key='time:timestamp'\n",
    "                                                           )\n",
    "pm4py.vis.view_dfg(dfg, start_activities, end_activities)\n",
    "\n",
    "bpmn = pm4py.discover_bpmn_inductive(video15_log_xes)\n",
    "pm4py.vis.view_bpmn(bpmn)"
   ],
   "metadata": {
    "collapsed": false
   },
   "id": "b89ed183dc299bf",
   "execution_count": null
  },
  {
   "cell_type": "code",
   "outputs": [],
   "source": [],
   "metadata": {
    "collapsed": false
   },
   "id": "52ff1bc7b734b3ee",
   "execution_count": null
  }
 ],
 "metadata": {
  "kernelspec": {
   "display_name": "Python 3",
   "language": "python",
   "name": "python3"
  },
  "language_info": {
   "codemirror_mode": {
    "name": "ipython",
    "version": 2
   },
   "file_extension": ".py",
   "mimetype": "text/x-python",
   "name": "python",
   "nbconvert_exporter": "python",
   "pygments_lexer": "ipython2",
   "version": "2.7.6"
  }
 },
 "nbformat": 4,
 "nbformat_minor": 5
}
