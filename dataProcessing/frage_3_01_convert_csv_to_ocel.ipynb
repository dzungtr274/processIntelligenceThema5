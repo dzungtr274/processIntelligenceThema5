{
 "cells": [
  {
   "cell_type": "code",
   "execution_count": null,
   "id": "initial_id",
   "metadata": {
    "ExecuteTime": {
     "end_time": "2024-12-14T23:07:17.704808Z",
     "start_time": "2024-12-14T23:07:15.257649Z"
    },
    "collapsed": true
   },
   "outputs": [],
   "source": [
    "import pm4py\n",
    "import pandas as pd"
   ]
  },
  {
   "cell_type": "code",
   "execution_count": null,
   "id": "970d5cfe4b3d09d7",
   "metadata": {
    "ExecuteTime": {
     "end_time": "2024-12-11T22:40:31.244264Z",
     "start_time": "2024-12-11T22:40:31.239154Z"
    },
    "collapsed": false
   },
   "outputs": [],
   "source": [
    "def convert_csv_to_ocel(scene:str): \n",
    "    # read csv\n",
    "    dataframe = pd.read_csv(f'../scene{scene}/scene{scene}_mov.csv')\n",
    "    # convert csv to dataframe\n",
    "    dataframe = pm4py.format_dataframe(dataframe,case_id ='resource',activity_key='activity',timestamp_key='timestamp')\n",
    "    # change timestamp to +1 timezone\n",
    "    dataframe['time:timestamp'] = dataframe['time:timestamp'].dt.tz_convert('Europe/Berlin')\n",
    "    # delete redundant columns\n",
    "    dataframe = dataframe.drop(columns=['timestamp','resource','activity'])\n",
    "    # sort df by timestamp\n",
    "    dataframe = dataframe.sort_values(by='time:timestamp')\n",
    "    # change order (optional)\n",
    "    new_order = ['time:timestamp','case:concept:name','concept:name','region','walking_speed','step','handling_height']\n",
    "    dataframe = dataframe[new_order]\n",
    "    # convert df to ocel\n",
    "    ocel = pm4py.convert.convert_log_to_ocel(dataframe,activity_column='concept:name',timestamp_column='time:timestamp',object_types=['case:concept:name', 'region'])\n",
    "    # write ocel\n",
    "    pm4py.write_ocel_json(ocel,f'../dataProcessing/sceneMovOCEL/scene{scene}_mov')"
   ]
  },
  {
   "cell_type": "code",
   "execution_count": null,
   "id": "e874034d5cc1db78",
   "metadata": {
    "ExecuteTime": {
     "end_time": "2024-12-14T23:07:27.206113Z",
     "start_time": "2024-12-14T23:07:27.167056Z"
    },
    "collapsed": false
   },
   "outputs": [],
   "source": [
    "## SIMULATE THE CONVERT PROCESS ONLY\n",
    "\n",
    "dataframe = pd.read_csv('../scene01/scene01_mov.csv')\n",
    "dataframe"
   ]
  },
  {
   "cell_type": "code",
   "execution_count": null,
   "id": "eb5a07cdc92000c7",
   "metadata": {
    "ExecuteTime": {
     "end_time": "2024-12-14T23:07:30.607241Z",
     "start_time": "2024-12-14T23:07:30.542416Z"
    },
    "collapsed": false
   },
   "outputs": [],
   "source": [
    "dataframe = pm4py.format_dataframe(dataframe,case_id ='resource',activity_key='activity',timestamp_key='timestamp')\n",
    "dataframe = dataframe.drop(columns=['timestamp','resource','activity'])\n",
    "\n",
    "dataframe"
   ]
  },
  {
   "cell_type": "code",
   "execution_count": null,
   "id": "e46ee6508d1b1c97",
   "metadata": {
    "ExecuteTime": {
     "end_time": "2024-12-14T23:07:33.835677Z",
     "start_time": "2024-12-14T23:07:33.750875Z"
    },
    "collapsed": false
   },
   "outputs": [],
   "source": [
    "ocel = pm4py.convert.convert_log_to_ocel(dataframe,activity_column='concept:name',timestamp_column='time:timestamp',object_types=['case:concept:name'])\n",
    "ocel.get_extended_table()"
   ]
  }
 ],
 "metadata": {
  "kernelspec": {
   "display_name": "Python 3",
   "language": "python",
   "name": "python3"
  },
  "language_info": {
   "codemirror_mode": {
    "name": "ipython",
    "version": 3
   },
   "file_extension": ".py",
   "mimetype": "text/x-python",
   "name": "python",
   "nbconvert_exporter": "python",
   "pygments_lexer": "ipython3",
   "version": "3.8.5"
  }
 },
 "nbformat": 4,
 "nbformat_minor": 5
}
