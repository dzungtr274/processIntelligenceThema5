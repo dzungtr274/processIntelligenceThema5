{
 "cells": [
  {
   "cell_type": "code",
   "execution_count": null,
   "id": "initial_id",
   "metadata": {
    "collapsed": true
   },
   "outputs": [],
   "source": [
    "import pm4py\n",
    "\n",
    "### XES\n",
    "\n",
    "# New inventory asset\n",
    "xes_nai = pm4py.read_xes('../dataProcessing/itamSceneCombinedXES/itam_scene_combined_nai.xes')\n",
    "\n",
    "dfg, start_activities, end_activities = pm4py.discover_dfg(xes_nai, \n",
    "                                                           case_id_key='case:concept:name',\n",
    "                                                           activity_key='concept:name',\n",
    "                                                           timestamp_key='time:timestamp'\n",
    "                                                           )\n",
    "pm4py.vis.view_dfg(dfg, start_activities, end_activities)\n",
    "\n",
    "bpmn = pm4py.discover_bpmn_inductive(xes_nai)\n",
    "pm4py.vis.view_bpmn(bpmn)"
   ]
  },
  {
   "cell_type": "code",
   "outputs": [],
   "source": [
    "# Asset disbursement to client\n",
    "xes_adtc = pm4py.read_xes('../dataProcessing/itamSceneCombinedXES/itam_scene_combined_adtc.xes')\n",
    "\n",
    "dfg, start_activities, end_activities = pm4py.discover_dfg(xes_adtc, \n",
    "                                                           case_id_key='case:concept:name',\n",
    "                                                           activity_key='concept:name',\n",
    "                                                           timestamp_key='time:timestamp'\n",
    "                                                           )\n",
    "pm4py.vis.view_dfg(dfg, start_activities, end_activities)\n",
    "\n",
    "bpmn = pm4py.discover_bpmn_inductive(xes_adtc)\n",
    "pm4py.vis.view_bpmn(bpmn)"
   ],
   "metadata": {
    "collapsed": false
   },
   "id": "d14ac261f7be476a",
   "execution_count": null
  },
  {
   "cell_type": "code",
   "outputs": [],
   "source": [
    "# Self-service asset check-out\n",
    "xes_ssaco = pm4py.read_xes('../dataProcessing/itamSceneCombinedXES/itam_scene_combined_ssaco.xes')\n",
    "\n",
    "dfg, start_activities, end_activities = pm4py.discover_dfg(xes_ssaco, \n",
    "                                                           case_id_key='case:concept:name',\n",
    "                                                           activity_key='concept:name',\n",
    "                                                           timestamp_key='time:timestamp'\n",
    "                                                           )\n",
    "pm4py.vis.view_dfg(dfg, start_activities, end_activities)\n",
    "\n",
    "bpmn = pm4py.discover_bpmn_inductive(xes_ssaco)\n",
    "pm4py.vis.view_bpmn(bpmn)"
   ],
   "metadata": {
    "collapsed": false
   },
   "id": "c52ae99e68f0eefb",
   "execution_count": null
  },
  {
   "cell_type": "code",
   "outputs": [],
   "source": [],
   "metadata": {
    "collapsed": false
   },
   "id": "f1ac333e7ff67e29"
  }
 ],
 "metadata": {
  "kernelspec": {
   "display_name": "Python 3",
   "language": "python",
   "name": "python3"
  },
  "language_info": {
   "codemirror_mode": {
    "name": "ipython",
    "version": 2
   },
   "file_extension": ".py",
   "mimetype": "text/x-python",
   "name": "python",
   "nbconvert_exporter": "python",
   "pygments_lexer": "ipython2",
   "version": "2.7.6"
  }
 },
 "nbformat": 4,
 "nbformat_minor": 5
}
