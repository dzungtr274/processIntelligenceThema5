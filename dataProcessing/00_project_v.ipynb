{
 "cells": [
  {
   "cell_type": "markdown",
   "metadata": {},
   "source": [
    "# Dataset „Solve4X“\n",
    "\n",
    "## Thema 5 - Blind Spots: Motion Tracking\n",
    "\n",
    "### Tasks / Key questions\n",
    "\n",
    "The Solve4X dataset provides data on 6 processes, which are divided into a total of 36 scenes. Analyze the processes \"New asset inventory\", \"Asset disbursement to clients\" and \"Self-service asset check-out\" across all scenes. Follow the key questions below, but feel free to add your own analysis. The most important thing is that you can present a comprehensive picture of the processes.\n",
    "Analyze the data using Celonis (academic license), Python (library PM4Py), Excel or a suitable tool of your choice.\n",
    "\n",
    "### Processes:\n",
    "\n",
    "- New asset inventory \\\n",
    "  Unpack -> Check quality -> Inventory -> Install -> Store in the warehouse\n",
    "- Asset disbursement to clients\\\n",
    "  Retrieve from the warehouse -> Check quality -> Issue to the client\n",
    "- Self-service asset check-out\\\n",
    "  Check out the asset in a system -> Reserve the asset from self-service desk\n"
   ]
  }
 ],
 "metadata": {
  "language_info": {
   "name": "python"
  }
 },
 "nbformat": 4,
 "nbformat_minor": 2
}
