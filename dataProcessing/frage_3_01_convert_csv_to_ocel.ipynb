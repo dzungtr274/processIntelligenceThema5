{
 "cells": [
  {
   "cell_type": "code",
   "execution_count": 4,
   "id": "initial_id",
   "metadata": {
    "collapsed": true,
    "ExecuteTime": {
     "end_time": "2024-12-11T22:40:31.238642Z",
     "start_time": "2024-12-11T22:40:24.584589Z"
    }
   },
   "outputs": [],
   "source": [
    "import pm4py\n",
    "import pandas as pd"
   ]
  },
  {
   "cell_type": "code",
   "outputs": [],
   "source": [
    "def convert_csv_to_ocel(scene:str): \n",
    "    # read csv\n",
    "    dataframe = pd.read_csv(f'../scene{scene}/scene{scene}_mov.csv')\n",
    "    # convert csv to dataframe\n",
    "    dataframe = pm4py.format_dataframe(dataframe,case_id ='resource',activity_key='activity',timestamp_key='timestamp')\n",
    "    # change timestamp to +1 timezone\n",
    "    dataframe['time:timestamp'] = dataframe['time:timestamp'].dt.tz_convert('Europe/Berlin')\n",
    "    # delete redundant columns\n",
    "    dataframe = dataframe.drop(columns=['timestamp','resource','activity'])\n",
    "    # sort df by timestamp\n",
    "    dataframe = dataframe.sort_values(by='time:timestamp')\n",
    "    # change order (optional)\n",
    "    new_order = ['time:timestamp','case:concept:name','concept:name','region','walking_speed','step','handling_height']\n",
    "    dataframe = dataframe[new_order]\n",
    "    # convert df to ocel\n",
    "    ocel = pm4py.convert.convert_log_to_ocel(dataframe,activity_column='concept:name',timestamp_column='time:timestamp',object_types=['case:concept:name', 'region'])\n",
    "    # write ocel\n",
    "    pm4py.write_ocel_json(ocel,f'../dataProcessing/sceneMovOCEL/scene{scene}_mov')"
   ],
   "metadata": {
    "collapsed": false,
    "ExecuteTime": {
     "end_time": "2024-12-11T22:40:31.244264Z",
     "start_time": "2024-12-11T22:40:31.239154Z"
    }
   },
   "id": "970d5cfe4b3d09d7",
   "execution_count": 5
  },
  {
   "cell_type": "code",
   "outputs": [],
   "source": [
    "convert_csv_to_ocel('15')"
   ],
   "metadata": {
    "collapsed": false,
    "ExecuteTime": {
     "end_time": "2024-12-11T22:44:24.256489Z",
     "start_time": "2024-12-11T22:44:24.033578Z"
    }
   },
   "id": "9f27b218c9f5e6f5",
   "execution_count": 21
  },
  {
   "cell_type": "code",
   "outputs": [
    {
     "data": {
      "text/plain": "                      timestamp resource  activity                     region  \\\n0     2024-03-25 08:48:24+01:00       A1      Walk                 Issue Area   \n1     2024-03-25 08:48:24+01:00       C1     Stand  Self-Service Lending Area   \n2     2024-03-25 08:48:24+01:00       C2  Handling             Warehouse Area   \n3     2024-03-25 08:48:24+01:00       C6     Stand             Warehouse Area   \n4     2024-03-25 08:48:25+01:00       A1      Walk                 Issue Area   \n...                         ...      ...       ...                        ...   \n1563  2024-03-25 08:54:54+01:00       C6     Stand                 Issue Area   \n1564  2024-03-25 08:54:55+01:00       A1     Stand                 Issue Area   \n1565  2024-03-25 08:54:55+01:00       C1  Handling               Waiting Area   \n1566  2024-03-25 08:54:55+01:00       C2      Walk               Waiting Area   \n1567  2024-03-25 08:54:55+01:00       C6  Handling                 Issue Area   \n\n      walking_speed   step  handling_height  \n0          0.838542  False              6.0  \n1          0.000000  False              6.0  \n2          0.000000  False              8.0  \n3          0.000000  False              6.0  \n4          0.838542  False              6.0  \n...             ...    ...              ...  \n1563       0.000000  False              6.0  \n1564       0.000000  False              6.0  \n1565       0.000000  False              8.0  \n1566       0.000000  False              6.0  \n1567       0.000000  False              8.0  \n\n[1568 rows x 7 columns]",
      "text/html": "<div>\n<style scoped>\n    .dataframe tbody tr th:only-of-type {\n        vertical-align: middle;\n    }\n\n    .dataframe tbody tr th {\n        vertical-align: top;\n    }\n\n    .dataframe thead th {\n        text-align: right;\n    }\n</style>\n<table border=\"1\" class=\"dataframe\">\n  <thead>\n    <tr style=\"text-align: right;\">\n      <th></th>\n      <th>timestamp</th>\n      <th>resource</th>\n      <th>activity</th>\n      <th>region</th>\n      <th>walking_speed</th>\n      <th>step</th>\n      <th>handling_height</th>\n    </tr>\n  </thead>\n  <tbody>\n    <tr>\n      <th>0</th>\n      <td>2024-03-25 08:48:24+01:00</td>\n      <td>A1</td>\n      <td>Walk</td>\n      <td>Issue Area</td>\n      <td>0.838542</td>\n      <td>False</td>\n      <td>6.0</td>\n    </tr>\n    <tr>\n      <th>1</th>\n      <td>2024-03-25 08:48:24+01:00</td>\n      <td>C1</td>\n      <td>Stand</td>\n      <td>Self-Service Lending Area</td>\n      <td>0.000000</td>\n      <td>False</td>\n      <td>6.0</td>\n    </tr>\n    <tr>\n      <th>2</th>\n      <td>2024-03-25 08:48:24+01:00</td>\n      <td>C2</td>\n      <td>Handling</td>\n      <td>Warehouse Area</td>\n      <td>0.000000</td>\n      <td>False</td>\n      <td>8.0</td>\n    </tr>\n    <tr>\n      <th>3</th>\n      <td>2024-03-25 08:48:24+01:00</td>\n      <td>C6</td>\n      <td>Stand</td>\n      <td>Warehouse Area</td>\n      <td>0.000000</td>\n      <td>False</td>\n      <td>6.0</td>\n    </tr>\n    <tr>\n      <th>4</th>\n      <td>2024-03-25 08:48:25+01:00</td>\n      <td>A1</td>\n      <td>Walk</td>\n      <td>Issue Area</td>\n      <td>0.838542</td>\n      <td>False</td>\n      <td>6.0</td>\n    </tr>\n    <tr>\n      <th>...</th>\n      <td>...</td>\n      <td>...</td>\n      <td>...</td>\n      <td>...</td>\n      <td>...</td>\n      <td>...</td>\n      <td>...</td>\n    </tr>\n    <tr>\n      <th>1563</th>\n      <td>2024-03-25 08:54:54+01:00</td>\n      <td>C6</td>\n      <td>Stand</td>\n      <td>Issue Area</td>\n      <td>0.000000</td>\n      <td>False</td>\n      <td>6.0</td>\n    </tr>\n    <tr>\n      <th>1564</th>\n      <td>2024-03-25 08:54:55+01:00</td>\n      <td>A1</td>\n      <td>Stand</td>\n      <td>Issue Area</td>\n      <td>0.000000</td>\n      <td>False</td>\n      <td>6.0</td>\n    </tr>\n    <tr>\n      <th>1565</th>\n      <td>2024-03-25 08:54:55+01:00</td>\n      <td>C1</td>\n      <td>Handling</td>\n      <td>Waiting Area</td>\n      <td>0.000000</td>\n      <td>False</td>\n      <td>8.0</td>\n    </tr>\n    <tr>\n      <th>1566</th>\n      <td>2024-03-25 08:54:55+01:00</td>\n      <td>C2</td>\n      <td>Walk</td>\n      <td>Waiting Area</td>\n      <td>0.000000</td>\n      <td>False</td>\n      <td>6.0</td>\n    </tr>\n    <tr>\n      <th>1567</th>\n      <td>2024-03-25 08:54:55+01:00</td>\n      <td>C6</td>\n      <td>Handling</td>\n      <td>Issue Area</td>\n      <td>0.000000</td>\n      <td>False</td>\n      <td>8.0</td>\n    </tr>\n  </tbody>\n</table>\n<p>1568 rows × 7 columns</p>\n</div>"
     },
     "execution_count": 7,
     "metadata": {},
     "output_type": "execute_result"
    }
   ],
   "source": [
    "dataframe = pd.read_csv('../scene01/scene01_mov.csv')\n",
    "dataframe"
   ],
   "metadata": {
    "collapsed": false,
    "ExecuteTime": {
     "end_time": "2024-11-30T19:45:23.225099Z",
     "start_time": "2024-11-30T19:45:23.207518Z"
    }
   },
   "id": "e874034d5cc1db78",
   "execution_count": 7
  },
  {
   "cell_type": "code",
   "outputs": [
    {
     "data": {
      "text/plain": "            region  walking_speed   step  handling_height case:concept:name  \\\n0       Issue Area       0.838542  False              6.0                A1   \n1       Issue Area       0.838542  False              6.0                A1   \n2     Working Area       0.838542  False              6.0                A1   \n3     Working Area       0.838542  False              6.0                A1   \n4     Working Area       0.838542  False              6.0                A1   \n...            ...            ...    ...              ...               ...   \n1563    Issue Area       0.000000  False              8.0                C6   \n1564    Issue Area       0.000000  False              6.0                C6   \n1565    Issue Area       0.000000  False              6.0                C6   \n1566    Issue Area       0.000000  False              6.0                C6   \n1567    Issue Area       0.000000  False              8.0                C6   \n\n     concept:name            time:timestamp  @@index  @@case_index  \n0            Walk 2024-03-25 07:48:24+00:00        0             0  \n1            Walk 2024-03-25 07:48:25+00:00        1             0  \n2            Walk 2024-03-25 07:48:26+00:00        2             0  \n3            Walk 2024-03-25 07:48:27+00:00        3             0  \n4            Walk 2024-03-25 07:48:28+00:00        4             0  \n...           ...                       ...      ...           ...  \n1563     Handling 2024-03-25 07:54:51+00:00     1563             3  \n1564        Stand 2024-03-25 07:54:52+00:00     1564             3  \n1565        Stand 2024-03-25 07:54:53+00:00     1565             3  \n1566        Stand 2024-03-25 07:54:54+00:00     1566             3  \n1567     Handling 2024-03-25 07:54:55+00:00     1567             3  \n\n[1568 rows x 9 columns]",
      "text/html": "<div>\n<style scoped>\n    .dataframe tbody tr th:only-of-type {\n        vertical-align: middle;\n    }\n\n    .dataframe tbody tr th {\n        vertical-align: top;\n    }\n\n    .dataframe thead th {\n        text-align: right;\n    }\n</style>\n<table border=\"1\" class=\"dataframe\">\n  <thead>\n    <tr style=\"text-align: right;\">\n      <th></th>\n      <th>region</th>\n      <th>walking_speed</th>\n      <th>step</th>\n      <th>handling_height</th>\n      <th>case:concept:name</th>\n      <th>concept:name</th>\n      <th>time:timestamp</th>\n      <th>@@index</th>\n      <th>@@case_index</th>\n    </tr>\n  </thead>\n  <tbody>\n    <tr>\n      <th>0</th>\n      <td>Issue Area</td>\n      <td>0.838542</td>\n      <td>False</td>\n      <td>6.0</td>\n      <td>A1</td>\n      <td>Walk</td>\n      <td>2024-03-25 07:48:24+00:00</td>\n      <td>0</td>\n      <td>0</td>\n    </tr>\n    <tr>\n      <th>1</th>\n      <td>Issue Area</td>\n      <td>0.838542</td>\n      <td>False</td>\n      <td>6.0</td>\n      <td>A1</td>\n      <td>Walk</td>\n      <td>2024-03-25 07:48:25+00:00</td>\n      <td>1</td>\n      <td>0</td>\n    </tr>\n    <tr>\n      <th>2</th>\n      <td>Working Area</td>\n      <td>0.838542</td>\n      <td>False</td>\n      <td>6.0</td>\n      <td>A1</td>\n      <td>Walk</td>\n      <td>2024-03-25 07:48:26+00:00</td>\n      <td>2</td>\n      <td>0</td>\n    </tr>\n    <tr>\n      <th>3</th>\n      <td>Working Area</td>\n      <td>0.838542</td>\n      <td>False</td>\n      <td>6.0</td>\n      <td>A1</td>\n      <td>Walk</td>\n      <td>2024-03-25 07:48:27+00:00</td>\n      <td>3</td>\n      <td>0</td>\n    </tr>\n    <tr>\n      <th>4</th>\n      <td>Working Area</td>\n      <td>0.838542</td>\n      <td>False</td>\n      <td>6.0</td>\n      <td>A1</td>\n      <td>Walk</td>\n      <td>2024-03-25 07:48:28+00:00</td>\n      <td>4</td>\n      <td>0</td>\n    </tr>\n    <tr>\n      <th>...</th>\n      <td>...</td>\n      <td>...</td>\n      <td>...</td>\n      <td>...</td>\n      <td>...</td>\n      <td>...</td>\n      <td>...</td>\n      <td>...</td>\n      <td>...</td>\n    </tr>\n    <tr>\n      <th>1563</th>\n      <td>Issue Area</td>\n      <td>0.000000</td>\n      <td>False</td>\n      <td>8.0</td>\n      <td>C6</td>\n      <td>Handling</td>\n      <td>2024-03-25 07:54:51+00:00</td>\n      <td>1563</td>\n      <td>3</td>\n    </tr>\n    <tr>\n      <th>1564</th>\n      <td>Issue Area</td>\n      <td>0.000000</td>\n      <td>False</td>\n      <td>6.0</td>\n      <td>C6</td>\n      <td>Stand</td>\n      <td>2024-03-25 07:54:52+00:00</td>\n      <td>1564</td>\n      <td>3</td>\n    </tr>\n    <tr>\n      <th>1565</th>\n      <td>Issue Area</td>\n      <td>0.000000</td>\n      <td>False</td>\n      <td>6.0</td>\n      <td>C6</td>\n      <td>Stand</td>\n      <td>2024-03-25 07:54:53+00:00</td>\n      <td>1565</td>\n      <td>3</td>\n    </tr>\n    <tr>\n      <th>1566</th>\n      <td>Issue Area</td>\n      <td>0.000000</td>\n      <td>False</td>\n      <td>6.0</td>\n      <td>C6</td>\n      <td>Stand</td>\n      <td>2024-03-25 07:54:54+00:00</td>\n      <td>1566</td>\n      <td>3</td>\n    </tr>\n    <tr>\n      <th>1567</th>\n      <td>Issue Area</td>\n      <td>0.000000</td>\n      <td>False</td>\n      <td>8.0</td>\n      <td>C6</td>\n      <td>Handling</td>\n      <td>2024-03-25 07:54:55+00:00</td>\n      <td>1567</td>\n      <td>3</td>\n    </tr>\n  </tbody>\n</table>\n<p>1568 rows × 9 columns</p>\n</div>"
     },
     "execution_count": 8,
     "metadata": {},
     "output_type": "execute_result"
    }
   ],
   "source": [
    "dataframe = pm4py.format_dataframe(dataframe,case_id ='resource',activity_key='activity',timestamp_key='timestamp')\n",
    "dataframe = dataframe.drop(columns=['timestamp','resource','activity'])\n",
    "\n",
    "dataframe"
   ],
   "metadata": {
    "collapsed": false,
    "ExecuteTime": {
     "end_time": "2024-11-30T19:45:27.594292Z",
     "start_time": "2024-11-30T19:45:27.549239Z"
    }
   },
   "id": "eb5a07cdc92000c7",
   "execution_count": 8
  },
  {
   "cell_type": "code",
   "outputs": [
    {
     "data": {
      "text/plain": "     ocel:eid ocel:activity            ocel:timestamp  \\\n0           0          Walk 2024-03-25 07:48:24+00:00   \n1           1          Walk 2024-03-25 07:48:25+00:00   \n2           2          Walk 2024-03-25 07:48:26+00:00   \n3           3          Walk 2024-03-25 07:48:27+00:00   \n4           4          Walk 2024-03-25 07:48:28+00:00   \n...       ...           ...                       ...   \n1563     1563      Handling 2024-03-25 07:54:51+00:00   \n1564     1564         Stand 2024-03-25 07:54:52+00:00   \n1565     1565         Stand 2024-03-25 07:54:53+00:00   \n1566     1566         Stand 2024-03-25 07:54:54+00:00   \n1567     1567      Handling 2024-03-25 07:54:55+00:00   \n\n     ocel:type:case:concept:name  \n0                           [A1]  \n1                           [A1]  \n2                           [A1]  \n3                           [A1]  \n4                           [A1]  \n...                          ...  \n1563                        [C6]  \n1564                        [C6]  \n1565                        [C6]  \n1566                        [C6]  \n1567                        [C6]  \n\n[1568 rows x 4 columns]",
      "text/html": "<div>\n<style scoped>\n    .dataframe tbody tr th:only-of-type {\n        vertical-align: middle;\n    }\n\n    .dataframe tbody tr th {\n        vertical-align: top;\n    }\n\n    .dataframe thead th {\n        text-align: right;\n    }\n</style>\n<table border=\"1\" class=\"dataframe\">\n  <thead>\n    <tr style=\"text-align: right;\">\n      <th></th>\n      <th>ocel:eid</th>\n      <th>ocel:activity</th>\n      <th>ocel:timestamp</th>\n      <th>ocel:type:case:concept:name</th>\n    </tr>\n  </thead>\n  <tbody>\n    <tr>\n      <th>0</th>\n      <td>0</td>\n      <td>Walk</td>\n      <td>2024-03-25 07:48:24+00:00</td>\n      <td>[A1]</td>\n    </tr>\n    <tr>\n      <th>1</th>\n      <td>1</td>\n      <td>Walk</td>\n      <td>2024-03-25 07:48:25+00:00</td>\n      <td>[A1]</td>\n    </tr>\n    <tr>\n      <th>2</th>\n      <td>2</td>\n      <td>Walk</td>\n      <td>2024-03-25 07:48:26+00:00</td>\n      <td>[A1]</td>\n    </tr>\n    <tr>\n      <th>3</th>\n      <td>3</td>\n      <td>Walk</td>\n      <td>2024-03-25 07:48:27+00:00</td>\n      <td>[A1]</td>\n    </tr>\n    <tr>\n      <th>4</th>\n      <td>4</td>\n      <td>Walk</td>\n      <td>2024-03-25 07:48:28+00:00</td>\n      <td>[A1]</td>\n    </tr>\n    <tr>\n      <th>...</th>\n      <td>...</td>\n      <td>...</td>\n      <td>...</td>\n      <td>...</td>\n    </tr>\n    <tr>\n      <th>1563</th>\n      <td>1563</td>\n      <td>Handling</td>\n      <td>2024-03-25 07:54:51+00:00</td>\n      <td>[C6]</td>\n    </tr>\n    <tr>\n      <th>1564</th>\n      <td>1564</td>\n      <td>Stand</td>\n      <td>2024-03-25 07:54:52+00:00</td>\n      <td>[C6]</td>\n    </tr>\n    <tr>\n      <th>1565</th>\n      <td>1565</td>\n      <td>Stand</td>\n      <td>2024-03-25 07:54:53+00:00</td>\n      <td>[C6]</td>\n    </tr>\n    <tr>\n      <th>1566</th>\n      <td>1566</td>\n      <td>Stand</td>\n      <td>2024-03-25 07:54:54+00:00</td>\n      <td>[C6]</td>\n    </tr>\n    <tr>\n      <th>1567</th>\n      <td>1567</td>\n      <td>Handling</td>\n      <td>2024-03-25 07:54:55+00:00</td>\n      <td>[C6]</td>\n    </tr>\n  </tbody>\n</table>\n<p>1568 rows × 4 columns</p>\n</div>"
     },
     "execution_count": 11,
     "metadata": {},
     "output_type": "execute_result"
    }
   ],
   "source": [
    "ocel = pm4py.convert.convert_log_to_ocel(dataframe,activity_column='concept:name',timestamp_column='time:timestamp',object_types=['case:concept:name'])\n",
    "ocel.get_extended_table()"
   ],
   "metadata": {
    "collapsed": false,
    "ExecuteTime": {
     "end_time": "2024-11-30T19:47:01.299627Z",
     "start_time": "2024-11-30T19:47:01.197909Z"
    }
   },
   "id": "e46ee6508d1b1c97",
   "execution_count": 11
  }
 ],
 "metadata": {
  "kernelspec": {
   "display_name": "Python 3",
   "language": "python",
   "name": "python3"
  },
  "language_info": {
   "codemirror_mode": {
    "name": "ipython",
    "version": 2
   },
   "file_extension": ".py",
   "mimetype": "text/x-python",
   "name": "python",
   "nbconvert_exporter": "python",
   "pygments_lexer": "ipython2",
   "version": "2.7.6"
  }
 },
 "nbformat": 4,
 "nbformat_minor": 5
}
