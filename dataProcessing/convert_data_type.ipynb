{
 "cells": [
  {
   "cell_type": "code",
   "outputs": [],
   "source": [
    "import pm4py\n",
    "\n",
    "# function for converting scene_video\n",
    "def convert_data_type(count:str, object_type:str):\n",
    "    # Load data\n",
    "    ocel_path = f\"../scene{count}/scene{count}_video_ocel.json\" \n",
    "\n",
    "    # Read data\n",
    "    ocel = pm4py.read_ocel_json(ocel_path)\n",
    "\n",
    "    # Convert OCEL-Data to Event Logs \n",
    "    event_log = pm4py.ocel_flattening(ocel,object_type)\n",
    "\n",
    "    # Write XES file\n",
    "    xes_output_path = f\"../dataProcessing/sceneVideoXES/scene{count}_video_xes.xes\"  \n",
    "    pm4py.write_xes(event_log, xes_output_path)\n",
    "    \n",
    "    print(f\"XES Datei gespeichert unter: {xes_output_path}\")\n",
    "\n",
    "convert_data_type(\"16\",\"item_asset\")"
   ],
   "metadata": {
    "collapsed": false
   },
   "id": "4a1c03b37ee6bb6b",
   "execution_count": null
  },
  {
   "cell_type": "code",
   "outputs": [],
   "source": [
    "import pm4py\n",
    "\n",
    "ocel_path = \"../global/itam_ocel.jsonl\"\n",
    "ocel = pm4py.read_ocel_json(ocel_path)\n",
    "\n",
    "# convert itam only\n",
    "def convert(object_type:str):\n",
    "    event_log = pm4py.ocel_flattening(ocel, object_type)\n",
    "    xes_output_path = \"../dataProcessing/itam_ocel_xes.xes\"\n",
    "    pm4py.write_xes(event_log, xes_output_path)\n",
    "    print(f\"XES Datei gespeichert unter: {xes_output_path}\")\n",
    "    \n",
    "convert('item_asset')\n",
    "    "
   ],
   "metadata": {
    "collapsed": false
   },
   "id": "7668b39dbf1199ea",
   "execution_count": null
  }
 ],
 "metadata": {
  "kernelspec": {
   "display_name": "Python 3",
   "language": "python",
   "name": "python3"
  },
  "language_info": {
   "codemirror_mode": {
    "name": "ipython",
    "version": 2
   },
   "file_extension": ".py",
   "mimetype": "text/x-python",
   "name": "python",
   "nbconvert_exporter": "python",
   "pygments_lexer": "ipython2",
   "version": "2.7.6"
  }
 },
 "nbformat": 4,
 "nbformat_minor": 5
}
