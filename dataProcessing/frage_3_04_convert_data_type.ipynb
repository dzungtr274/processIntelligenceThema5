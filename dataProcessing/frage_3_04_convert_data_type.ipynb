{
 "cells": [
  {
   "cell_type": "code",
   "execution_count": null,
   "id": "bfde059b",
   "metadata": {},
   "outputs": [],
   "source": [
    "#All Imports are run in this block\n",
    "#Run once every time you restart jupyter kernel\n",
    "import pm4py\n",
    "# import pandas as pd"
   ]
  },
  {
   "cell_type": "code",
   "execution_count": null,
   "id": "4a1c03b37ee6bb6b",
   "metadata": {
    "collapsed": false
   },
   "outputs": [],
   "source": [
    "### Obsolete ###\n",
    "# function for converting scene_video\n",
    "def convert_data_type(count:str, object_type:str):\n",
    "    # Load data\n",
    "    ocel_path = f\"../scene{count}/scene{count}_video_ocel.json\" \n",
    "\n",
    "    # Read data\n",
    "    ocel = pm4py.read_ocel_json(ocel_path)\n",
    "\n",
    "    # Convert OCEL-Data to Event Logs \n",
    "    event_log = pm4py.ocel_flattening(ocel,object_type)\n",
    "\n",
    "    # Write XES file\n",
    "    xes_output_path = f\"../dataProcessing/sceneVideoXES/scene{count}_video_xes.xes\"  \n",
    "    pm4py.write_xes(event_log, xes_output_path)\n",
    "    \n",
    "    print(f\"XES Datei gespeichert unter: {xes_output_path}\")\n",
    "\n",
    "convert_data_type(\"15\",\"item_asset\")"
   ]
  },
  {
   "cell_type": "code",
   "execution_count": 8,
   "id": "7668b39dbf1199ea",
   "metadata": {
    "collapsed": false,
    "ExecuteTime": {
     "end_time": "2024-12-11T21:05:17.670920Z",
     "start_time": "2024-12-11T21:05:17.413437Z"
    }
   },
   "outputs": [
    {
     "data": {
      "text/plain": "exporting log, completed traces ::   0%|          | 0/10 [00:00<?, ?it/s]",
      "application/vnd.jupyter.widget-view+json": {
       "version_major": 2,
       "version_minor": 0,
       "model_id": "236b981ad9b7473fa9c3517d207a8f9f"
      }
     },
     "metadata": {},
     "output_type": "display_data"
    },
    {
     "name": "stdout",
     "output_type": "stream",
     "text": [
      "XES Datei gespeichert unter: ../dataProcessing/itamSceneMovCombinedXES/itam_scene_mov_combined_adtc.xes\n"
     ]
    }
   ],
   "source": [
    "## Convert itam_scene_mov_combined in XES for variants check\n",
    "\n",
    "import pm4py\n",
    "\n",
    "def convert(object_type:str, instance:str):\n",
    "    # read ocel\n",
    "    ocel_path = f\"../dataProcessing/itamSceneMovCombinedOCEL/itam_scene_mov_combined_{instance}.jsonocel\"\n",
    "    ocel = pm4py.read_ocel_json(ocel_path)  \n",
    "    \n",
    "    # convert to log\n",
    "    event_log = pm4py.ocel_flattening(ocel, object_type)\n",
    "    xes_output_path = f\"../dataProcessing/itamSceneMovCombinedXES/itam_scene_mov_combined_{instance}.xes\"\n",
    "    # write log\n",
    "    pm4py.write_xes(event_log, xes_output_path)\n",
    "    print(f\"XES Datei gespeichert unter: {xes_output_path}\")\n",
    "    \n",
    "convert('case:concept:name', 'adtc')"
   ]
  },
  {
   "cell_type": "code",
   "outputs": [
    {
     "data": {
      "text/plain": "exporting log, completed traces ::   0%|          | 0/6 [00:00<?, ?it/s]",
      "application/vnd.jupyter.widget-view+json": {
       "version_major": 2,
       "version_minor": 0,
       "model_id": "45be44a18cef4973bf5ae1799fb572e6"
      }
     },
     "metadata": {},
     "output_type": "display_data"
    },
    {
     "name": "stdout",
     "output_type": "stream",
     "text": [
      "XES Datei gespeichert unter: ../dataProcessing/itam.xes\n"
     ]
    }
   ],
   "source": [
    "## ITAM\n",
    "## Convert itam_scene_mov_combined in XES for variants check\n",
    "\n",
    "import pm4py\n",
    "\n",
    "def convert(object_type:str):\n",
    "    ocel_path = \"../global/itam_ocel.jsonl\"\n",
    "    ocel = pm4py.read_ocel_json(ocel_path)  \n",
    "    \n",
    "    event_log = pm4py.ocel_flattening(ocel, object_type)\n",
    "    xes_output_path = f\"../dataProcessing/itam.xes\"\n",
    "    pm4py.write_xes(event_log, xes_output_path)\n",
    "    print(f\"XES Datei gespeichert unter: {xes_output_path}\")\n",
    "    \n",
    "convert('admin_user')"
   ],
   "metadata": {
    "collapsed": false,
    "ExecuteTime": {
     "end_time": "2024-12-14T16:16:59.478582Z",
     "start_time": "2024-12-14T16:16:54.044482Z"
    }
   },
   "id": "4eac88bca3c4b09d",
   "execution_count": 1
  }
 ],
 "metadata": {
  "kernelspec": {
   "display_name": "Python 3",
   "language": "python",
   "name": "python3"
  },
  "language_info": {
   "codemirror_mode": {
    "name": "ipython",
    "version": 3
   },
   "file_extension": ".py",
   "mimetype": "text/x-python",
   "name": "python",
   "nbconvert_exporter": "python",
   "pygments_lexer": "ipython3",
   "version": "3.8.5"
  }
 },
 "nbformat": 4,
 "nbformat_minor": 5
}
