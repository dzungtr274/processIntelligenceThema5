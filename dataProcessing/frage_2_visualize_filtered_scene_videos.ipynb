{
 "cells": [
  {
   "cell_type": "code",
   "execution_count": null,
   "id": "initial_id",
   "metadata": {
    "collapsed": true
   },
   "outputs": [],
   "source": [
    "import pm4py\n",
    "\n",
    "## ID001: Asset disbursement to clients\n",
    "## ID002: Asset disbursement to clients\n",
    "## ID003: Asset disbursement to clients\n",
    "\n",
    "video1_log_ocel = pm4py.read_ocel_json('../scene01/scene01_video_ocel.json')\n",
    "print(video1_log_ocel)\n",
    "\n",
    "# Modern ocel-dfg\n",
    "ocel01 = pm4py.ocel.discover_ocdfg(video1_log_ocel)\n",
    "pm4py.vis.view_ocdfg(ocel01)  \n",
    "\n",
    "# no filter, write for docu purpose\n",
    "ocel_path = '../dataProcessing/filteredSceneVideoOCEL/filtered_scene01_video_ocel'\n",
    "pm4py.write_ocel_json(video1_log_ocel,ocel_path)"
   ]
  },
  {
   "cell_type": "code",
   "outputs": [],
   "source": [
    "## ID004: New asset inventory\n",
    "## ID005: New asset inventory\n",
    "\n",
    "video2_log_ocel = pm4py.read_ocel_json('../scene02/scene02_video_ocel.json')\n",
    "print(video2_log_ocel)\n",
    "\n",
    "ocel02 = pm4py.ocel.discover_ocdfg(video2_log_ocel)\n",
    "pm4py.vis.view_ocdfg(ocel02)  \n",
    "\n",
    "# no filter, write for docu purpose\n",
    "ocel_path = '../dataProcessing/filteredSceneVideoOCEL/filtered_scene02_video_ocel'\n",
    "pm4py.write_ocel_json(video2_log_ocel,ocel_path)"
   ],
   "metadata": {
    "collapsed": false
   },
   "id": "73df0d9c40ebd874",
   "execution_count": null
  },
  {
   "cell_type": "code",
   "outputs": [],
   "source": [
    "## ID006: New asset inventory\n",
    "## ID008: Self-service asset check-out\n",
    "## ID009: Self-service asset check-out\n",
    "\n",
    "video3_log_ocel = pm4py.read_ocel_json('../scene03/scene03_video_ocel.json')\n",
    "print(video3_log_ocel)\n",
    "\n",
    "filtered_ocel03 = pm4py.filtering.filter_ocel_objects(video3_log_ocel, object_identifiers=['L1','L3','C1'],positive=False,level=2)\n",
    "ocel03 = pm4py.ocel.discover_ocdfg(filtered_ocel03)\n",
    "pm4py.vis.view_ocdfg(ocel03)  \n",
    "\n",
    "ocel_path = '../dataProcessing/filteredSceneVideoOCEL/filtered_scene03_video_ocel'\n",
    "pm4py.write_ocel_json(filtered_ocel03,ocel_path)"
   ],
   "metadata": {
    "collapsed": false
   },
   "id": "6ca4b5f5f25abf4c",
   "execution_count": null
  },
  {
   "cell_type": "code",
   "outputs": [],
   "source": [
    "## ID010: New asset inventory\n",
    "## ID011: New asset inventory\n",
    "\n",
    "video4_log_ocel = pm4py.read_ocel_json('../scene04/scene04_video_ocel.json')\n",
    "print(video4_log_ocel)\n",
    "\n",
    "filtered_ocel04 = pm4py.filtering.filter_ocel_objects(video4_log_ocel, object_identifiers=['M1', 'C2'],positive=False,level=2)\n",
    "ocel04 = pm4py.ocel.discover_ocdfg(filtered_ocel04)\n",
    "pm4py.vis.view_ocdfg(ocel04)  \n",
    "\n",
    "ocel_path = '../dataProcessing/filteredSceneVideoOCEL/filtered_scene04_video_ocel'\n",
    "pm4py.write_ocel_json(filtered_ocel04,ocel_path)"
   ],
   "metadata": {
    "collapsed": false
   },
   "id": "225d549b6f6694c2",
   "execution_count": null
  },
  {
   "cell_type": "code",
   "outputs": [],
   "source": [
    "## ID014: Self-service asset check-out\n",
    "\n",
    "video5_log_ocel = pm4py.read_ocel_json('../scene05/scene05_video_ocel.json')\n",
    "print(video5_log_ocel)\n",
    "\n",
    "filtered_ocel05 = pm4py.filtering.filter_ocel_objects(video5_log_ocel, object_identifiers=['L1'],positive=False,level=2)\n",
    "ocel05 = pm4py.ocel.discover_ocdfg(filtered_ocel05)\n",
    "pm4py.vis.view_ocdfg(ocel05)  \n",
    "\n",
    "ocel_path = '../dataProcessing/filteredSceneVideoOCEL/filtered_scene05_video_ocel'\n",
    "pm4py.write_ocel_json(filtered_ocel05,ocel_path)"
   ],
   "metadata": {
    "collapsed": false
   },
   "id": "ab2b190d2357a1ba",
   "execution_count": null
  },
  {
   "cell_type": "code",
   "outputs": [],
   "source": [
    "## ID015: New asset inventory\n",
    "## ID016: Self-service asset check-out\n",
    "## ID018: Self-service asset check-out\n",
    "\n",
    "video6_log_ocel = pm4py.read_ocel_json('../scene06/scene06_video_ocel.json')\n",
    "print(video6_log_ocel)\n",
    "\n",
    "filtered_ocel06 = pm4py.filtering.filter_ocel_objects(video6_log_ocel, object_identifiers=['C1', 'L3', 'P2'],positive=False,level=2)\n",
    "ocel06 = pm4py.ocel.discover_ocdfg(filtered_ocel06)\n",
    "pm4py.vis.view_ocdfg(ocel06)  \n",
    "\n",
    "ocel_path = '../dataProcessing/filteredSceneVideoOCEL/filtered_scene06_video_ocel'\n",
    "pm4py.write_ocel_json(filtered_ocel06,ocel_path)"
   ],
   "metadata": {
    "collapsed": false
   },
   "id": "32325e4739747368",
   "execution_count": null
  },
  {
   "cell_type": "code",
   "outputs": [],
   "source": [
    "## ID019: New asset inventory\n",
    "## ID020: New asset inventory\n",
    "## ID021: Asset disbursement to clients\n",
    "\n",
    "video7_log_ocel = pm4py.read_ocel_json('../scene07/scene07_video_ocel.json')\n",
    "print(video7_log_ocel)\n",
    "\n",
    "\n",
    "ocel07 = pm4py.ocel.discover_ocdfg(video7_log_ocel)\n",
    "pm4py.vis.view_ocdfg(ocel07)\n",
    "\n",
    "# no filter, write for docu purpose\n",
    "ocel_path = '../dataProcessing/filteredSceneVideoOCEL/filtered_scene07_video_ocel'\n",
    "pm4py.write_ocel_json(video7_log_ocel,ocel_path)"
   ],
   "metadata": {
    "collapsed": false
   },
   "id": "d010f22c755c7de1",
   "execution_count": null
  },
  {
   "cell_type": "code",
   "outputs": [],
   "source": [
    "## Exclude this case, cause processes not relevant to Thema 5\n",
    "\n",
    "video8_log_ocel = pm4py.read_ocel_json('../scene08/scene08_video_ocel.json')\n",
    "print(video8_log_ocel)\n",
    "\n",
    "ocel08 = pm4py.ocel.discover_ocdfg(video8_log_ocel)\n",
    "pm4py.vis.view_ocdfg(ocel08)  "
   ],
   "metadata": {
    "collapsed": false
   },
   "id": "5a813f94bf3d6e71",
   "execution_count": null
  },
  {
   "cell_type": "code",
   "outputs": [],
   "source": [
    "## ID025: Asset disbursement to clients\n",
    "## ID026: Asset disbursement to clients\n",
    "## ID027: Asset disbursement to clients\n",
    "\n",
    "video9_log_ocel = pm4py.read_ocel_json('../scene09/scene09_video_ocel.json')\n",
    "print(video9_log_ocel)\n",
    "\n",
    "ocel09 = pm4py.ocel.discover_ocdfg(video9_log_ocel)\n",
    "pm4py.vis.view_ocdfg(ocel09)  \n",
    "\n",
    "# no filter, write for docu purpose\n",
    "ocel_path = '../dataProcessing/filteredSceneVideoOCEL/filtered_scene09_video_ocel'\n",
    "pm4py.write_ocel_json(video9_log_ocel,ocel_path)"
   ],
   "metadata": {
    "collapsed": false
   },
   "id": "39fbba80e74d9448",
   "execution_count": null
  },
  {
   "cell_type": "code",
   "outputs": [],
   "source": [
    "## ID028: New asset inventory\n",
    "## ID029: New asset inventory\n",
    "\n",
    "video10_log_ocel = pm4py.read_ocel_json('../scene10/scene10_video_ocel.json')\n",
    "print(video10_log_ocel)\n",
    "\n",
    "filtered_ocel10 = pm4py.filtering.filter_ocel_objects(video10_log_ocel, object_identifiers=['K1'],positive=False,level=2)\n",
    "ocel10 = pm4py.ocel.discover_ocdfg(filtered_ocel10)\n",
    "pm4py.vis.view_ocdfg(ocel10)  \n",
    "\n",
    "ocel_path = '../dataProcessing/filteredSceneVideoOCEL/filtered_scene10_video_ocel'\n",
    "pm4py.write_ocel_json(filtered_ocel10,ocel_path)"
   ],
   "metadata": {
    "collapsed": false
   },
   "id": "8fdae2dd5e25e817",
   "execution_count": null
  },
  {
   "cell_type": "code",
   "outputs": [],
   "source": [
    "## ID033: Self-service asset check-out\n",
    "## ID034: Self-service asset check-out\n",
    "\n",
    "video11_log_ocel = pm4py.read_ocel_json('../scene11/scene11_video_ocel.json')\n",
    "print(video11_log_ocel)\n",
    "\n",
    "filtered_ocel11 = pm4py.filtering.filter_ocel_objects(video11_log_ocel, object_identifiers=['L1', 'L4'],positive=False,level=2)\n",
    "ocel11 = pm4py.ocel.discover_ocdfg(filtered_ocel11)\n",
    "pm4py.vis.view_ocdfg(ocel11)  \n",
    "\n",
    "ocel_path = '../dataProcessing/filteredSceneVideoOCEL/filtered_scene11_video_ocel'\n",
    "pm4py.write_ocel_json(filtered_ocel11,ocel_path)"
   ],
   "metadata": {
    "collapsed": false
   },
   "id": "df0001451bfee2c7",
   "execution_count": null
  },
  {
   "cell_type": "code",
   "outputs": [],
   "source": [
    "## ID035: Asset disbursement to clients\n",
    "## ID036: Asset disbursement to clients\n",
    "\n",
    "video12_log_ocel = pm4py.read_ocel_json('../scene12/scene12_video_ocel.json')\n",
    "print(video12_log_ocel)\n",
    "\n",
    "filtered_ocel12 = pm4py.filtering.filter_ocel_objects(video12_log_ocel, object_identifiers=['H5', 'H7'],positive=False,level=2)\n",
    "ocel12 = pm4py.ocel.discover_ocdfg(filtered_ocel12)\n",
    "pm4py.vis.view_ocdfg(ocel12)  \n",
    "\n",
    "ocel_path = '../dataProcessing/filteredSceneVideoOCEL/filtered_scene12_video_ocel'\n",
    "pm4py.write_ocel_json(filtered_ocel12,ocel_path)"
   ],
   "metadata": {
    "collapsed": false
   },
   "id": "335192aac869a58d",
   "execution_count": null
  },
  {
   "cell_type": "code",
   "outputs": [],
   "source": [
    "## ID039: Asset disbursement to clients\n",
    "## ID040: Asset disbursement to clients\n",
    "\n",
    "video13_log_ocel = pm4py.read_ocel_json('../scene13/scene13_video_ocel.json')\n",
    "print(video13_log_ocel)\n",
    "\n",
    "filtered_ocel13 = pm4py.filtering.filter_ocel_objects(video13_log_ocel, object_identifiers=['L1', 'L3'],positive=False,level=2)\n",
    "ocel13 = pm4py.ocel.discover_ocdfg(filtered_ocel13)\n",
    "pm4py.vis.view_ocdfg(ocel13)  \n",
    "\n",
    "ocel_path = '../dataProcessing/filteredSceneVideoOCEL/filtered_scene13_video_ocel'\n",
    "pm4py.write_ocel_json(filtered_ocel13,ocel_path)"
   ],
   "metadata": {
    "collapsed": false
   },
   "id": "5b06a1903451f312",
   "execution_count": null
  },
  {
   "cell_type": "code",
   "outputs": [],
   "source": [
    "## ID044: Self-service asset check-out\n",
    "\n",
    "video14_log_ocel = pm4py.read_ocel_json('../scene14/scene14_video_ocel.json')\n",
    "print(video14_log_ocel)\n",
    "\n",
    "filtered_ocel14 = pm4py.filtering.filter_ocel_objects(video14_log_ocel, object_identifiers=['P1', 'P9', 'L3'],positive=False,level=2)\n",
    "ocel14 = pm4py.ocel.discover_ocdfg(filtered_ocel14)\n",
    "pm4py.vis.view_ocdfg(ocel14)  \n",
    "\n",
    "ocel_path = '../dataProcessing/filteredSceneVideoOCEL/filtered_scene14_video_ocel'\n",
    "pm4py.write_ocel_json(filtered_ocel14,ocel_path)"
   ],
   "metadata": {
    "collapsed": false
   },
   "id": "c388f3a1bc553799",
   "execution_count": null
  },
  {
   "cell_type": "code",
   "outputs": [],
   "source": [
    "## ID045: Asset disbursement to clients\n",
    "## ID047: Asset disbursement to clients\n",
    "\n",
    "video15_log_ocel = pm4py.read_ocel_json('../scene15/scene15_video_ocel.json')\n",
    "print(video15_log_ocel)\n",
    "\n",
    "filtered_ocel15 = pm4py.filtering.filter_ocel_objects(video15_log_ocel, object_identifiers=['P1', 'T2', 'C2'],positive=False,level=2)\n",
    "ocel15 = pm4py.ocel.discover_ocdfg(filtered_ocel15)\n",
    "pm4py.vis.view_ocdfg(ocel15)  \n",
    "\n",
    "ocel_path = '../dataProcessing/filteredSceneVideoOCEL/filtered_scene15_video_ocel'\n",
    "pm4py.write_ocel_json(filtered_ocel15,ocel_path) "
   ],
   "metadata": {
    "collapsed": false
   },
   "id": "b89ed183dc299bf",
   "execution_count": null
  }
 ],
 "metadata": {
  "kernelspec": {
   "display_name": "Python 3",
   "language": "python",
   "name": "python3"
  },
  "language_info": {
   "codemirror_mode": {
    "name": "ipython",
    "version": 2
   },
   "file_extension": ".py",
   "mimetype": "text/x-python",
   "name": "python",
   "nbconvert_exporter": "python",
   "pygments_lexer": "ipython2",
   "version": "2.7.6"
  }
 },
 "nbformat": 4,
 "nbformat_minor": 5
}
