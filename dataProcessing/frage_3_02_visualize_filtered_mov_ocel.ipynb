{
 "cells": [
  {
   "cell_type": "code",
   "outputs": [],
   "source": [
    "import pm4py\n",
    "\n",
    "def vis_write_ocel(scene: str, filter: bool, keep_object: bool, filter_timestamp: bool, process_instance: str, objects: list, min_timest: str, max_timest: str):\n",
    "\n",
    "    mov_log_ocel = pm4py.read_ocel_json(f'../dataProcessing/sceneMovOCEL/scene{scene}_mov.jsonocel')\n",
    "\n",
    "    if not filter:\n",
    "        # Visualize OCEL without filtering\n",
    "        ocel_vis = pm4py.ocel.discover_ocdfg(mov_log_ocel)\n",
    "        pm4py.vis.view_ocdfg(ocel_vis)\n",
    "        \n",
    "        print(mov_log_ocel)\n",
    "\n",
    "        # Write OCEL to file\n",
    "        # ocel_path = f'../dataProcessing/filteredMovOCEL/filtered_mov{scene}_{process_instance}.jsonocel'\n",
    "        # pm4py.write_ocel_json(mov_log_ocel, ocel_path)\n",
    "        \n",
    "    else:\n",
    "        # Apply object filtering\n",
    "        filtered_ocel = pm4py.filtering.filter_ocel_objects(\n",
    "            mov_log_ocel, object_identifiers=objects, positive=keep_object, level=2\n",
    "        )\n",
    "        \n",
    "        if filter_timestamp:\n",
    "            # Apply timestamp filtering\n",
    "            filtered_ocel_timestamp = pm4py.filtering.filter_ocel_events_timestamp(\n",
    "                filtered_ocel, min_timest=min_timest, max_timest=max_timest, timestamp_key='ocel:timestamp'\n",
    "            )\n",
    "            ocel_vis = pm4py.ocel.discover_ocdfg(filtered_ocel_timestamp)\n",
    "            pm4py.vis.view_ocdfg(ocel_vis)\n",
    "        \n",
    "            print(filtered_ocel_timestamp)\n",
    "\n",
    "            # Write OCEL to file\n",
    "            # ocel_path = f'../dataProcessing/filteredMovOCEL/filtered_mov{scene}_{process_instance}.jsonocel'\n",
    "            # pm4py.write_ocel_json(filtered_ocel_timestamp, ocel_path)\n",
    "        \n",
    "        else:\n",
    "            # Visualize filtered OCEL\n",
    "            ocel_vis = pm4py.ocel.discover_ocdfg(filtered_ocel)\n",
    "            pm4py.vis.view_ocdfg(ocel_vis)\n",
    "        \n",
    "            print(filtered_ocel)\n",
    "\n",
    "            # Write OCEL to file\n",
    "            # ocel_path = f'../dataProcessing/filteredMovOCEL/filtered_mov{scene}_{process_instance}.jsonocel'\n",
    "            # pm4py.write_ocel_json(filtered_ocel, ocel_path)"
   ],
   "metadata": {
    "collapsed": false
   },
   "id": "dec51b8c911f706d",
   "execution_count": null
  },
  {
   "cell_type": "code",
   "outputs": [],
   "source": [
    "import json\n",
    "import pm4py\n",
    "\n",
    "import json\n",
    "\n",
    "def filter_ocel_by_objects(input_file, output_file, object_ids):\n",
    "    # Load OCEL\n",
    "    with open(input_file, \"r\") as f:\n",
    "        ocel_data = json.load(f)\n",
    "    \n",
    "    # Filter Event based on object_ids\n",
    "    filtered_events = {\n",
    "        event_id: event\n",
    "        for event_id, event in ocel_data[\"ocel:events\"].items()\n",
    "        if any(obj_id in event.get(\"ocel:omap\", []) for obj_id in object_ids)\n",
    "    }\n",
    "\n",
    "    # Update filtered events in OCEL\n",
    "    ocel_data[\"ocel:events\"] = filtered_events\n",
    "\n",
    "    # Find referenced objects\n",
    "    referenced_objects = set()\n",
    "    for event in filtered_events.values():\n",
    "        referenced_objects.update(event.get(\"ocel:omap\", []))\n",
    "    \n",
    "    # Filtered objects based on the referenced ids\n",
    "    filtered_objects = {\n",
    "        obj_id: obj\n",
    "        for obj_id, obj in ocel_data[\"ocel:objects\"].items()\n",
    "        if obj_id in referenced_objects\n",
    "    }\n",
    "    ocel_data[\"ocel:objects\"] = filtered_objects\n",
    "\n",
    "    # Save filtered OCEL\n",
    "    with open(output_file, \"w\") as f:\n",
    "        json.dump(ocel_data, f, indent=4)\n",
    "    \n",
    "    print(f\"Gefiltertes OCEL wurde in {output_file} gespeichert.\")"
   ],
   "metadata": {
    "collapsed": false
   },
   "id": "f96e39d6dcffc7dd",
   "execution_count": null
  },
  {
   "cell_type": "code",
   "outputs": [],
   "source": [
    "vis_write_ocel(scene='01', filter=False, keep_object=False, filter_timestamp=False, process_instance='adtc', objects=[], min_timest='', max_timest='')"
   ],
   "metadata": {
    "collapsed": false
   },
   "id": "c47699261e1198b7",
   "execution_count": null
  },
  {
   "cell_type": "code",
   "outputs": [],
   "source": [
    "vis_write_ocel(scene='02', filter=False, keep_object=False, filter_timestamp=False, process_instance='nai', objects=[], min_timest='', max_timest='')"
   ],
   "metadata": {
    "collapsed": false
   },
   "id": "3c162b3184537859",
   "execution_count": null
  },
  {
   "cell_type": "code",
   "outputs": [],
   "source": [
    "vis_write_ocel(scene='03', filter=True, keep_object=True, filter_timestamp=False, process_instance='nai', objects=['A1'],min_timest='', max_timest='')"
   ],
   "metadata": {
    "collapsed": false
   },
   "id": "74ca8eee391e37df",
   "execution_count": null
  },
  {
   "cell_type": "code",
   "outputs": [],
   "source": [
    "# delete non-human-assigned activities\n",
    "input_path = \"../dataProcessing/filteredMovOCEL/filtered_mov03_nai.jsonocel\"  # Pfad zur Eingabedatei\n",
    "output_path = \"../dataProcessing/filteredMovOCEL/filtered_mov03_nai.jsonocel\"  # Pfad zur Ausgabedatei\n",
    "filter_ocel_by_objects(input_path, output_path, object_ids=[\"A1\"])\n",
    "\n",
    "ocel_path = pm4py.read_ocel_json(output_path)\n",
    "ocel = pm4py.discover_ocdfg(ocel_path)\n",
    "pm4py.vis.view_ocdfg(ocel)"
   ],
   "metadata": {
    "collapsed": false
   },
   "id": "6cabc510e39fa951",
   "execution_count": null
  },
  {
   "cell_type": "code",
   "outputs": [],
   "source": [
    "vis_write_ocel(scene='03', filter=True, keep_object=True, filter_timestamp=True, process_instance='ssaco', objects=['C5', 'C6'], min_timest='2024-03-25 09:14:13', max_timest='2024-03-25 09:17:09')"
   ],
   "metadata": {
    "collapsed": false
   },
   "id": "9f5cf7f8f03f65e8",
   "execution_count": null
  },
  {
   "cell_type": "code",
   "outputs": [],
   "source": [
    "# delete non-human-assigned activities\n",
    "input_path = \"../dataProcessing/filteredMovOCEL/filtered_mov03_ssaco.jsonocel\"  # Pfad zur Eingabedatei\n",
    "output_path = \"../dataProcessing/filteredMovOCEL/filtered_mov03_ssaco.jsonocel\"  # Pfad zur Ausgabedatei\n",
    "filter_ocel_by_objects(input_path, output_path, object_ids=['C5', 'C6'])\n",
    "\n",
    "ocel_path = pm4py.read_ocel_json(output_path)\n",
    "ocel = pm4py.discover_ocdfg(ocel_path)\n",
    "pm4py.vis.view_ocdfg(ocel)"
   ],
   "metadata": {
    "collapsed": false
   },
   "id": "8f0315b97fcb858d",
   "execution_count": null
  },
  {
   "cell_type": "code",
   "outputs": [],
   "source": [
    "vis_write_ocel(scene='04', filter=True, keep_object=True, filter_timestamp=True, process_instance='nai', objects=['A1'],min_timest='2024-03-25 09:20:11', max_timest='2024-03-25 09:21:33')"
   ],
   "metadata": {
    "collapsed": false
   },
   "id": "c4df3462c299c2f2",
   "execution_count": null
  },
  {
   "cell_type": "code",
   "outputs": [],
   "source": [
    "# delete non-human-assigned activities\n",
    "input_path = \"../dataProcessing/filteredMovOCEL/filtered_mov04_nai.jsonocel\"  # Pfad zur Eingabedatei\n",
    "output_path = \"../dataProcessing/filteredMovOCEL/filtered_mov04_nai.jsonocel\"  # Pfad zur Ausgabedatei\n",
    "filter_ocel_by_objects(input_path, output_path, object_ids=['A1'])\n",
    "\n",
    "ocel_path = pm4py.read_ocel_json(output_path)\n",
    "ocel = pm4py.discover_ocdfg(ocel_path)\n",
    "pm4py.vis.view_ocdfg(ocel)"
   ],
   "metadata": {
    "collapsed": false
   },
   "id": "316bca188bbe4eea",
   "execution_count": null
  },
  {
   "cell_type": "code",
   "outputs": [],
   "source": [
    "vis_write_ocel(scene='05', filter=True, keep_object=False, filter_timestamp=True, process_instance='ssaco', objects='', min_timest='2024-03-25 09:26:10', max_timest='2024-03-25 09:26:30')"
   ],
   "metadata": {
    "collapsed": false
   },
   "id": "3f2705288276fe5",
   "execution_count": null
  },
  {
   "cell_type": "code",
   "outputs": [],
   "source": [
    "# no need to delete non-human-assigned activities\n",
    "# input_path = \"../dataProcessing/filteredMovOCEL/filtered_mov05_ssaco.jsonocel\"  # Pfad zur Eingabedatei\n",
    "# output_path = \"../dataProcessing/filteredMovOCEL/filtered_mov05_ssaco.jsonocel\"  # Pfad zur Ausgabedatei\n",
    "# filter_ocel_by_objects(input_path, output_path, object_ids=['C4', 'A1'])\n",
    "\n",
    "# ocel_path = pm4py.read_ocel_json(output_path)\n",
    "# ocel = pm4py.discover_ocdfg(ocel_path)\n",
    "# pm4py.vis.view_ocdfg(ocel)"
   ],
   "metadata": {
    "collapsed": false
   },
   "id": "2d86e425dcfec3d0",
   "execution_count": null
  },
  {
   "cell_type": "code",
   "outputs": [],
   "source": [
    "vis_write_ocel(scene='06', filter=True, keep_object=True, filter_timestamp=True, process_instance='nai', objects=['A1'], min_timest='2024-03-25 09:30:02', max_timest='2024-03-25 09:34:49')"
   ],
   "metadata": {
    "collapsed": false
   },
   "id": "92ed46c33ceb2a70",
   "execution_count": null
  },
  {
   "cell_type": "code",
   "outputs": [],
   "source": [
    "# delete non-human-assigned activities\n",
    "input_path = \"../dataProcessing/filteredMovOCEL/filtered_mov06_nai.jsonocel\"  # Pfad zur Eingabedatei\n",
    "output_path = \"../dataProcessing/filteredMovOCEL/filtered_mov06_nai.jsonocel\"  # Pfad zur Ausgabedatei\n",
    "filter_ocel_by_objects(input_path, output_path, object_ids=['A1'])\n",
    "\n",
    "ocel_path = pm4py.read_ocel_json(output_path)\n",
    "ocel = pm4py.discover_ocdfg(ocel_path)\n",
    "pm4py.vis.view_ocdfg(ocel)"
   ],
   "metadata": {
    "collapsed": false
   },
   "id": "b5a888d4db75f7a3",
   "execution_count": null
  },
  {
   "cell_type": "code",
   "outputs": [],
   "source": [
    "vis_write_ocel(scene='06', filter=True, keep_object=True, filter_timestamp=False, process_instance='ssaco', objects=['C10', 'C9'], min_timest='', max_timest='')"
   ],
   "metadata": {
    "collapsed": false
   },
   "id": "f25afbda1707ba2c",
   "execution_count": null
  },
  {
   "cell_type": "code",
   "outputs": [],
   "source": [
    "# delete non-human-assigned activities\n",
    "input_path = \"../dataProcessing/filteredMovOCEL/filtered_mov06_ssaco.jsonocel\"  # Pfad zur Eingabedatei\n",
    "output_path = \"../dataProcessing/filteredMovOCEL/filtered_mov06_ssaco.jsonocel\"  # Pfad zur Ausgabedatei\n",
    "filter_ocel_by_objects(input_path, output_path, object_ids=['C10', 'C9'])\n",
    "\n",
    "ocel_path = pm4py.read_ocel_json(output_path)\n",
    "ocel = pm4py.discover_ocdfg(ocel_path)\n",
    "pm4py.vis.view_ocdfg(ocel)"
   ],
   "metadata": {
    "collapsed": false
   },
   "id": "935f60af954b54c6",
   "execution_count": null
  },
  {
   "cell_type": "code",
   "outputs": [],
   "source": [
    "vis_write_ocel(scene='07', filter=True, keep_object=True, filter_timestamp=True, process_instance='nai', objects=['A1','C8'], min_timest='2024-03-25 09:39:50', max_timest='2024-03-25 09:42:48')"
   ],
   "metadata": {
    "collapsed": false
   },
   "id": "3360ac23f3260d4f",
   "execution_count": null
  },
  {
   "cell_type": "code",
   "outputs": [],
   "source": [
    "# no need to delete non-human-assigned activities\n",
    "# input_path = \"../dataProcessing/filteredMovOCEL/filtered_mov07_nai.jsonocel\"  # Pfad zur Eingabedatei\n",
    "# output_path = \"../dataProcessing/filteredMovOCEL/filtered_mov07_nai.jsonocel\"  # Pfad zur Ausgabedatei\n",
    "# filter_ocel_by_objects(input_path, output_path, object_ids=['A1', 'C8'])\n",
    "\n",
    "# ocel_path = pm4py.read_ocel_json(output_path)\n",
    "# ocel = pm4py.discover_ocdfg(ocel_path)\n",
    "# pm4py.vis.view_ocdfg(ocel)"
   ],
   "metadata": {
    "collapsed": false
   },
   "id": "1c3f755047edd744",
   "execution_count": null
  },
  {
   "cell_type": "code",
   "outputs": [],
   "source": [
    "vis_write_ocel(scene='07', filter=True, keep_object=True, filter_timestamp=True, process_instance='adtc', objects=['A1','C8'], min_timest='2024-03-25 09:42:16', max_timest='2024-03-25 09:45:29') "
   ],
   "metadata": {
    "collapsed": false
   },
   "id": "87f8606b20912b60",
   "execution_count": null
  },
  {
   "cell_type": "code",
   "outputs": [],
   "source": [
    "# no need delete non-human-assigned activities\n",
    "# input_path = \"../dataProcessing/filteredMovOCEL/filtered_mov07_adtc.jsonocel\"  # Pfad zur Eingabedatei\n",
    "# output_path = \"../dataProcessing/filteredMovOCEL/filtered_mov07_adtc.jsonocel\"  # Pfad zur Ausgabedatei\n",
    "# filter_ocel_by_objects(input_path, output_path, object_ids=['A1', 'C8'])\n",
    "\n",
    "# ocel_path = pm4py.read_ocel_json(output_path)\n",
    "# ocel = pm4py.discover_ocdfg(ocel_path)\n",
    "# pm4py.vis.view_ocdfg(ocel)"
   ],
   "metadata": {
    "collapsed": false
   },
   "id": "45f76d08451dc0b7",
   "execution_count": null
  },
  {
   "cell_type": "markdown",
   "source": [
    "#### Exclude scene 8, because in which the process instances are not relevant to Thema 5"
   ],
   "metadata": {
    "collapsed": false
   },
   "id": "e226f78f5461b0c2"
  },
  {
   "cell_type": "code",
   "outputs": [],
   "source": [
    "vis_write_ocel(scene='09', filter=False, keep_object=False, filter_timestamp=False, process_instance='adtc', objects='', min_timest='', max_timest='')"
   ],
   "metadata": {
    "collapsed": false
   },
   "id": "56107fbc7b78b3f4",
   "execution_count": null
  },
  {
   "cell_type": "code",
   "outputs": [],
   "source": [
    "# no need to delete non-human-assigned activities\n",
    "# input_path = \"../dataProcessing/filteredMovOCEL/filtered_mov09_adtc.jsonocel\"  # Pfad zur Eingabedatei\n",
    "# output_path = \"../dataProcessing/filteredMovOCEL/filtered_mov09_adtc.jsonocel\"  # Pfad zur Ausgabedatei\n",
    "# filter_ocel_by_objects(input_path, output_path, object_ids=['A2', 'C3', 'C1', 'C2'])\n",
    "\n",
    "# ocel_path = pm4py.read_ocel_json(output_path)\n",
    "# ocel = pm4py.discover_ocdfg(ocel_path)\n",
    "# pm4py.vis.view_ocdfg(ocel)"
   ],
   "metadata": {
    "collapsed": false
   },
   "id": "64e360a84f4a1e1c",
   "execution_count": null
  },
  {
   "cell_type": "code",
   "outputs": [],
   "source": [
    "vis_write_ocel(scene='10', filter=True, keep_object=True, filter_timestamp=True, process_instance='nai', objects=['A2'], min_timest='2024-03-25 10:58:14', max_timest='2024-03-25 11:01:36')"
   ],
   "metadata": {
    "collapsed": false
   },
   "id": "23efb5e0c532224a",
   "execution_count": null
  },
  {
   "cell_type": "code",
   "outputs": [],
   "source": [
    "# delete non-human-assigned activities\n",
    "input_path = \"../dataProcessing/filteredMovOCEL/filtered_mov10_nai.jsonocel\"  # Pfad zur Eingabedatei\n",
    "output_path = \"../dataProcessing/filteredMovOCEL/filtered_mov10_nai.jsonocel\"  # Pfad zur Ausgabedatei\n",
    "filter_ocel_by_objects(input_path, output_path, object_ids=['A2'])\n",
    "\n",
    "ocel_path = pm4py.read_ocel_json(output_path)\n",
    "ocel = pm4py.discover_ocdfg(ocel_path)\n",
    "pm4py.vis.view_ocdfg(ocel)"
   ],
   "metadata": {
    "collapsed": false
   },
   "id": "f5774cb3baf35438",
   "execution_count": null
  },
  {
   "cell_type": "code",
   "outputs": [],
   "source": [
    "vis_write_ocel(scene='11', filter=True, keep_object=True, filter_timestamp=True, process_instance='ssaco1', objects=['C3', 'A2'], min_timest='2024-03-25 11:13:37', max_timest='2024-03-25 11:13:54')\n",
    "\n",
    "vis_write_ocel(scene='11', filter=True, keep_object=True, filter_timestamp=True, process_instance='ssaco2', objects=['C9', 'A2'], min_timest='2024-03-25 11:14:27', max_timest='2024-03-25 11:14:51')\n"
   ],
   "metadata": {
    "collapsed": false
   },
   "id": "f89e0eb06297efd5",
   "execution_count": null
  },
  {
   "cell_type": "code",
   "outputs": [],
   "source": [
    "# delete non-human-assigned activities\n",
    "input_path = \"../dataProcessing/filteredMovOCEL/filtered_mov11_ssaco1.jsonocel\"  # Pfad zur Eingabedatei\n",
    "output_path = \"../dataProcessing/filteredMovOCEL/filtered_mov11_ssaco1.jsonocel\"  # Pfad zur Ausgabedatei\n",
    "filter_ocel_by_objects(input_path, output_path, object_ids=['C3', 'A2'])\n",
    "\n",
    "ocel_path = pm4py.read_ocel_json(output_path)\n",
    "ocel = pm4py.discover_ocdfg(ocel_path)\n",
    "pm4py.vis.view_ocdfg(ocel)"
   ],
   "metadata": {
    "collapsed": false
   },
   "id": "8ad93d64579ecca2",
   "execution_count": null
  },
  {
   "cell_type": "code",
   "outputs": [],
   "source": [
    "# delete non-human-assigned activities\n",
    "input_path = \"../dataProcessing/filteredMovOCEL/filtered_mov11_ssaco2.jsonocel\"  # Pfad zur Eingabedatei\n",
    "output_path = \"../dataProcessing/filteredMovOCEL/filtered_mov11_ssaco2.jsonocel\"  # Pfad zur Ausgabedatei\n",
    "filter_ocel_by_objects(input_path, output_path, object_ids=['C9', 'A2'])\n",
    "\n",
    "ocel_path = pm4py.read_ocel_json(output_path)\n",
    "ocel = pm4py.discover_ocdfg(ocel_path)\n",
    "pm4py.vis.view_ocdfg(ocel)"
   ],
   "metadata": {
    "collapsed": false
   },
   "id": "67df33df26feb01d",
   "execution_count": null
  },
  {
   "cell_type": "code",
   "outputs": [],
   "source": [
    "vis_write_ocel(scene='12', filter=True, keep_object=True, filter_timestamp=True, process_instance='adtc', objects=['C4', 'A2', 'C5'], min_timest='2024-03-25 11:19:41', max_timest='2024-03-25 11:23:35')"
   ],
   "metadata": {
    "collapsed": false
   },
   "id": "177d590eb4f880ca",
   "execution_count": null
  },
  {
   "cell_type": "code",
   "outputs": [],
   "source": [
    "# delete non-human-assigned activities\n",
    "input_path = \"../dataProcessing/filteredMovOCEL/filtered_mov12_adtc.jsonocel\"  # Pfad zur Eingabedatei\n",
    "output_path = \"../dataProcessing/filteredMovOCEL/filtered_mov12_adtc.jsonocel\"  # Pfad zur Ausgabedatei\n",
    "filter_ocel_by_objects(input_path, output_path, object_ids=['C4', 'A2', 'C5'])\n",
    "\n",
    "ocel_path = pm4py.read_ocel_json(output_path)\n",
    "ocel = pm4py.discover_ocdfg(ocel_path)\n",
    "pm4py.vis.view_ocdfg(ocel)"
   ],
   "metadata": {
    "collapsed": false
   },
   "id": "b9cd8956fc150f8d",
   "execution_count": null
  },
  {
   "cell_type": "code",
   "outputs": [],
   "source": [
    "vis_write_ocel(scene='13', filter=True, keep_object=True, filter_timestamp=True, process_instance='adtc', objects=['C7', 'A2', 'C8'], min_timest='2024-03-25 11:31:40', max_timest='2024-03-25 11:40:21')"
   ],
   "metadata": {
    "collapsed": false
   },
   "id": "83415ba47843e332",
   "execution_count": null
  },
  {
   "cell_type": "code",
   "outputs": [],
   "source": [
    "# delete non-human-assigned activities\n",
    "input_path = \"../dataProcessing/filteredMovOCEL/filtered_mov13_adtc.jsonocel\"  # Pfad zur Eingabedatei\n",
    "output_path = \"../dataProcessing/filteredMovOCEL/filtered_mov13_adtc.jsonocel\"  # Pfad zur Ausgabedatei\n",
    "filter_ocel_by_objects(input_path, output_path, object_ids=['C7', 'A2', 'C8'])\n",
    "\n",
    "ocel_path = pm4py.read_ocel_json(output_path)\n",
    "ocel = pm4py.discover_ocdfg(ocel_path)\n",
    "pm4py.vis.view_ocdfg(ocel)"
   ],
   "metadata": {
    "collapsed": false
   },
   "id": "fedb9480285adebd",
   "execution_count": null
  },
  {
   "cell_type": "code",
   "outputs": [],
   "source": [
    "vis_write_ocel(scene='14', filter=True, keep_object=True, filter_timestamp=True, process_instance='ssaco', objects=['C3', 'A2'], min_timest='2024-03-25 11:50:46', max_timest='2024-03-25 11:51:37')"
   ],
   "metadata": {
    "collapsed": false
   },
   "id": "971fe3e9fc3b5ea9",
   "execution_count": null
  },
  {
   "cell_type": "code",
   "outputs": [],
   "source": [
    "# delete non-human-assigned activities\n",
    "input_path = \"../dataProcessing/filteredMovOCEL/filtered_mov14_ssaco.jsonocel\"  # Pfad zur Eingabedatei\n",
    "output_path = \"../dataProcessing/filteredMovOCEL/filtered_mov14_ssaco.jsonocel\"  # Pfad zur Ausgabedatei\n",
    "filter_ocel_by_objects(input_path, output_path, object_ids=['C3', 'A2'])\n",
    "\n",
    "ocel_path = pm4py.read_ocel_json(output_path)\n",
    "ocel = pm4py.discover_ocdfg(ocel_path)\n",
    "pm4py.vis.view_ocdfg(ocel)"
   ],
   "metadata": {
    "collapsed": false
   },
   "id": "c786a8e35526371",
   "execution_count": null
  },
  {
   "cell_type": "code",
   "outputs": [],
   "source": [
    "vis_write_ocel(scene='15', filter=True, keep_object=True, filter_timestamp=True, process_instance='adtc1', objects=['C3', 'A2'], min_timest='2024-03-25 11:55:47', max_timest='2024-03-25 11:58:08')\n",
    "vis_write_ocel(scene='15', filter=True, keep_object=True, filter_timestamp=True, process_instance='adtc2', objects=['C2', 'A2'], \n",
    " min_timest= '2024-03-25 11:59:45', max_timest='2024-03-25 12:00:59')"
   ],
   "metadata": {
    "collapsed": false
   },
   "id": "79f0cf4418e7ac2f",
   "execution_count": null
  },
  {
   "cell_type": "code",
   "outputs": [],
   "source": [
    "# delete non-human-assigned activities\n",
    "input_path = \"../dataProcessing/filteredMovOCEL/filtered_mov15_adtc1.jsonocel\"  # Pfad zur Eingabedatei\n",
    "output_path = \"../dataProcessing/filteredMovOCEL/filtered_mov15_adtc1.jsonocel\"  # Pfad zur Ausgabedatei\n",
    "filter_ocel_by_objects(input_path, output_path, object_ids=['C3', 'A2'])\n",
    "\n",
    "ocel_path = pm4py.read_ocel_json(output_path)\n",
    "ocel = pm4py.discover_ocdfg(ocel_path)\n",
    "pm4py.vis.view_ocdfg(ocel)"
   ],
   "metadata": {
    "collapsed": false
   },
   "id": "8485417b43bec91e",
   "execution_count": null
  },
  {
   "cell_type": "code",
   "outputs": [],
   "source": [
    "# delete non-human-assigned activities\n",
    "input_path = \"../dataProcessing/filteredMovOCEL/filtered_mov15_adtc2.jsonocel\"  # Pfad zur Eingabedatei\n",
    "output_path = \"../dataProcessing/filteredMovOCEL/filtered_mov15_adtc2.jsonocel\"  # Pfad zur Ausgabedatei\n",
    "filter_ocel_by_objects(input_path, output_path, object_ids=['C2', 'A2'])\n",
    "\n",
    "ocel_path = pm4py.read_ocel_json(output_path)\n",
    "ocel = pm4py.discover_ocdfg(ocel_path)\n",
    "pm4py.vis.view_ocdfg(ocel)"
   ],
   "metadata": {
    "collapsed": false
   },
   "id": "7371d9e6bb0f9522",
   "execution_count": null
  }
 ],
 "metadata": {
  "kernelspec": {
   "display_name": "Python 3",
   "language": "python",
   "name": "python3"
  },
  "language_info": {
   "codemirror_mode": {
    "name": "ipython",
    "version": 2
   },
   "file_extension": ".py",
   "mimetype": "text/x-python",
   "name": "python",
   "nbconvert_exporter": "python",
   "pygments_lexer": "ipython2",
   "version": "2.7.6"
  }
 },
 "nbformat": 4,
 "nbformat_minor": 5
}
