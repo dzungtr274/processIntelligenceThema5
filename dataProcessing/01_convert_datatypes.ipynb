{
 "cells": [
  {
   "cell_type": "code",
   "execution_count": null,
   "id": "bfde059b",
   "metadata": {},
   "outputs": [],
   "source": [
    "#All Imports are run in this block\n",
    "#Run once every time you restart jupyter kernel\n",
    "import pm4py\n",
    "import array"
   ]
  },
  {
   "cell_type": "code",
   "execution_count": null,
   "id": "7668b39dbf1199ea",
   "metadata": {
    "ExecuteTime": {
     "end_time": "2024-11-24T10:35:16.830798Z",
     "start_time": "2024-11-24T10:35:16.762566Z"
    },
    "collapsed": false
   },
   "outputs": [],
   "source": [
    "## ITAM\n",
    "#convert .jsonl to .xes (eXtensible Event Stream)\n",
    "#ISO standard format for event logs used in process mining\n",
    "#It has a well-defined schema that represents events, attributes, and their relationships, ensuring compatibility across tools\n",
    "\n",
    "# ocel_path = \"../global/itam_ocel.jsonl\"\n",
    "# ocel = pm4py.read_ocel_json(ocel_path)\n",
    "\n",
    "# convert itam only\n",
    "# def convert(object_type:str):\n",
    "#     event_log = pm4py.ocel_flattening(ocel, object_type)\n",
    "#     xes_output_path = \"../dataProcessing/itam_xes.xes\"\n",
    "#     pm4py.write_xes(event_log, xes_output_path)\n",
    "#     print(f\"XES Datei gespeichert unter: {xes_output_path}\")\n",
    "    \n",
    "# convert('item_asset')\n",
    "\n",
    "ocel_path = \"output_ocel/01_new_asset_inventory_ocel.jsonocel\"\n",
    "ocel = pm4py.read_ocel_json(ocel_path)\n",
    "\n",
    "# convert itam only\n",
    "def convert(object_type:array):\n",
    "    event_log = pm4py.ocel_flattening(ocel, object_type[1])\n",
    "    xes_output_path = \"output_ocel/01_new_asset_inventory_xes.xes\"\n",
    "    pm4py.write_xes(event_log, xes_output_path)\n",
    "    print(f\"XES Datei gespeichert unter: {xes_output_path}\")\n",
    "    \n",
    "convert(['item_asset', 'admin_user'])\n",
    "    "
   ]
  },
  {
   "cell_type": "code",
   "execution_count": null,
   "id": "23869ea6",
   "metadata": {},
   "outputs": [],
   "source": [
    "ocel_path = \"output_ocel/02_asset_disbursement_ocel.jsonocel\"\n",
    "ocel = pm4py.read_ocel_json(ocel_path)\n",
    "\n",
    "# convert itam only\n",
    "def convert(object_type:array):\n",
    "    event_log = pm4py.ocel_flattening(ocel, object_type[1])\n",
    "    xes_output_path = \"output_ocel/02_asset_disbursement_xes.xes\"\n",
    "    pm4py.write_xes(event_log, xes_output_path)\n",
    "    print(f\"XES Datei gespeichert unter: {xes_output_path}\")\n",
    "    \n",
    "convert(['item_asset', 'admin_user'])"
   ]
  },
  {
   "cell_type": "code",
   "execution_count": null,
   "id": "460564a8",
   "metadata": {},
   "outputs": [],
   "source": [
    "ocel_path = \"output_ocel/03_self_service_asset_ocel.jsonocel\"\n",
    "ocel = pm4py.read_ocel_json(ocel_path)\n",
    "\n",
    "# convert itam only\n",
    "def convert(object_type:array):\n",
    "    event_log = pm4py.ocel_flattening(ocel, object_type[1])\n",
    "    xes_output_path = \"output_ocel/03_self_service_asset_xes.xes\"\n",
    "    pm4py.write_xes(event_log, xes_output_path)\n",
    "    print(f\"XES Datei gespeichert unter: {xes_output_path}\")\n",
    "    \n",
    "convert(['item_asset', 'target_user'])"
   ]
  },
  {
   "cell_type": "code",
   "execution_count": null,
   "id": "4a1c03b37ee6bb6b",
   "metadata": {
    "collapsed": false
   },
   "outputs": [],
   "source": [
    "# function for converting scene_video\n",
    "def convert_data_type(count:str, object_type:str):\n",
    "    # Load data\n",
    "    ocel_path = f\"../scene{count}/scene{count}_video_ocel.json\" \n",
    "\n",
    "    # Read data\n",
    "    ocel = pm4py.read_ocel_json(ocel_path)\n",
    "\n",
    "    event_log = pm4py.ocel_flattening(ocel,object_type)\n",
    "    # Convert OCEL-Data to Event Logs \n",
    "\n",
    "    # Write XES file\n",
    "    xes_output_path = f\"../dataProcessing/sceneVideoXES/scene{count}_video_xes.xes\"  \n",
    "    pm4py.write_xes(event_log, xes_output_path)\n",
    "    \n",
    "    print(f\"XES Datei gespeichert unter: {xes_output_path}\")\n",
    "\n",
    "convert_data_type(\"15\",\"item_asset\")"
   ]
  }
 ],
 "metadata": {
  "kernelspec": {
   "display_name": "Python 3",
   "language": "python",
   "name": "python3"
  },
  "language_info": {
   "codemirror_mode": {
    "name": "ipython",
    "version": 3
   },
   "file_extension": ".py",
   "mimetype": "text/x-python",
   "name": "python",
   "nbconvert_exporter": "python",
   "pygments_lexer": "ipython3",
   "version": "3.8.5"
  }
 },
 "nbformat": 4,
 "nbformat_minor": 5
}
