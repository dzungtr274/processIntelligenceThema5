{
 "cells": [
  {
   "cell_type": "code",
   "outputs": [],
   "source": [
    "import pm4py\n",
    "import pandas as pd\n",
    "\n",
    "# Read itam_xes file\n",
    "itam_xes_path = \"itam_ocel_xes.xes\"\n",
    "itam_xes = pm4py.read_xes(itam_xes_path)\n",
    "\n",
    "# Read scene_xes file\n",
    "def read_scene_xes(count:str):\n",
    "    path = f\"../dataProcessing/sceneVideoXES/scene{count}_video_xes.xes\"  \n",
    "    read = pm4py.read_xes(path)\n",
    "    return read\n",
    "\n",
    "def combine_itam_scene(count:str):\n",
    "    combined_df = pd.concat([itam_xes, read_scene_xes(count)], ignore_index=True)\n",
    "    combined_df.sort_values(by='time:timestamp', inplace=True)\n",
    "    return combined_df\n",
    "\n",
    "\n",
    "def write_scene_xes(count:str):\n",
    "    itam_scene_path = f\"../dataProcessing/itamSceneCombinedXES/itam_scene{count}_combined.xes\"\n",
    "    write = pm4py.write_xes(combine_itam_scene(count), itam_scene_path)\n",
    "    print(f\"XES Datei gespeichert unter: {itam_scene_path}\")\n",
    "    return write"
   ],
   "metadata": {
    "collapsed": false
   },
   "id": "57ca2561767200b6",
   "execution_count": null
  },
  {
   "cell_type": "code",
   "outputs": [],
   "source": [
    "# Write combined file\n",
    "write_scene_xes(\"15\")"
   ],
   "metadata": {
    "collapsed": false
   },
   "id": "878d34fed62ea537",
   "execution_count": null
  }
 ],
 "metadata": {
  "kernelspec": {
   "display_name": "Python 3",
   "language": "python",
   "name": "python3"
  },
  "language_info": {
   "codemirror_mode": {
    "name": "ipython",
    "version": 2
   },
   "file_extension": ".py",
   "mimetype": "text/x-python",
   "name": "python",
   "nbconvert_exporter": "python",
   "pygments_lexer": "ipython2",
   "version": "2.7.6"
  }
 },
 "nbformat": 4,
 "nbformat_minor": 5
}
