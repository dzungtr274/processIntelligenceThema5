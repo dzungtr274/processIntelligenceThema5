{
 "cells": [
  {
   "cell_type": "code",
   "outputs": [
    {
     "data": {
      "text/plain": "exporting log, completed traces ::   0%|          | 0/5 [00:00<?, ?it/s]",
      "application/vnd.jupyter.widget-view+json": {
       "version_major": 2,
       "version_minor": 0,
       "model_id": "eb035b33145a4b418c0166cdc75465c4"
      }
     },
     "metadata": {},
     "output_type": "display_data"
    },
    {
     "name": "stdout",
     "output_type": "stream",
     "text": [
      "XES Datei gespeichert unter: ../dataProcessing/scene01_video_xes.xes\n"
     ]
    }
   ],
   "source": [
    "# Import PM4Py libraries\n",
    "import pm4py\n",
    "\n",
    "def convert_data_type(count:str, object_type:str):\n",
    "    # Daten laden\n",
    "    ocel_path = f\"../scene{count}/scene{count}_video_ocel.json\" \n",
    "\n",
    "    # Daten auslesen\n",
    "    ocel = pm4py.read_ocel_json(ocel_path)\n",
    "\n",
    "    # OCEL-Datan auf Eventlogs runterflatten\n",
    "    event_log = pm4py.ocel_flattening(ocel,object_type)\n",
    "\n",
    "    # XES-Datei schreiben\n",
    "    xes_output_path = f\"../dataProcessing/scene{count}_video_xes.xes\"  \n",
    "    pm4py.write_xes(event_log, xes_output_path)\n",
    "    \n",
    "    print(f\"XES Datei gespeichert unter: {xes_output_path}\")\n",
    "\n",
    "convert_data_type(\"01\",\"item_asset\")"
   ],
   "metadata": {
    "collapsed": false,
    "ExecuteTime": {
     "end_time": "2024-11-16T14:07:28.989628Z",
     "start_time": "2024-11-16T14:07:28.911832Z"
    }
   },
   "id": "4a1c03b37ee6bb6b",
   "execution_count": 32
  },
  {
   "cell_type": "code",
   "outputs": [
    {
     "data": {
      "text/plain": "exporting log, completed traces ::   0%|          | 0/37 [00:00<?, ?it/s]",
      "application/vnd.jupyter.widget-view+json": {
       "version_major": 2,
       "version_minor": 0,
       "model_id": "212c4b38461f48f1bc3b74be20419533"
      }
     },
     "metadata": {},
     "output_type": "display_data"
    },
    {
     "name": "stdout",
     "output_type": "stream",
     "text": [
      "XES Datei gespeichert unter: ../dataProcessing/itam_ocel_xes.xes\n"
     ]
    }
   ],
   "source": [
    "import pm4py\n",
    "ocel_path = \"../global/itam_ocel.jsonl\"\n",
    "\n",
    "ocel = pm4py.read_ocel_json(ocel_path)\n",
    "\n",
    "def convert(object_type:str):\n",
    "    event_log = pm4py.ocel_flattening(ocel, object_type)\n",
    "    xes_output_path = \"../dataProcessing/itam_ocel_xes.xes\"\n",
    "    pm4py.write_xes(event_log, xes_output_path)\n",
    "    print(f\"XES Datei gespeichert unter: {xes_output_path}\")\n",
    "    \n",
    "convert('item_asset')\n",
    "    "
   ],
   "metadata": {
    "collapsed": false,
    "ExecuteTime": {
     "end_time": "2024-11-16T21:14:08.525761Z",
     "start_time": "2024-11-16T21:14:08.464287Z"
    }
   },
   "id": "7668b39dbf1199ea",
   "execution_count": 7
  },
  {
   "cell_type": "code",
   "outputs": [],
   "source": [],
   "metadata": {
    "collapsed": false
   },
   "id": "e806aa6a1be68468"
  }
 ],
 "metadata": {
  "kernelspec": {
   "display_name": "Python 3",
   "language": "python",
   "name": "python3"
  },
  "language_info": {
   "codemirror_mode": {
    "name": "ipython",
    "version": 2
   },
   "file_extension": ".py",
   "mimetype": "text/x-python",
   "name": "python",
   "nbconvert_exporter": "python",
   "pygments_lexer": "ipython2",
   "version": "2.7.6"
  }
 },
 "nbformat": 4,
 "nbformat_minor": 5
}
