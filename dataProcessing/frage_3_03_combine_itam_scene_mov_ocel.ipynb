{
 "cells": [
  {
   "cell_type": "code",
   "execution_count": 2,
   "id": "initial_id",
   "metadata": {
    "collapsed": true,
    "ExecuteTime": {
     "end_time": "2024-12-12T12:20:11.942712Z",
     "start_time": "2024-12-12T12:20:06.866382Z"
    }
   },
   "outputs": [],
   "source": [
    "import json\n",
    "from pathlib import Path\n",
    "import os\n",
    "import pm4py\n",
    "\n",
    "# COMBINE ITAM_SCENE WITH MOV - CATEGORIZED BY PROCESS INSTANCE\n",
    "\n",
    "def merge_ocel_files(input_folder, additional_file, output_file, scenes, instance):\n",
    "\n",
    "    # Initiate structure of combined ocel\n",
    "    merged_ocel = {\n",
    "        \"ocel:global-event\": {},\n",
    "        \"ocel:global-object\": {},\n",
    "        \"ocel:global-log\": {\n",
    "            \"ocel:attribute-names\": set(),\n",
    "            \"ocel:object-types\": set(),\n",
    "            \"ocel:version\": None,\n",
    "            \"ocel:ordering\": None,\n",
    "        },\n",
    "        \"ocel:events\": {},\n",
    "        \"ocel:objects\": {},\n",
    "    }\n",
    "    \n",
    "    # Existing itam_scene file\n",
    "    additional_file_path = Path(additional_file)\n",
    "    if additional_file_path.exists():\n",
    "        with open(additional_file_path, 'r') as f:\n",
    "            additional_ocel = json.load(f)\n",
    "        \n",
    "         # combine `ocel:global-log`\n",
    "        merged_ocel[\"ocel:global-log\"][\"ocel:attribute-names\"].update(\n",
    "            additional_ocel[\"ocel:global-log\"].get(\"ocel:attribute-names\", [])\n",
    "        )\n",
    "        merged_ocel[\"ocel:global-log\"][\"ocel:object-types\"].update(\n",
    "            additional_ocel[\"ocel:global-log\"].get(\"ocel:object-types\", [])\n",
    "        )\n",
    "        if merged_ocel[\"ocel:global-log\"][\"ocel:version\"] is None:\n",
    "            merged_ocel[\"ocel:global-log\"][\"ocel:version\"] = additional_ocel[\"ocel:global-log\"].get(\"ocel:version\")\n",
    "        if merged_ocel[\"ocel:global-log\"][\"ocel:ordering\"] is None:\n",
    "            merged_ocel[\"ocel:global-log\"][\"ocel:ordering\"] = additional_ocel[\"ocel:global-log\"].get(\"ocel:ordering\")\n",
    "        \n",
    "        # combine events and objects\n",
    "        merged_ocel[\"ocel:events\"].update(additional_ocel.get(\"ocel:events\", {}))\n",
    "        merged_ocel[\"ocel:objects\"].update(additional_ocel.get(\"ocel:objects\", {}))\n",
    "\n",
    "    # Iteration of specified scenes\n",
    "    for scene in scenes:\n",
    "        # set the customized scene number as well as process instance\n",
    "        file_path = Path(input_folder) / f\"filtered_mov{scene}_{instance}.jsonocel\"\n",
    "        \n",
    "        if not file_path.exists():\n",
    "            print(f\"Warnung: Datei {file_path} wurde nicht gefunden.\")\n",
    "            continue\n",
    "        \n",
    "        with open(file_path, \"r\") as f:\n",
    "            ocel_data = json.load(f)\n",
    "        \n",
    "        # combine `ocel:global-log`\n",
    "        merged_ocel[\"ocel:global-log\"][\"ocel:attribute-names\"].update(\n",
    "            ocel_data[\"ocel:global-log\"].get(\"ocel:attribute-names\", [])\n",
    "        )\n",
    "        merged_ocel[\"ocel:global-log\"][\"ocel:object-types\"].update(\n",
    "            ocel_data[\"ocel:global-log\"].get(\"ocel:object-types\", [])\n",
    "        )\n",
    "        if merged_ocel[\"ocel:global-log\"][\"ocel:version\"] is None:\n",
    "            merged_ocel[\"ocel:global-log\"][\"ocel:version\"] = ocel_data[\"ocel:global-log\"].get(\"ocel:version\")\n",
    "        if merged_ocel[\"ocel:global-log\"][\"ocel:ordering\"] is None:\n",
    "            merged_ocel[\"ocel:global-log\"][\"ocel:ordering\"] = ocel_data[\"ocel:global-log\"].get(\"ocel:ordering\")\n",
    "        \n",
    "        # combine events and objects\n",
    "        merged_ocel[\"ocel:events\"].update(ocel_data.get(\"ocel:events\", {}))\n",
    "        merged_ocel[\"ocel:objects\"].update(ocel_data.get(\"ocel:objects\", {}))\n",
    "    \n",
    "    # sort events by ocel:timestamp\n",
    "    sorted_events = dict(\n",
    "        sorted(\n",
    "            # use items to get key-value-relation\n",
    "            merged_ocel[\"ocel:events\"].items(),\n",
    "            # [1] stands for the value\n",
    "            key=lambda item: item[1].get(\"ocel:timestamp\")\n",
    "        )\n",
    "    )\n",
    "    \n",
    "    merged_ocel[\"ocel:events\"]=sorted_events\n",
    "    \n",
    "    # convert sets back to lists\n",
    "    merged_ocel[\"ocel:global-log\"][\"ocel:attribute-names\"] = list(merged_ocel[\"ocel:global-log\"][\"ocel:attribute-names\"])\n",
    "    merged_ocel[\"ocel:global-log\"][\"ocel:object-types\"] = list(merged_ocel[\"ocel:global-log\"][\"ocel:object-types\"])\n",
    "    \n",
    "    # save the combined ocel\n",
    "    with open(output_file, \"w\") as output_f:\n",
    "        json.dump(merged_ocel, output_f, indent=4)\n",
    "\n",
    "    print(f\"Kombinierte OCEL-Datei wurde gespeichert: {output_file}\")"
   ]
  },
  {
   "cell_type": "code",
   "outputs": [
    {
     "name": "stdout",
     "output_type": "stream",
     "text": [
      "Kombinierte OCEL-Datei wurde gespeichert: ../dataProcessing/itamSceneMovCombinedOCEL/itam_scene_mov_combined_ssaco.jsonocel\n"
     ]
    }
   ],
   "source": [
    "input_folder_path = \"../dataProcessing/filteredMovOCEL/\"\n",
    "instance = \"ssaco\"\n",
    "additional_file_path = f\"../dataProcessing/itamSceneCombinedOCEL/itam_scene_combined_{instance}.jsonocel\"\n",
    "output_file_path = f\"../dataProcessing/itamSceneMovCombinedOCEL/itam_scene_mov_combined_{instance}.jsonocel\"\n",
    "scenes = ['03', '05', '06', '14']\n",
    "\n",
    "merge_ocel_files(input_folder_path,additional_file_path, output_file_path, scenes, instance)"
   ],
   "metadata": {
    "collapsed": false,
    "ExecuteTime": {
     "end_time": "2024-12-12T12:22:42.547020Z",
     "start_time": "2024-12-12T12:22:42.488733Z"
    }
   },
   "id": "c276251e03fb2825",
   "execution_count": 7
  },
  {
   "cell_type": "code",
   "outputs": [
    {
     "name": "stdout",
     "output_type": "stream",
     "text": [
      "Kombinierte OCEL-Datei wurde gespeichert: ../dataProcessing/itamSceneMovCombinedOCEL/itam_scene_mov_combined_ssaco.jsonocel\n"
     ]
    }
   ],
   "source": [
    "input_folder_path = \"../dataProcessing/filteredMovOCEL/\"\n",
    "instance = \"ssaco2\"\n",
    "additional_file_path = f\"../dataProcessing/itamSceneMovCombinedOCEL/itam_scene_mov_combined_ssaco.jsonocel\"\n",
    "output_file_path = f\"../dataProcessing/itamSceneMovCombinedOCEL/itam_scene_mov_combined_ssaco.jsonocel\"\n",
    "scenes = ['11']\n",
    "\n",
    "merge_ocel_files(input_folder_path,additional_file_path, output_file_path, scenes, instance)"
   ],
   "metadata": {
    "collapsed": false,
    "ExecuteTime": {
     "end_time": "2024-12-12T12:23:07.694229Z",
     "start_time": "2024-12-12T12:23:07.647445Z"
    }
   },
   "id": "4bfa9c4519b65e62",
   "execution_count": 9
  }
 ],
 "metadata": {
  "kernelspec": {
   "display_name": "Python 3",
   "language": "python",
   "name": "python3"
  },
  "language_info": {
   "codemirror_mode": {
    "name": "ipython",
    "version": 2
   },
   "file_extension": ".py",
   "mimetype": "text/x-python",
   "name": "python",
   "nbconvert_exporter": "python",
   "pygments_lexer": "ipython2",
   "version": "2.7.6"
  }
 },
 "nbformat": 4,
 "nbformat_minor": 5
}
