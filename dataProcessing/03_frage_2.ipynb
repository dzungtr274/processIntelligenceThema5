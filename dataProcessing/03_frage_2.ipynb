{
 "cells": [
  {
   "cell_type": "markdown",
   "id": "b9c303a0",
   "metadata": {},
   "source": [
    "# Question 2\n",
    "\n",
    "To address \"Blind Spots\" (what happens before, between, or after the identified process steps in ITAM), add process steps based on the video data identified (e.g., \"scene01_video_ocel.json\"). Demonstrate how the processes now appear with these enriched data sets (i.e., events from ITAM and video data).\n"
   ]
  },
  {
   "cell_type": "markdown",
   "id": "d378ce73",
   "metadata": {},
   "source": [
    "#### Import packages\n"
   ]
  },
  {
   "cell_type": "code",
   "execution_count": 1,
   "id": "1f204e62",
   "metadata": {},
   "outputs": [],
   "source": [
    "import pm4py\n",
    "import pandas as pd"
   ]
  },
  {
   "cell_type": "code",
   "execution_count": null,
   "id": "57f74b92",
   "metadata": {},
   "outputs": [],
   "source": [
    "# Read ITAM XES file\n",
    "itam_xes_path = \"filtered_itam_xes.xes\"\n",
    "itam_xes = pm4py.read_xes(itam_xes_path)\n",
    "\n",
    "def read_scene_xes(count: str, instance: str):\n",
    "    \"\"\"Liest eine einzelne Szenen-XES-Datei basierend auf der Nummer.\"\"\"\n",
    "    path = f\"../dataProcessing/filteredSceneVideoXES/filtered_scene{count}_video_{instance}.xes\"  \n",
    "    return pm4py.read_xes(path)\n",
    "\n",
    "def combine_itam_scenes(scene_counts: list, instance: str):\n",
    "    combined_df = pd.DataFrame(itam_xes)\n",
    "    for count in scene_counts:\n",
    "        # Szenen-XES-Datei lesen und hinzufügen\n",
    "        scene_df = pd.DataFrame(read_scene_xes(count, instance))\n",
    "        combined_df = pd.concat([combined_df, scene_df], ignore_index=True)\n",
    "    # Nach Zeitstempel sortieren\n",
    "    combined_df.sort_values(by='time:timestamp', inplace=True)\n",
    "    return combined_df\n",
    "\n",
    "def write_combined_xes(scene_counts: list, instance: str):\n",
    "    combined_log = combine_itam_scenes(scene_counts, instance)\n",
    "    output_path = f\"../dataProcessing/itamSceneCombinedXES/itam_scene_combined_{instance}.xes\"\n",
    "    pm4py.write_xes(combined_log, output_path)\n",
    "    print(f\"Kombinierte XES-Datei gespeichert unter: {output_path}\")"
   ]
  },
  {
   "cell_type": "code",
   "execution_count": null,
   "id": "b1ab1080",
   "metadata": {},
   "outputs": [],
   "source": [
    "# Write combined file\n",
    "\n",
    "# Asset disbursement to client\n",
    "write_combined_xes(['01','07','09','12','13','15'], 'adtc')\n",
    "\n",
    "# New inventory asset\n",
    "write_combined_xes(['02','03','04','06','07','10'], 'nai')\n",
    "\n",
    "# Self-service asset check-out\n",
    "write_combined_xes(['03','05','06','11','14'], 'ssaco')"
   ]
  },
  {
   "cell_type": "markdown",
   "id": "37564d3f",
   "metadata": {},
   "source": [
    "## Visualize Processes\n"
   ]
  },
  {
   "cell_type": "code",
   "execution_count": null,
   "id": "4b48a0df",
   "metadata": {},
   "outputs": [],
   "source": [
    "import pm4py\n",
    "\n",
    "### XES\n",
    "\n",
    "# New inventory asset\n",
    "xes_nai = pm4py.read_xes('../dataProcessing/itamSceneCombinedXES/itam_scene_combined_nai.xes')\n",
    "\n",
    "dfg, start_activities, end_activities = pm4py.discover_dfg(xes_nai, \n",
    "                                                           case_id_key='case:concept:name',\n",
    "                                                           activity_key='concept:name',\n",
    "                                                           timestamp_key='time:timestamp'\n",
    "                                                           )\n",
    "pm4py.vis.view_dfg(dfg, start_activities, end_activities)\n",
    "\n",
    "bpmn = pm4py.discover_bpmn_inductive(xes_nai)\n",
    "pm4py.vis.view_bpmn(bpmn)"
   ]
  },
  {
   "cell_type": "code",
   "execution_count": null,
   "id": "32bee05d",
   "metadata": {},
   "outputs": [],
   "source": [
    "# Asset disbursement to client\n",
    "xes_adtc = pm4py.read_xes('../dataProcessing/itamSceneCombinedXES/itam_scene_combined_adtc.xes')\n",
    "\n",
    "dfg, start_activities, end_activities = pm4py.discover_dfg(xes_adtc, \n",
    "                                                           case_id_key='case:concept:name',\n",
    "                                                           activity_key='concept:name',\n",
    "                                                           timestamp_key='time:timestamp'\n",
    "                                                           )\n",
    "pm4py.vis.view_dfg(dfg, start_activities, end_activities)\n",
    "\n",
    "bpmn = pm4py.discover_bpmn_inductive(xes_adtc)\n",
    "pm4py.vis.view_bpmn(bpmn)"
   ]
  },
  {
   "cell_type": "code",
   "execution_count": null,
   "id": "69bfa9f3",
   "metadata": {},
   "outputs": [],
   "source": [
    "# Self-service asset check-out\n",
    "xes_ssaco = pm4py.read_xes('../dataProcessing/itamSceneCombinedXES/itam_scene_combined_ssaco.xes')\n",
    "\n",
    "dfg, start_activities, end_activities = pm4py.discover_dfg(xes_ssaco, \n",
    "                                                           case_id_key='case:concept:name',\n",
    "                                                           activity_key='concept:name',\n",
    "                                                           timestamp_key='time:timestamp'\n",
    "                                                           )\n",
    "pm4py.vis.view_dfg(dfg, start_activities, end_activities)\n",
    "\n",
    "bpmn = pm4py.discover_bpmn_inductive(xes_ssaco)\n",
    "pm4py.vis.view_bpmn(bpmn)"
   ]
  },
  {
   "cell_type": "markdown",
   "id": "3334c6a0",
   "metadata": {},
   "source": [
    "### Visualize Filtered ITAM\n"
   ]
  },
  {
   "cell_type": "code",
   "execution_count": null,
   "id": "5b0589ec",
   "metadata": {},
   "outputs": [],
   "source": [
    "import pm4py\n",
    "### filter itam_ocel\n",
    "\n",
    "### OCEL\n",
    "itam_ocel = pm4py.read_ocel_json('../global/itam_ocel.jsonl')\n",
    "filtered_itam_ocel = pm4py.filtering.filter_ocel_events_timestamp(itam_ocel,min_timest='2024-03-25 08:48:23', max_timest='2024-03-25 12:02:12')\n",
    "filtered_itam_ocel_path = '../dataProcessing/filtered_itam_ocel'\n",
    "pm4py.write_ocel_json(filtered_itam_ocel,filtered_itam_ocel_path)\n",
    "\n",
    "vis = pm4py.discover_ocdfg(filtered_itam_ocel)\n",
    "pm4py.vis.view_ocdfg(vis)\n",
    "\n",
    "### XES\n",
    "itam_xes = pm4py.read_xes('../dataProcessing/itam_xes.xes')\n",
    "filtered_itam_xes = pm4py.filtering.filter_time_range(itam_xes, dt1='2024-03-25 08:48:23', dt2='2024-03-25 12:02:12', mode = 'events', case_id_key='case:concept:name', timestamp_key='time:timestamp')\n",
    "filtered_itam_xes_path = '../dataProcessing/filtered_itam_xes.xes'\n",
    "pm4py.write_xes(filtered_itam_xes,filtered_itam_xes_path)\n",
    "\n",
    "dfg, start_activities, end_activities = pm4py.discovery.discover_dfg(filtered_itam_xes,\n",
    "                                                                     case_id_key='case:concept:name',\n",
    "                                                                     activity_key='concept:name',\n",
    "                                                                     timestamp_key='time:timestamp')\n",
    "pm4py.vis.view_dfg(dfg, start_activities, end_activities)"
   ]
  }
 ],
 "metadata": {
  "kernelspec": {
   "display_name": "Python 3",
   "language": "python",
   "name": "python3"
  },
  "language_info": {
   "codemirror_mode": {
    "name": "ipython",
    "version": 3
   },
   "file_extension": ".py",
   "mimetype": "text/x-python",
   "name": "python",
   "nbconvert_exporter": "python",
   "pygments_lexer": "ipython3",
   "version": "3.8.5"
  }
 },
 "nbformat": 4,
 "nbformat_minor": 5
}
