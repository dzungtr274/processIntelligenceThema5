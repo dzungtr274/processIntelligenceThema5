{
 "cells": [
  {
   "cell_type": "code",
   "execution_count": 1,
   "id": "initial_id",
   "metadata": {
    "collapsed": true,
    "ExecuteTime": {
     "end_time": "2024-11-27T17:32:53.441538Z",
     "start_time": "2024-11-27T17:32:51.703730Z"
    }
   },
   "outputs": [],
   "source": [
    "import pm4py\n",
    "import pandas as pd"
   ]
  },
  {
   "cell_type": "code",
   "outputs": [],
   "source": [
    "def convert_csv_to_ocel(scene:str): \n",
    "    # read csv\n",
    "    dataframe = pd.read_csv(f'../scene{scene}/scene{scene}_mov.csv')\n",
    "    # convert csv to dataframe\n",
    "    dataframe = pm4py.format_dataframe(dataframe,case_id ='resource',activity_key='activity',timestamp_key='timestamp')\n",
    "    # change timestamp to +1 timezone\n",
    "    dataframe['time:timestamp'] = dataframe['time:timestamp'].dt.tz_convert('Europe/Berlin')\n",
    "    # delete redundant columns\n",
    "    dataframe = dataframe.drop(columns=['timestamp','resource','activity'])\n",
    "    # sort df by timestamp\n",
    "    dataframe = dataframe.sort_values(by='time:timestamp')\n",
    "    # change order (optional)\n",
    "    new_order = ['time:timestamp','case:concept:name','concept:name','region','walking_speed','step','handling_height']\n",
    "    dataframe = dataframe[new_order]\n",
    "    # convert df to ocel\n",
    "    ocel = pm4py.convert.convert_log_to_ocel(dataframe,activity_column='concept:name',timestamp_column='time:timestamp',object_types=['case:concept:name'])\n",
    "    # write ocel\n",
    "    pm4py.write_ocel_json(ocel,f'../dataProcessing/sceneMovOCEL/scene{scene}_mov')"
   ],
   "metadata": {
    "collapsed": false,
    "ExecuteTime": {
     "end_time": "2024-11-27T21:16:17.869005Z",
     "start_time": "2024-11-27T21:16:17.863603Z"
    }
   },
   "id": "970d5cfe4b3d09d7",
   "execution_count": 37
  },
  {
   "cell_type": "code",
   "outputs": [],
   "source": [
    "convert_csv_to_ocel('15')"
   ],
   "metadata": {
    "collapsed": false,
    "ExecuteTime": {
     "end_time": "2024-11-27T21:16:55.062829Z",
     "start_time": "2024-11-27T21:16:54.897606Z"
    }
   },
   "id": "9f27b218c9f5e6f5",
   "execution_count": 51
  }
 ],
 "metadata": {
  "kernelspec": {
   "display_name": "Python 3",
   "language": "python",
   "name": "python3"
  },
  "language_info": {
   "codemirror_mode": {
    "name": "ipython",
    "version": 2
   },
   "file_extension": ".py",
   "mimetype": "text/x-python",
   "name": "python",
   "nbconvert_exporter": "python",
   "pygments_lexer": "ipython2",
   "version": "2.7.6"
  }
 },
 "nbformat": 4,
 "nbformat_minor": 5
}
