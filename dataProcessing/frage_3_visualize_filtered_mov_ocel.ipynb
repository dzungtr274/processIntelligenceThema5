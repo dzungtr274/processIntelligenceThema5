{
 "cells": [
  {
   "cell_type": "code",
   "outputs": [],
   "source": [
    "import pm4py\n",
    "\n",
    "def vis_write_ocel(scene:str, filter:bool, filter_timestamp:bool,process_instance:str, objects:list, min_timest:str, max_timest:str):\n",
    "    ## scene: scene number\n",
    "    ## filter: check if scene should be split in smaller cases\n",
    "    ## process_instance: nai - New asset inventory / adtc - Asset disbursement to clients / ssaco - self-service asset check-out\n",
    "    ## objects: objects which should be excluded to filter\n",
    "    \n",
    "    mov_log_ocel = pm4py.read_ocel_json(f'../dataProcessing/sceneMovOCEL/scene{scene}_mov.jsonocel')\n",
    "\n",
    "    if filter == False:\n",
    "        ### OCEL\n",
    "        # Visualize\n",
    "        ocel_vis = pm4py.ocel.discover_ocdfg(mov_log_ocel)\n",
    "        pm4py.vis.view_ocdfg(ocel_vis)\n",
    "        \n",
    "        print(mov_log_ocel)\n",
    "\n",
    "        # Write\n",
    "        ocel_path = f'../dataProcessing/filteredMovOCEL/filtered_mov{scene}_{process_instance}'\n",
    "        pm4py.write_ocel_json(mov_log_ocel, ocel_path)\n",
    "        \n",
    "    else:\n",
    "        ### OCEL\n",
    "        # Visualize\n",
    "        filtered_ocel = pm4py.filtering.filter_ocel_objects(mov_log_ocel, object_identifiers=objects, positive=False, level=2)\n",
    "        \n",
    "        if filter_timestamp == True:\n",
    "            filtered_ocel_timestamp = pm4py.filtering.filter_ocel_events_timestamp(filtered_ocel, min_timest=min_timest, max_timest=max_timest, timestamp_key='ocel:timestamp')\n",
    "            ocel_vis = pm4py.ocel.discover_ocdfg(filtered_ocel_timestamp)\n",
    "            pm4py.vis.view_ocdfg(ocel_vis)\n",
    "        \n",
    "            print(filtered_ocel_timestamp)\n",
    "\n",
    "            # Write\n",
    "            ocel_path = f'../dataProcessing/filteredMovOCEL/filtered_mov{scene}_{process_instance}'\n",
    "            pm4py.write_ocel_json(filtered_ocel,ocel_path)\n",
    "        \n",
    "        else:\n",
    "            ocel_vis = pm4py.ocel.discover_ocdfg(filtered_ocel)\n",
    "            pm4py.vis.view_ocdfg(ocel_vis)\n",
    "        \n",
    "            print(filtered_ocel)\n",
    "\n",
    "            # Write\n",
    "            ocel_path = f'../dataProcessing/filteredMovOCEL/filtered_mov{scene}_{process_instance}'\n",
    "            pm4py.write_ocel_json(filtered_ocel,ocel_path)"
   ],
   "metadata": {
    "collapsed": false
   },
   "id": "dec51b8c911f706d",
   "execution_count": null
  },
  {
   "cell_type": "code",
   "outputs": [],
   "source": [
    "vis_write_ocel(scene='01', filter=False, filter_timestamp=False, process_instance='adtc', objects=[], min_timest='', max_timest='')"
   ],
   "metadata": {
    "collapsed": false
   },
   "id": "c47699261e1198b7",
   "execution_count": null
  },
  {
   "cell_type": "code",
   "outputs": [],
   "source": [
    "vis_write_ocel(scene='02', filter=False, filter_timestamp=False, process_instance='nai', objects=[], min_timest='', max_timest='')"
   ],
   "metadata": {
    "collapsed": false
   },
   "id": "3c162b3184537859",
   "execution_count": null
  },
  {
   "cell_type": "code",
   "outputs": [],
   "source": [
    "vis_write_ocel('03', True, False, 'nai', ['C1', 'C5', 'C6'],'','')"
   ],
   "metadata": {
    "collapsed": false
   },
   "id": "74ca8eee391e37df",
   "execution_count": null
  },
  {
   "cell_type": "code",
   "outputs": [],
   "source": [
    "vis_write_ocel('03', True, False, 'ssaco', ['C1', 'A1'], '','')"
   ],
   "metadata": {
    "collapsed": false
   },
   "id": "9f5cf7f8f03f65e8",
   "execution_count": null
  },
  {
   "cell_type": "code",
   "outputs": [],
   "source": [
    "vis_write_ocel('04', True, True, 'nai', ['C2'],'2024-03-25 09:20:11','2024-03-25 09:21:33')"
   ],
   "metadata": {
    "collapsed": false
   },
   "id": "c4df3462c299c2f2",
   "execution_count": null
  },
  {
   "cell_type": "code",
   "outputs": [],
   "source": [
    "vis_write_ocel('05', True, True, 'ssaco', '', min_timest='2024-03-25 09:26:10', max_timest='2024-03-25 09:26:30')"
   ],
   "metadata": {
    "collapsed": false
   },
   "id": "3f2705288276fe5",
   "execution_count": null
  },
  {
   "cell_type": "code",
   "outputs": [],
   "source": [
    "vis_write_ocel('06', True, True, 'nai', ['C10', 'C1', 'C9'], '2024-03-25 09:30:02', '2024-03-25 09:34:49')"
   ],
   "metadata": {
    "collapsed": false
   },
   "id": "92ed46c33ceb2a70",
   "execution_count": null
  },
  {
   "cell_type": "code",
   "outputs": [],
   "source": [
    "vis_write_ocel('06', True, False, 'ssaco', ['C1', 'A1'], '', '')"
   ],
   "metadata": {
    "collapsed": false
   },
   "id": "f25afbda1707ba2c",
   "execution_count": null
  },
  {
   "cell_type": "code",
   "outputs": [],
   "source": [
    "vis_write_ocel('07', True, True, 'nai', '', '2024-03-25 09:39:50', '2024-03-25 09:42:48')"
   ],
   "metadata": {
    "collapsed": false
   },
   "id": "3360ac23f3260d4f",
   "execution_count": null
  },
  {
   "cell_type": "code",
   "outputs": [],
   "source": [
    "vis_write_ocel('07', True, True, 'adtc', '', '2024-03-25 09:42:16', '2024-03-25 09:45:29') "
   ],
   "metadata": {
    "collapsed": false
   },
   "id": "87f8606b20912b60",
   "execution_count": null
  },
  {
   "cell_type": "markdown",
   "source": [
    "#### Exclude scene 8, because in which the process instances are not relevant to Thema 5"
   ],
   "metadata": {
    "collapsed": false
   },
   "id": "e226f78f5461b0c2"
  },
  {
   "cell_type": "code",
   "outputs": [],
   "source": [
    "vis_write_ocel('09', False, False, 'adtc', [], '','')"
   ],
   "metadata": {
    "collapsed": false
   },
   "id": "56107fbc7b78b3f4",
   "execution_count": null
  },
  {
   "cell_type": "code",
   "outputs": [],
   "source": [
    "vis_write_ocel('10', True, True, 'nai', '', min_timest='2024-03-25 10:58:14', max_timest='2024-03-25 11:01:36')"
   ],
   "metadata": {
    "collapsed": false
   },
   "id": "23efb5e0c532224a",
   "execution_count": null
  },
  {
   "cell_type": "code",
   "outputs": [],
   "source": [
    "vis_write_ocel('11', True, True, 'ssaco', '', '2024-03-25 11:13:37', '2024-03-25 11:14:52')"
   ],
   "metadata": {
    "collapsed": false
   },
   "id": "f89e0eb06297efd5",
   "execution_count": null
  },
  {
   "cell_type": "code",
   "outputs": [],
   "source": [
    "vis_write_ocel('12', True, True, 'adtc', ['C3'], '2024-03-25 11:19:41', '2024-03-25 11:23:35')"
   ],
   "metadata": {
    "collapsed": false
   },
   "id": "177d590eb4f880ca",
   "execution_count": null
  },
  {
   "cell_type": "code",
   "outputs": [],
   "source": [
    "vis_write_ocel('13', True, True, 'adtc','', '2024-03-25 11:31:40', '2024-03-25 11:40:21')"
   ],
   "metadata": {
    "collapsed": false
   },
   "id": "83415ba47843e332",
   "execution_count": null
  },
  {
   "cell_type": "code",
   "outputs": [],
   "source": [
    "vis_write_ocel('14', True, True,'ssaco', '', '2024-03-25 11:50:46', '2024-03-25 11:51:37')"
   ],
   "metadata": {
    "collapsed": false
   },
   "id": "971fe3e9fc3b5ea9",
   "execution_count": null
  },
  {
   "cell_type": "code",
   "outputs": [],
   "source": [
    "vis_write_ocel('15', True, True, 'adtc1', ['C7'], '2024-03-25 11:55:47', '2024-03-25 11:58:08')\n",
    "vis_write_ocel('15', True, True, 'adtc2', ['C7'], '2024-03-25 11:59:45', '2024-03-25 12:00:59')"
   ],
   "metadata": {
    "collapsed": false
   },
   "id": "79f0cf4418e7ac2f",
   "execution_count": null
  }
 ],
 "metadata": {
  "kernelspec": {
   "display_name": "Python 3",
   "language": "python",
   "name": "python3"
  },
  "language_info": {
   "codemirror_mode": {
    "name": "ipython",
    "version": 2
   },
   "file_extension": ".py",
   "mimetype": "text/x-python",
   "name": "python",
   "nbconvert_exporter": "python",
   "pygments_lexer": "ipython2",
   "version": "2.7.6"
  }
 },
 "nbformat": 4,
 "nbformat_minor": 5
}
